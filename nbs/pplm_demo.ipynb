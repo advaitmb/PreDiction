{
 "cells": [
  {
   "cell_type": "code",
   "execution_count": 1,
   "metadata": {},
   "outputs": [
    {
     "data": {
      "application/vnd.jupyter.widget-view+json": {
       "model_id": "4b8e364e5b43478594ce6b1b93fd689a",
       "version_major": 2,
       "version_minor": 0
      },
      "text/plain": [
       "HBox(children=(HTML(value='Downloading'), FloatProgress(value=0.0, max=718.0), HTML(value='')))"
      ]
     },
     "metadata": {},
     "output_type": "display_data"
    },
    {
     "name": "stdout",
     "output_type": "stream",
     "text": [
      "\n"
     ]
    },
    {
     "data": {
      "application/vnd.jupyter.widget-view+json": {
       "model_id": "714e4ce61d2a4225a63f85df3541114e",
       "version_major": 2,
       "version_minor": 0
      },
      "text/plain": [
       "HBox(children=(HTML(value='Downloading'), FloatProgress(value=0.0, max=1520013706.0), HTML(value='')))"
      ]
     },
     "metadata": {},
     "output_type": "display_data"
    },
    {
     "name": "stdout",
     "output_type": "stream",
     "text": [
      "\n"
     ]
    }
   ],
   "source": [
    "from transformers.modeling_gpt2 import GPT2LMHeadModel\n",
    "# This downloads GPT-2 Medium, it takes a little while\n",
    "_ = GPT2LMHeadModel.from_pretrained(\"gpt2-medium\")"
   ]
  },
  {
   "cell_type": "code",
   "execution_count": 5,
   "metadata": {},
   "outputs": [],
   "source": [
    "import os\n",
    "os.chdir('/home/advaitmb/notebooks/PPLM')\n",
    "from run_pplm import run_pplm_example"
   ]
  },
  {
   "cell_type": "code",
   "execution_count": 9,
   "metadata": {},
   "outputs": [
    {
     "name": "stdout",
     "output_type": "stream",
     "text": [
      "= Prefix of sentence =\n",
      "<|endoftext|>This movie is \n",
      "\n",
      "Using PPLM-Discrim\n",
      "<|endoftext|>This movie is ____\n",
      "<|endoftext|>This movie is ____!\n",
      "<|endoftext|>This movie is ____!\n",
      "\n",
      "<|endoftext|>This movie is ____!\n",
      "\n",
      "\n",
      "<|endoftext|>This movie is ____!\n",
      "\n",
      "This\n",
      "<|endoftext|>This movie is  \n",
      "<|endoftext|>This movie is  a\n",
      "<|endoftext|>This movie is  a classic\n",
      "<|endoftext|>This movie is  a classic,\n",
      "<|endoftext|>This movie is  a classic, but\n",
      "================================================================================\n",
      "= Unperturbed generated text =\n",
      "<|endoftext|>This movie is ____!\n",
      "\n",
      "This\n",
      "\n",
      "= Perturbed generated text 1 =\n",
      "<|endoftext|>This movie is  a classic, but\n",
      "\n"
     ]
    }
   ],
   "source": [
    "run_pplm_example(\n",
    "    cond_text=\"This movie is \",\n",
    "    num_samples=1,\n",
    "    discrim='sentiment',\n",
    "    class_label='very_positive',\n",
    "    length=5,\n",
    "    stepsize=0.05,\n",
    "    sample=True,\n",
    "    num_iterations=1,\n",
    "    gamma=1,\n",
    "    gm_scale=0.9,\n",
    "    kl_scale=0.02,\n",
    "    verbosity='low'\n",
    ")"
   ]
  },
  {
   "cell_type": "code",
   "execution_count": null,
   "metadata": {},
   "outputs": [],
   "source": []
  }
 ],
 "metadata": {
  "kernelspec": {
   "display_name": "pplm",
   "language": "python",
   "name": "pplm"
  },
  "language_info": {
   "codemirror_mode": {
    "name": "ipython",
    "version": 3
   },
   "file_extension": ".py",
   "mimetype": "text/x-python",
   "name": "python",
   "nbconvert_exporter": "python",
   "pygments_lexer": "ipython3",
   "version": "3.8.5"
  }
 },
 "nbformat": 4,
 "nbformat_minor": 4
}
