{
 "cells": [
  {
   "cell_type": "code",
   "execution_count": 1,
   "metadata": {},
   "outputs": [],
   "source": [
    "from fastai.text.all import *\n",
    "import fastai"
   ]
  },
  {
   "cell_type": "code",
   "execution_count": 2,
   "metadata": {},
   "outputs": [
    {
     "data": {
      "text/plain": [
       "'2.0.19'"
      ]
     },
     "execution_count": 2,
     "metadata": {},
     "output_type": "execute_result"
    }
   ],
   "source": [
    "fastai.__version__"
   ]
  },
  {
   "cell_type": "code",
   "execution_count": 4,
   "metadata": {},
   "outputs": [
    {
     "data": {
      "text/plain": [
       "(#8) [Path('/home/advaitmb/.fastai/data/imdb/imdb.vocab'),Path('/home/advaitmb/.fastai/data/imdb/tmp_clas'),Path('/home/advaitmb/.fastai/data/imdb/test'),Path('/home/advaitmb/.fastai/data/imdb/train'),Path('/home/advaitmb/.fastai/data/imdb/unsup'),Path('/home/advaitmb/.fastai/data/imdb/models'),Path('/home/advaitmb/.fastai/data/imdb/tmp_lm'),Path('/home/advaitmb/.fastai/data/imdb/README')]"
      ]
     },
     "execution_count": 4,
     "metadata": {},
     "output_type": "execute_result"
    }
   ],
   "source": [
    "path = untar_data(URLs.IMDB)\n",
    "path.ls()"
   ]
  },
  {
   "cell_type": "code",
   "execution_count": 2,
   "metadata": {},
   "outputs": [],
   "source": [
    "path = Path('/home/advaitmb/notebooks/projects/PreDiction/nbs')"
   ]
  },
  {
   "cell_type": "code",
   "execution_count": 5,
   "metadata": {},
   "outputs": [],
   "source": [
    "dls_lm = TextDataLoaders.from_folder(path, is_lm=True, valid_pct=0.1)"
   ]
  },
  {
   "cell_type": "code",
   "execution_count": 6,
   "metadata": {},
   "outputs": [
    {
     "data": {
      "text/html": [
       "<table border=\"1\" class=\"dataframe\">\n",
       "  <thead>\n",
       "    <tr style=\"text-align: right;\">\n",
       "      <th></th>\n",
       "      <th>text</th>\n",
       "      <th>text_</th>\n",
       "    </tr>\n",
       "  </thead>\n",
       "  <tbody>\n",
       "    <tr>\n",
       "      <th>0</th>\n",
       "      <td>xxbos i had a different experience with this movie - it never got charming , or delightful , or funny for me . one big clue that this was not your typical movie was that the label gave no indication of the xxmaj xxunk ) spoken in the film . another was the lack of choices re subtitles . \\n\\n i found the lack of dialogue annoying , especially when accompanied by</td>\n",
       "      <td>i had a different experience with this movie - it never got charming , or delightful , or funny for me . one big clue that this was not your typical movie was that the label gave no indication of the xxmaj xxunk ) spoken in the film . another was the lack of choices re subtitles . \\n\\n i found the lack of dialogue annoying , especially when accompanied by exaggerated</td>\n",
       "    </tr>\n",
       "    <tr>\n",
       "      <th>1</th>\n",
       "      <td>the line into soppy sentimentality . xxmaj naturally sweet - no added sugar . \\n\\n xxmaj one small point : it seems to me that the mild objections raised about xxmaj ustinov 's character xxmaj pendelton being able to walk in and defeat the system security ignore the fact that xxmaj pendelton is clearly a genius / savant at this sort of thing . xxmaj yes , the film was pretty computer</td>\n",
       "      <td>line into soppy sentimentality . xxmaj naturally sweet - no added sugar . \\n\\n xxmaj one small point : it seems to me that the mild objections raised about xxmaj ustinov 's character xxmaj pendelton being able to walk in and defeat the system security ignore the fact that xxmaj pendelton is clearly a genius / savant at this sort of thing . xxmaj yes , the film was pretty computer illiterate</td>\n",
       "    </tr>\n",
       "    <tr>\n",
       "      <th>2</th>\n",
       "      <td>does follow the same spirit as all the other xxmaj troma movies [ except xxmaj combat xxmaj shock … that sucker was depressing ] but it 's not only for xxmaj troma fans . xxmaj anybody who appreciates lowbrow visuals and a hilarious script will without a doubt fall in love with this movie . \\n\\n xxmaj do n't expect pretentious , artistic - wannabe crap like the version of xxup xxunk</td>\n",
       "      <td>follow the same spirit as all the other xxmaj troma movies [ except xxmaj combat xxmaj shock … that sucker was depressing ] but it 's not only for xxmaj troma fans . xxmaj anybody who appreciates lowbrow visuals and a hilarious script will without a doubt fall in love with this movie . \\n\\n xxmaj do n't expect pretentious , artistic - wannabe crap like the version of xxup xxunk with</td>\n",
       "    </tr>\n",
       "    <tr>\n",
       "      <th>3</th>\n",
       "      <td>but no music , and the silly xxmaj american influenced \" kings \" who have music but no girls . xxmaj the \" ins \" show ingenuity in xxunk the situation . \\n\\n xxmaj absa uses local residents of xxmaj popenguine , xxmaj senegal for his movie , not actors . xxmaj it is filmed on location by xxmaj africans . xxmaj this works well to provide an authentic setting and to</td>\n",
       "      <td>no music , and the silly xxmaj american influenced \" kings \" who have music but no girls . xxmaj the \" ins \" show ingenuity in xxunk the situation . \\n\\n xxmaj absa uses local residents of xxmaj popenguine , xxmaj senegal for his movie , not actors . xxmaj it is filmed on location by xxmaj africans . xxmaj this works well to provide an authentic setting and to show</td>\n",
       "    </tr>\n",
       "    <tr>\n",
       "      <th>4</th>\n",
       "      <td>, and we still \" crack - up \" when we think about it xxrep 3 ! xxmaj the expressions on the faces , the antics , the characters , the situations , are truly inspired . i was not aware , although not surprised , that there was a whole series of episodes \" spinning - off \" from this original , and i would n't mind seeing those . xxmaj</td>\n",
       "      <td>and we still \" crack - up \" when we think about it xxrep 3 ! xxmaj the expressions on the faces , the antics , the characters , the situations , are truly inspired . i was not aware , although not surprised , that there was a whole series of episodes \" spinning - off \" from this original , and i would n't mind seeing those . xxmaj sometimes</td>\n",
       "    </tr>\n",
       "    <tr>\n",
       "      <th>5</th>\n",
       "      <td>jason xxmaj mewes to play xxmaj jay . xxmaj universal did n't want jay to play jay , they wanted xxmaj seth xxmaj green or xxmaj breckin xxmaj meyer , but even they realized that xxmaj jay should be xxmaj jay , xxmaj jay is based on the way xxmaj jason xxmaj mewes really is . i do think that xxmaj affleck was good as an asshole , but he probably could</td>\n",
       "      <td>xxmaj mewes to play xxmaj jay . xxmaj universal did n't want jay to play jay , they wanted xxmaj seth xxmaj green or xxmaj breckin xxmaj meyer , but even they realized that xxmaj jay should be xxmaj jay , xxmaj jay is based on the way xxmaj jason xxmaj mewes really is . i do think that xxmaj affleck was good as an asshole , but he probably could have</td>\n",
       "    </tr>\n",
       "    <tr>\n",
       "      <th>6</th>\n",
       "      <td>life ? \" indiscriminately to air stewardesses and pieces of broccoli ) . \\n\\n xxmaj amongst all this mish - mash of colour , lunacy , absurdity , and surrealism lies a a big heart . xxmaj while almost completely disparate in some places , the movie ends in a surprisingly satisfying manner ( in fact , it 's one of the best endings i could imagine for a movie so off</td>\n",
       "      <td>? \" indiscriminately to air stewardesses and pieces of broccoli ) . \\n\\n xxmaj amongst all this mish - mash of colour , lunacy , absurdity , and surrealism lies a a big heart . xxmaj while almost completely disparate in some places , the movie ends in a surprisingly satisfying manner ( in fact , it 's one of the best endings i could imagine for a movie so off -</td>\n",
       "    </tr>\n",
       "    <tr>\n",
       "      <th>7</th>\n",
       "      <td>of xxmaj ira xxmaj hayes by xxmaj adam xxmaj beach deserves particular recognition . xxmaj hayes is a tragic , tormented figure . xxmaj adam xxmaj beach carries it off with tender sincerity . \\n\\n xxmaj special effects technology has evolved to a new level in the recreation of war . xxmaj the battle scenes , sometimes gruesome , were realistic . \\n\\n xxmaj it deserves xxmaj oscar nominations across the board</td>\n",
       "      <td>xxmaj ira xxmaj hayes by xxmaj adam xxmaj beach deserves particular recognition . xxmaj hayes is a tragic , tormented figure . xxmaj adam xxmaj beach carries it off with tender sincerity . \\n\\n xxmaj special effects technology has evolved to a new level in the recreation of war . xxmaj the battle scenes , sometimes gruesome , were realistic . \\n\\n xxmaj it deserves xxmaj oscar nominations across the board .</td>\n",
       "    </tr>\n",
       "    <tr>\n",
       "      <th>8</th>\n",
       "      <td>type of role . xxmaj vince xxmaj vaughn also gives a funny performance though he started to get annoying before the end . xxmaj surprisingly , xxmaj uma xxmaj thurman gives an average performance and i was expecting more from her . xxmaj john xxmaj travolta returns as xxmaj chili and he does an okay job . xxmaj his performance is kind of dull though . xxmaj christina xxmaj milian gives a</td>\n",
       "      <td>of role . xxmaj vince xxmaj vaughn also gives a funny performance though he started to get annoying before the end . xxmaj surprisingly , xxmaj uma xxmaj thurman gives an average performance and i was expecting more from her . xxmaj john xxmaj travolta returns as xxmaj chili and he does an okay job . xxmaj his performance is kind of dull though . xxmaj christina xxmaj milian gives a horrible</td>\n",
       "    </tr>\n",
       "  </tbody>\n",
       "</table>"
      ],
      "text/plain": [
       "<IPython.core.display.HTML object>"
      ]
     },
     "metadata": {},
     "output_type": "display_data"
    }
   ],
   "source": [
    "dls_lm.show_batch()"
   ]
  },
  {
   "cell_type": "code",
   "execution_count": 7,
   "metadata": {},
   "outputs": [],
   "source": [
    "learn_lm = language_model_learner(dls_lm, AWD_LSTM, metrics=[accuracy, Perplexity()], path=path, wd=0.1).to_fp16()"
   ]
  },
  {
   "cell_type": "code",
   "execution_count": 48,
   "metadata": {},
   "outputs": [
    {
     "name": "stdout",
     "output_type": "stream",
     "text": [
      "1\n",
      "0\n",
      "Tesla K80\n"
     ]
    }
   ],
   "source": [
    "print(torch.cuda.device_count())\n",
    "print(torch.cuda.current_device())\n",
    "print(torch.cuda.get_device_name(torch.cuda.current_device()))"
   ]
  },
  {
   "cell_type": "code",
   "execution_count": 24,
   "metadata": {},
   "outputs": [
    {
     "data": {
      "text/html": [
       "<table border=\"1\" class=\"dataframe\">\n",
       "  <thead>\n",
       "    <tr style=\"text-align: left;\">\n",
       "      <th>epoch</th>\n",
       "      <th>train_loss</th>\n",
       "      <th>valid_loss</th>\n",
       "      <th>accuracy</th>\n",
       "      <th>perplexity</th>\n",
       "      <th>time</th>\n",
       "    </tr>\n",
       "  </thead>\n",
       "  <tbody>\n",
       "    <tr>\n",
       "      <td>0</td>\n",
       "      <td>4.550113</td>\n",
       "      <td>4.124372</td>\n",
       "      <td>0.285586</td>\n",
       "      <td>61.828968</td>\n",
       "      <td>2:09:19</td>\n",
       "    </tr>\n",
       "  </tbody>\n",
       "</table>"
      ],
      "text/plain": [
       "<IPython.core.display.HTML object>"
      ]
     },
     "metadata": {},
     "output_type": "display_data"
    }
   ],
   "source": [
    "learn_lm.fit_one_cycle(1, 1e-2)"
   ]
  },
  {
   "cell_type": "code",
   "execution_count": 26,
   "metadata": {},
   "outputs": [
    {
     "data": {
      "text/html": [],
      "text/plain": [
       "<IPython.core.display.HTML object>"
      ]
     },
     "metadata": {},
     "output_type": "display_data"
    },
    {
     "data": {
      "text/plain": [
       "'This is a long - run , wherein Mr . Sondheim can perform a seemingly contradictory , difficult movie .'"
      ]
     },
     "execution_count": 26,
     "metadata": {},
     "output_type": "execute_result"
    }
   ],
   "source": [
    "learn_lm.predict(\"This is \", n_words=20)"
   ]
  },
  {
   "cell_type": "code",
   "execution_count": 3,
   "metadata": {},
   "outputs": [],
   "source": [
    "learn_lm = load_learner('/home/advaitmb/notebooks/projects/PreDiction/api/5epochs_imdb_lm.pkl')"
   ]
  },
  {
   "cell_type": "code",
   "execution_count": 4,
   "metadata": {},
   "outputs": [],
   "source": [
    "learn = load_learner('/home/advaitmb/notebooks/projects/PreDiction/api/imdb_sentiment_classifier.pkl')"
   ]
  },
  {
   "cell_type": "code",
   "execution_count": 20,
   "metadata": {},
   "outputs": [],
   "source": [
    "learn_lm.path = Path('/home/advaitmb/notebooks/projects/PreDiction/nbs/')"
   ]
  },
  {
   "cell_type": "code",
   "execution_count": 17,
   "metadata": {},
   "outputs": [
    {
     "data": {
      "text/plain": [
       "Path('/home/advaitmb/notebooks/projects/PreDiction/nbs/test.pth')"
      ]
     },
     "execution_count": 17,
     "metadata": {},
     "output_type": "execute_result"
    }
   ],
   "source": [
    "learn_lm.save('/home/advaitmb/notebooks/projects/PreDiction/nbs/test')"
   ]
  },
  {
   "cell_type": "code",
   "execution_count": 5,
   "metadata": {},
   "outputs": [
    {
     "data": {
      "text/html": [],
      "text/plain": [
       "<IPython.core.display.HTML object>"
      ]
     },
     "metadata": {},
     "output_type": "display_data"
    },
    {
     "data": {
      "text/plain": [
       "\"some people believe this movie is a comedy , and it is not . It 's about a man who has no idea what he 's doing and who is involved in it , to his wife , his wife , and\""
      ]
     },
     "execution_count": 5,
     "metadata": {},
     "output_type": "execute_result"
    }
   ],
   "source": [
    "learn_lm.predict(\"some people believe\", n_words=40, temperature=0.7)"
   ]
  },
  {
   "cell_type": "code",
   "execution_count": 21,
   "metadata": {},
   "outputs": [],
   "source": [
    "learn_lm.save_encoder('finetuned')"
   ]
  },
  {
   "cell_type": "code",
   "execution_count": 22,
   "metadata": {},
   "outputs": [],
   "source": [
    "dls_clas = TextDataLoaders.from_folder(untar_data(URLs.IMDB), valid='test', text_vocab=dls_lm.vocab)"
   ]
  },
  {
   "cell_type": "code",
   "execution_count": 23,
   "metadata": {},
   "outputs": [],
   "source": [
    "learn = text_classifier_learner(dls_clas, AWD_LSTM, drop_mult=0.5, metrics=accuracy)"
   ]
  },
  {
   "cell_type": "code",
   "execution_count": 24,
   "metadata": {},
   "outputs": [],
   "source": [
    "learn = learn.load_encoder('finetuned')"
   ]
  },
  {
   "cell_type": "code",
   "execution_count": 25,
   "metadata": {},
   "outputs": [
    {
     "data": {
      "text/html": [
       "<table border=\"1\" class=\"dataframe\">\n",
       "  <thead>\n",
       "    <tr style=\"text-align: left;\">\n",
       "      <th>epoch</th>\n",
       "      <th>train_loss</th>\n",
       "      <th>valid_loss</th>\n",
       "      <th>accuracy</th>\n",
       "      <th>time</th>\n",
       "    </tr>\n",
       "  </thead>\n",
       "  <tbody>\n",
       "    <tr>\n",
       "      <td>0</td>\n",
       "      <td>0.579591</td>\n",
       "      <td>0.377221</td>\n",
       "      <td>0.832360</td>\n",
       "      <td>07:28</td>\n",
       "    </tr>\n",
       "  </tbody>\n",
       "</table>"
      ],
      "text/plain": [
       "<IPython.core.display.HTML object>"
      ]
     },
     "metadata": {},
     "output_type": "display_data"
    }
   ],
   "source": [
    "learn.fit_one_cycle(1, 2e-2)"
   ]
  },
  {
   "cell_type": "code",
   "execution_count": 26,
   "metadata": {},
   "outputs": [
    {
     "data": {
      "text/html": [
       "<table border=\"1\" class=\"dataframe\">\n",
       "  <thead>\n",
       "    <tr style=\"text-align: left;\">\n",
       "      <th>epoch</th>\n",
       "      <th>train_loss</th>\n",
       "      <th>valid_loss</th>\n",
       "      <th>accuracy</th>\n",
       "      <th>time</th>\n",
       "    </tr>\n",
       "  </thead>\n",
       "  <tbody>\n",
       "    <tr>\n",
       "      <td>0</td>\n",
       "      <td>0.369226</td>\n",
       "      <td>0.269467</td>\n",
       "      <td>0.888720</td>\n",
       "      <td>08:19</td>\n",
       "    </tr>\n",
       "  </tbody>\n",
       "</table>"
      ],
      "text/plain": [
       "<IPython.core.display.HTML object>"
      ]
     },
     "metadata": {},
     "output_type": "display_data"
    }
   ],
   "source": [
    "learn.freeze_to(-2)\n",
    "learn.fit_one_cycle(1, slice(1e-2/(2.6**4),1e-2))"
   ]
  },
  {
   "cell_type": "code",
   "execution_count": 27,
   "metadata": {},
   "outputs": [
    {
     "data": {
      "text/html": [
       "<table border=\"1\" class=\"dataframe\">\n",
       "  <thead>\n",
       "    <tr style=\"text-align: left;\">\n",
       "      <th>epoch</th>\n",
       "      <th>train_loss</th>\n",
       "      <th>valid_loss</th>\n",
       "      <th>accuracy</th>\n",
       "      <th>time</th>\n",
       "    </tr>\n",
       "  </thead>\n",
       "  <tbody>\n",
       "    <tr>\n",
       "      <td>0</td>\n",
       "      <td>0.273259</td>\n",
       "      <td>0.213489</td>\n",
       "      <td>0.916640</td>\n",
       "      <td>11:56</td>\n",
       "    </tr>\n",
       "  </tbody>\n",
       "</table>"
      ],
      "text/plain": [
       "<IPython.core.display.HTML object>"
      ]
     },
     "metadata": {},
     "output_type": "display_data"
    }
   ],
   "source": [
    "learn.freeze_to(-3)\n",
    "learn.fit_one_cycle(1, slice(5e-3/(2.6**4),5e-3))"
   ]
  },
  {
   "cell_type": "code",
   "execution_count": 28,
   "metadata": {},
   "outputs": [
    {
     "data": {
      "text/html": [
       "<table border=\"1\" class=\"dataframe\">\n",
       "  <thead>\n",
       "    <tr style=\"text-align: left;\">\n",
       "      <th>epoch</th>\n",
       "      <th>train_loss</th>\n",
       "      <th>valid_loss</th>\n",
       "      <th>accuracy</th>\n",
       "      <th>time</th>\n",
       "    </tr>\n",
       "  </thead>\n",
       "  <tbody>\n",
       "    <tr>\n",
       "      <td>0</td>\n",
       "      <td>0.223270</td>\n",
       "      <td>0.205274</td>\n",
       "      <td>0.919680</td>\n",
       "      <td>14:58</td>\n",
       "    </tr>\n",
       "    <tr>\n",
       "      <td>1</td>\n",
       "      <td>0.211528</td>\n",
       "      <td>0.202441</td>\n",
       "      <td>0.923600</td>\n",
       "      <td>15:01</td>\n",
       "    </tr>\n",
       "  </tbody>\n",
       "</table>"
      ],
      "text/plain": [
       "<IPython.core.display.HTML object>"
      ]
     },
     "metadata": {},
     "output_type": "display_data"
    }
   ],
   "source": [
    "learn.unfreeze()\n",
    "learn.fit_one_cycle(2, slice(1e-3/(2.6**4),1e-3))"
   ]
  },
  {
   "cell_type": "code",
   "execution_count": 29,
   "metadata": {},
   "outputs": [],
   "source": [
    "learn.export('/home/advaitmb/notebooks/projects/PreDiction/api/imdb_sentiment_classifier.pkl')"
   ]
  },
  {
   "cell_type": "code",
   "execution_count": 8,
   "metadata": {},
   "outputs": [],
   "source": [
    "learn.predict??"
   ]
  },
  {
   "cell_type": "code",
   "execution_count": 60,
   "metadata": {},
   "outputs": [
    {
     "data": {
      "text/plain": [
       "tensor([0.2340, 0.2140])"
      ]
     },
     "execution_count": 60,
     "metadata": {},
     "output_type": "execute_result"
    }
   ],
   "source": [
    "torch.Tensor([torch.Tensor([0.234]), torch.Tensor([0.214]), torch.Tensor([0.3334]), torch.Tensor([0.231])])[[0,1]]"
   ]
  },
  {
   "cell_type": "code",
   "execution_count": 7,
   "metadata": {},
   "outputs": [],
   "source": [
    "def beam_search(learn, clf, bias, text:str, n_words:int, no_unk:bool=True, top_k:int=10, beam_sz:int=100, temperature:float=1.,\n",
    "                    sep:str=' ', decoder=decode_spec_tokens):\n",
    "    learn.model.reset()\n",
    "    learn.model.eval()\n",
    "    learn.model.cuda()\n",
    "    clf.model.cuda()\n",
    "    idx = learn.dls.test_dl([text]).items[0][None].cuda()\n",
    "    nodes = None\n",
    "    nodes = idx.clone().cuda()\n",
    "    scores = idx.new_zeros(1).float()\n",
    "    if no_unk: unk_idx = learn.dls.vocab.index(UNK)\n",
    "    with torch.no_grad():\n",
    "        for k in progress_bar(range(n_words), leave=False):\n",
    "            out = F.log_softmax(learn.model(idx)[0][:,-1], dim=-1)\n",
    "            if no_unk: out[:, unk_idx] = -float('Inf')\n",
    "            values, indices = out.topk(top_k, dim=-1)\n",
    "            scores = (-values + scores[:,None]).view(-1)\n",
    "            indices_idx = torch.arange(0,nodes.size(0))[:,None].expand(nodes.size(0), top_k).contiguous().view(-1)\n",
    "            sort_idx = scores.argsort()[:beam_sz]\n",
    "            scores = scores[sort_idx]\n",
    "            nodes = torch.cat([nodes[:,None].expand(nodes.size(0),top_k,nodes.size(1)),\n",
    "                                    indices[:,:,None].expand(nodes.size(0),top_k,1),], dim=2)\n",
    "            nodes = nodes.view(-1, nodes.size(2))[sort_idx]\n",
    "            learn.hidden = [(h[0][:,indices_idx[sort_idx],:],h[1][:,indices_idx[sort_idx],:]) for h in learn.model[0].hidden]\n",
    "            idx = nodes[:,-1][:,None]\n",
    "        if temperature != 1.: scores.div_(temperature)\n",
    "        \n",
    "        num = learn.dls.train_ds.numericalize\n",
    "        sep = learn.dls.train_ds.tokenizer.sep\n",
    "        bias_idx = []\n",
    "        for idx, node in enumerate(nodes):\n",
    "            tokens = [num.vocab[i] for i in node if num.vocab[i] not in [BOS, PAD]]\n",
    "            phrase = sep.join(decoder(tokens))\n",
    "            if clf.predict(phrase)[0] == bias:\n",
    "                bias_idx.append(idx)\n",
    "        print(bias_idx)\n",
    "        node_idx = torch.multinomial(torch.exp(-scores[bias_idx]), 1).item()\n",
    "        print(node_idx)\n",
    "        tokens = [num.vocab[i] for i in nodes[node_idx][1:] if num.vocab[i] not in [BOS, PAD]]\n",
    "        sep = learn.dls.train_ds.tokenizer.sep\n",
    "        return sep.join(decoder(tokens))"
   ]
  },
  {
   "cell_type": "code",
   "execution_count": 8,
   "metadata": {},
   "outputs": [
    {
     "data": {
      "text/html": [],
      "text/plain": [
       "<IPython.core.display.HTML object>"
      ]
     },
     "metadata": {},
     "output_type": "display_data"
    },
    {
     "data": {
      "text/html": [],
      "text/plain": [
       "<IPython.core.display.HTML object>"
      ]
     },
     "metadata": {},
     "output_type": "display_data"
    },
    {
     "data": {
      "text/html": [],
      "text/plain": [
       "<IPython.core.display.HTML object>"
      ]
     },
     "metadata": {},
     "output_type": "display_data"
    },
    {
     "data": {
      "text/html": [],
      "text/plain": [
       "<IPython.core.display.HTML object>"
      ]
     },
     "metadata": {},
     "output_type": "display_data"
    },
    {
     "data": {
      "text/html": [],
      "text/plain": [
       "<IPython.core.display.HTML object>"
      ]
     },
     "metadata": {},
     "output_type": "display_data"
    },
    {
     "data": {
      "text/html": [],
      "text/plain": [
       "<IPython.core.display.HTML object>"
      ]
     },
     "metadata": {},
     "output_type": "display_data"
    },
    {
     "data": {
      "text/html": [],
      "text/plain": [
       "<IPython.core.display.HTML object>"
      ]
     },
     "metadata": {},
     "output_type": "display_data"
    },
    {
     "data": {
      "text/html": [],
      "text/plain": [
       "<IPython.core.display.HTML object>"
      ]
     },
     "metadata": {},
     "output_type": "display_data"
    },
    {
     "data": {
      "text/html": [],
      "text/plain": [
       "<IPython.core.display.HTML object>"
      ]
     },
     "metadata": {},
     "output_type": "display_data"
    },
    {
     "data": {
      "text/html": [],
      "text/plain": [
       "<IPython.core.display.HTML object>"
      ]
     },
     "metadata": {},
     "output_type": "display_data"
    },
    {
     "data": {
      "text/html": [],
      "text/plain": [
       "<IPython.core.display.HTML object>"
      ]
     },
     "metadata": {},
     "output_type": "display_data"
    },
    {
     "data": {
      "text/html": [],
      "text/plain": [
       "<IPython.core.display.HTML object>"
      ]
     },
     "metadata": {},
     "output_type": "display_data"
    },
    {
     "data": {
      "text/html": [],
      "text/plain": [
       "<IPython.core.display.HTML object>"
      ]
     },
     "metadata": {},
     "output_type": "display_data"
    },
    {
     "data": {
      "text/html": [],
      "text/plain": [
       "<IPython.core.display.HTML object>"
      ]
     },
     "metadata": {},
     "output_type": "display_data"
    },
    {
     "data": {
      "text/html": [],
      "text/plain": [
       "<IPython.core.display.HTML object>"
      ]
     },
     "metadata": {},
     "output_type": "display_data"
    },
    {
     "data": {
      "text/html": [],
      "text/plain": [
       "<IPython.core.display.HTML object>"
      ]
     },
     "metadata": {},
     "output_type": "display_data"
    },
    {
     "data": {
      "text/html": [],
      "text/plain": [
       "<IPython.core.display.HTML object>"
      ]
     },
     "metadata": {},
     "output_type": "display_data"
    },
    {
     "data": {
      "text/html": [],
      "text/plain": [
       "<IPython.core.display.HTML object>"
      ]
     },
     "metadata": {},
     "output_type": "display_data"
    },
    {
     "data": {
      "text/html": [],
      "text/plain": [
       "<IPython.core.display.HTML object>"
      ]
     },
     "metadata": {},
     "output_type": "display_data"
    },
    {
     "data": {
      "text/html": [],
      "text/plain": [
       "<IPython.core.display.HTML object>"
      ]
     },
     "metadata": {},
     "output_type": "display_data"
    },
    {
     "data": {
      "text/html": [],
      "text/plain": [
       "<IPython.core.display.HTML object>"
      ]
     },
     "metadata": {},
     "output_type": "display_data"
    },
    {
     "data": {
      "text/html": [],
      "text/plain": [
       "<IPython.core.display.HTML object>"
      ]
     },
     "metadata": {},
     "output_type": "display_data"
    },
    {
     "data": {
      "text/html": [],
      "text/plain": [
       "<IPython.core.display.HTML object>"
      ]
     },
     "metadata": {},
     "output_type": "display_data"
    },
    {
     "data": {
      "text/html": [],
      "text/plain": [
       "<IPython.core.display.HTML object>"
      ]
     },
     "metadata": {},
     "output_type": "display_data"
    },
    {
     "data": {
      "text/html": [],
      "text/plain": [
       "<IPython.core.display.HTML object>"
      ]
     },
     "metadata": {},
     "output_type": "display_data"
    },
    {
     "data": {
      "text/html": [],
      "text/plain": [
       "<IPython.core.display.HTML object>"
      ]
     },
     "metadata": {},
     "output_type": "display_data"
    },
    {
     "data": {
      "text/html": [],
      "text/plain": [
       "<IPython.core.display.HTML object>"
      ]
     },
     "metadata": {},
     "output_type": "display_data"
    },
    {
     "data": {
      "text/html": [],
      "text/plain": [
       "<IPython.core.display.HTML object>"
      ]
     },
     "metadata": {},
     "output_type": "display_data"
    },
    {
     "data": {
      "text/html": [],
      "text/plain": [
       "<IPython.core.display.HTML object>"
      ]
     },
     "metadata": {},
     "output_type": "display_data"
    },
    {
     "data": {
      "text/html": [],
      "text/plain": [
       "<IPython.core.display.HTML object>"
      ]
     },
     "metadata": {},
     "output_type": "display_data"
    },
    {
     "data": {
      "text/html": [],
      "text/plain": [
       "<IPython.core.display.HTML object>"
      ]
     },
     "metadata": {},
     "output_type": "display_data"
    },
    {
     "data": {
      "text/html": [],
      "text/plain": [
       "<IPython.core.display.HTML object>"
      ]
     },
     "metadata": {},
     "output_type": "display_data"
    },
    {
     "data": {
      "text/html": [],
      "text/plain": [
       "<IPython.core.display.HTML object>"
      ]
     },
     "metadata": {},
     "output_type": "display_data"
    },
    {
     "data": {
      "text/html": [],
      "text/plain": [
       "<IPython.core.display.HTML object>"
      ]
     },
     "metadata": {},
     "output_type": "display_data"
    },
    {
     "data": {
      "text/html": [],
      "text/plain": [
       "<IPython.core.display.HTML object>"
      ]
     },
     "metadata": {},
     "output_type": "display_data"
    },
    {
     "data": {
      "text/html": [],
      "text/plain": [
       "<IPython.core.display.HTML object>"
      ]
     },
     "metadata": {},
     "output_type": "display_data"
    },
    {
     "data": {
      "text/html": [],
      "text/plain": [
       "<IPython.core.display.HTML object>"
      ]
     },
     "metadata": {},
     "output_type": "display_data"
    },
    {
     "data": {
      "text/html": [],
      "text/plain": [
       "<IPython.core.display.HTML object>"
      ]
     },
     "metadata": {},
     "output_type": "display_data"
    },
    {
     "data": {
      "text/html": [],
      "text/plain": [
       "<IPython.core.display.HTML object>"
      ]
     },
     "metadata": {},
     "output_type": "display_data"
    },
    {
     "data": {
      "text/html": [],
      "text/plain": [
       "<IPython.core.display.HTML object>"
      ]
     },
     "metadata": {},
     "output_type": "display_data"
    },
    {
     "data": {
      "text/html": [],
      "text/plain": [
       "<IPython.core.display.HTML object>"
      ]
     },
     "metadata": {},
     "output_type": "display_data"
    },
    {
     "data": {
      "text/html": [],
      "text/plain": [
       "<IPython.core.display.HTML object>"
      ]
     },
     "metadata": {},
     "output_type": "display_data"
    },
    {
     "data": {
      "text/html": [],
      "text/plain": [
       "<IPython.core.display.HTML object>"
      ]
     },
     "metadata": {},
     "output_type": "display_data"
    },
    {
     "data": {
      "text/html": [],
      "text/plain": [
       "<IPython.core.display.HTML object>"
      ]
     },
     "metadata": {},
     "output_type": "display_data"
    },
    {
     "data": {
      "text/html": [],
      "text/plain": [
       "<IPython.core.display.HTML object>"
      ]
     },
     "metadata": {},
     "output_type": "display_data"
    },
    {
     "data": {
      "text/html": [],
      "text/plain": [
       "<IPython.core.display.HTML object>"
      ]
     },
     "metadata": {},
     "output_type": "display_data"
    },
    {
     "data": {
      "text/html": [],
      "text/plain": [
       "<IPython.core.display.HTML object>"
      ]
     },
     "metadata": {},
     "output_type": "display_data"
    },
    {
     "data": {
      "text/html": [],
      "text/plain": [
       "<IPython.core.display.HTML object>"
      ]
     },
     "metadata": {},
     "output_type": "display_data"
    },
    {
     "data": {
      "text/html": [],
      "text/plain": [
       "<IPython.core.display.HTML object>"
      ]
     },
     "metadata": {},
     "output_type": "display_data"
    },
    {
     "data": {
      "text/html": [],
      "text/plain": [
       "<IPython.core.display.HTML object>"
      ]
     },
     "metadata": {},
     "output_type": "display_data"
    },
    {
     "data": {
      "text/html": [],
      "text/plain": [
       "<IPython.core.display.HTML object>"
      ]
     },
     "metadata": {},
     "output_type": "display_data"
    },
    {
     "data": {
      "text/html": [],
      "text/plain": [
       "<IPython.core.display.HTML object>"
      ]
     },
     "metadata": {},
     "output_type": "display_data"
    },
    {
     "data": {
      "text/html": [],
      "text/plain": [
       "<IPython.core.display.HTML object>"
      ]
     },
     "metadata": {},
     "output_type": "display_data"
    },
    {
     "data": {
      "text/html": [],
      "text/plain": [
       "<IPython.core.display.HTML object>"
      ]
     },
     "metadata": {},
     "output_type": "display_data"
    },
    {
     "data": {
      "text/html": [],
      "text/plain": [
       "<IPython.core.display.HTML object>"
      ]
     },
     "metadata": {},
     "output_type": "display_data"
    },
    {
     "data": {
      "text/html": [],
      "text/plain": [
       "<IPython.core.display.HTML object>"
      ]
     },
     "metadata": {},
     "output_type": "display_data"
    },
    {
     "data": {
      "text/html": [],
      "text/plain": [
       "<IPython.core.display.HTML object>"
      ]
     },
     "metadata": {},
     "output_type": "display_data"
    },
    {
     "data": {
      "text/html": [],
      "text/plain": [
       "<IPython.core.display.HTML object>"
      ]
     },
     "metadata": {},
     "output_type": "display_data"
    },
    {
     "data": {
      "text/html": [],
      "text/plain": [
       "<IPython.core.display.HTML object>"
      ]
     },
     "metadata": {},
     "output_type": "display_data"
    },
    {
     "data": {
      "text/html": [],
      "text/plain": [
       "<IPython.core.display.HTML object>"
      ]
     },
     "metadata": {},
     "output_type": "display_data"
    },
    {
     "data": {
      "text/html": [],
      "text/plain": [
       "<IPython.core.display.HTML object>"
      ]
     },
     "metadata": {},
     "output_type": "display_data"
    },
    {
     "data": {
      "text/html": [],
      "text/plain": [
       "<IPython.core.display.HTML object>"
      ]
     },
     "metadata": {},
     "output_type": "display_data"
    },
    {
     "data": {
      "text/html": [],
      "text/plain": [
       "<IPython.core.display.HTML object>"
      ]
     },
     "metadata": {},
     "output_type": "display_data"
    },
    {
     "data": {
      "text/html": [],
      "text/plain": [
       "<IPython.core.display.HTML object>"
      ]
     },
     "metadata": {},
     "output_type": "display_data"
    },
    {
     "data": {
      "text/html": [],
      "text/plain": [
       "<IPython.core.display.HTML object>"
      ]
     },
     "metadata": {},
     "output_type": "display_data"
    },
    {
     "data": {
      "text/html": [],
      "text/plain": [
       "<IPython.core.display.HTML object>"
      ]
     },
     "metadata": {},
     "output_type": "display_data"
    },
    {
     "data": {
      "text/html": [],
      "text/plain": [
       "<IPython.core.display.HTML object>"
      ]
     },
     "metadata": {},
     "output_type": "display_data"
    },
    {
     "data": {
      "text/html": [],
      "text/plain": [
       "<IPython.core.display.HTML object>"
      ]
     },
     "metadata": {},
     "output_type": "display_data"
    },
    {
     "data": {
      "text/html": [],
      "text/plain": [
       "<IPython.core.display.HTML object>"
      ]
     },
     "metadata": {},
     "output_type": "display_data"
    },
    {
     "data": {
      "text/html": [],
      "text/plain": [
       "<IPython.core.display.HTML object>"
      ]
     },
     "metadata": {},
     "output_type": "display_data"
    },
    {
     "data": {
      "text/html": [],
      "text/plain": [
       "<IPython.core.display.HTML object>"
      ]
     },
     "metadata": {},
     "output_type": "display_data"
    },
    {
     "data": {
      "text/html": [],
      "text/plain": [
       "<IPython.core.display.HTML object>"
      ]
     },
     "metadata": {},
     "output_type": "display_data"
    },
    {
     "data": {
      "text/html": [],
      "text/plain": [
       "<IPython.core.display.HTML object>"
      ]
     },
     "metadata": {},
     "output_type": "display_data"
    },
    {
     "data": {
      "text/html": [],
      "text/plain": [
       "<IPython.core.display.HTML object>"
      ]
     },
     "metadata": {},
     "output_type": "display_data"
    },
    {
     "data": {
      "text/html": [],
      "text/plain": [
       "<IPython.core.display.HTML object>"
      ]
     },
     "metadata": {},
     "output_type": "display_data"
    },
    {
     "data": {
      "text/html": [],
      "text/plain": [
       "<IPython.core.display.HTML object>"
      ]
     },
     "metadata": {},
     "output_type": "display_data"
    },
    {
     "data": {
      "text/html": [],
      "text/plain": [
       "<IPython.core.display.HTML object>"
      ]
     },
     "metadata": {},
     "output_type": "display_data"
    },
    {
     "data": {
      "text/html": [],
      "text/plain": [
       "<IPython.core.display.HTML object>"
      ]
     },
     "metadata": {},
     "output_type": "display_data"
    },
    {
     "data": {
      "text/html": [],
      "text/plain": [
       "<IPython.core.display.HTML object>"
      ]
     },
     "metadata": {},
     "output_type": "display_data"
    },
    {
     "data": {
      "text/html": [],
      "text/plain": [
       "<IPython.core.display.HTML object>"
      ]
     },
     "metadata": {},
     "output_type": "display_data"
    },
    {
     "data": {
      "text/html": [],
      "text/plain": [
       "<IPython.core.display.HTML object>"
      ]
     },
     "metadata": {},
     "output_type": "display_data"
    },
    {
     "data": {
      "text/html": [],
      "text/plain": [
       "<IPython.core.display.HTML object>"
      ]
     },
     "metadata": {},
     "output_type": "display_data"
    },
    {
     "data": {
      "text/html": [],
      "text/plain": [
       "<IPython.core.display.HTML object>"
      ]
     },
     "metadata": {},
     "output_type": "display_data"
    },
    {
     "data": {
      "text/html": [],
      "text/plain": [
       "<IPython.core.display.HTML object>"
      ]
     },
     "metadata": {},
     "output_type": "display_data"
    },
    {
     "data": {
      "text/html": [],
      "text/plain": [
       "<IPython.core.display.HTML object>"
      ]
     },
     "metadata": {},
     "output_type": "display_data"
    },
    {
     "data": {
      "text/html": [],
      "text/plain": [
       "<IPython.core.display.HTML object>"
      ]
     },
     "metadata": {},
     "output_type": "display_data"
    },
    {
     "data": {
      "text/html": [],
      "text/plain": [
       "<IPython.core.display.HTML object>"
      ]
     },
     "metadata": {},
     "output_type": "display_data"
    },
    {
     "data": {
      "text/html": [],
      "text/plain": [
       "<IPython.core.display.HTML object>"
      ]
     },
     "metadata": {},
     "output_type": "display_data"
    },
    {
     "data": {
      "text/html": [],
      "text/plain": [
       "<IPython.core.display.HTML object>"
      ]
     },
     "metadata": {},
     "output_type": "display_data"
    },
    {
     "data": {
      "text/html": [],
      "text/plain": [
       "<IPython.core.display.HTML object>"
      ]
     },
     "metadata": {},
     "output_type": "display_data"
    },
    {
     "data": {
      "text/html": [],
      "text/plain": [
       "<IPython.core.display.HTML object>"
      ]
     },
     "metadata": {},
     "output_type": "display_data"
    },
    {
     "data": {
      "text/html": [],
      "text/plain": [
       "<IPython.core.display.HTML object>"
      ]
     },
     "metadata": {},
     "output_type": "display_data"
    },
    {
     "data": {
      "text/html": [],
      "text/plain": [
       "<IPython.core.display.HTML object>"
      ]
     },
     "metadata": {},
     "output_type": "display_data"
    },
    {
     "data": {
      "text/html": [],
      "text/plain": [
       "<IPython.core.display.HTML object>"
      ]
     },
     "metadata": {},
     "output_type": "display_data"
    },
    {
     "data": {
      "text/html": [],
      "text/plain": [
       "<IPython.core.display.HTML object>"
      ]
     },
     "metadata": {},
     "output_type": "display_data"
    },
    {
     "data": {
      "text/html": [],
      "text/plain": [
       "<IPython.core.display.HTML object>"
      ]
     },
     "metadata": {},
     "output_type": "display_data"
    },
    {
     "data": {
      "text/html": [],
      "text/plain": [
       "<IPython.core.display.HTML object>"
      ]
     },
     "metadata": {},
     "output_type": "display_data"
    },
    {
     "data": {
      "text/html": [],
      "text/plain": [
       "<IPython.core.display.HTML object>"
      ]
     },
     "metadata": {},
     "output_type": "display_data"
    },
    {
     "data": {
      "text/html": [],
      "text/plain": [
       "<IPython.core.display.HTML object>"
      ]
     },
     "metadata": {},
     "output_type": "display_data"
    },
    {
     "data": {
      "text/html": [],
      "text/plain": [
       "<IPython.core.display.HTML object>"
      ]
     },
     "metadata": {},
     "output_type": "display_data"
    },
    {
     "data": {
      "text/html": [],
      "text/plain": [
       "<IPython.core.display.HTML object>"
      ]
     },
     "metadata": {},
     "output_type": "display_data"
    },
    {
     "name": "stdout",
     "output_type": "stream",
     "text": [
      "[0, 1, 2, 3, 4, 5, 6, 7, 8, 9, 10, 11, 12, 13, 14, 15, 16, 17, 18, 19, 20, 21, 22, 23, 24, 25, 26, 27, 28, 29, 30, 31, 32, 33, 34, 35, 36, 37, 38, 39, 40, 41, 42, 43, 44, 45, 46, 47, 48, 49, 50, 51, 52, 53, 54, 55, 56, 57, 58, 59, 60, 61, 62, 63, 64, 65, 66, 67, 68, 69, 70, 71, 72, 73, 74, 75, 76, 77, 78, 79, 80, 81, 82, 83, 84, 85, 86, 87, 88, 89, 90, 91, 92, 93, 94, 95, 96, 97, 98, 99]\n",
      "73\n"
     ]
    },
    {
     "data": {
      "text/plain": [
       "'the movie . The All - i - love is Gun Great'"
      ]
     },
     "execution_count": 8,
     "metadata": {},
     "output_type": "execute_result"
    }
   ],
   "source": [
    "beam_search(learn=learn_lm, clf=learn, bias='pos', text='the', n_words=15)"
   ]
  },
  {
   "cell_type": "code",
   "execution_count": 15,
   "metadata": {},
   "outputs": [],
   "source": [
    "learn_lm.predict?"
   ]
  },
  {
   "cell_type": "code",
   "execution_count": 32,
   "metadata": {},
   "outputs": [],
   "source": [
    "learn.predict??"
   ]
  },
  {
   "cell_type": "code",
   "execution_count": 43,
   "metadata": {},
   "outputs": [
    {
     "name": "stdout",
     "output_type": "stream",
     "text": [
      "this is amazing\n"
     ]
    },
    {
     "data": {
      "text/html": [],
      "text/plain": [
       "<IPython.core.display.HTML object>"
      ]
     },
     "metadata": {},
     "output_type": "display_data"
    },
    {
     "name": "stdout",
     "output_type": "stream",
     "text": [
      "tensor([1, 1, 0, 0])\n"
     ]
    }
   ],
   "source": [
    "d = {0:'neg', 1:'pos'}\n",
    "phrase = [\"this is a good movie\", \"this is amazing\", \"this is bad\", \"this is terrible\"]\n",
    "dl = learn.dls.test_dl(phrase, rm_type_tfms=None, num_workers=0)\n",
    "print(idx)\n",
    "inp,preds,_,dec_preds = learn.get_preds(dl=dl, with_input=True, with_decoded=True)\n",
    "print(dec_preds)\n",
    "# print(cl)\n",
    "# if clf.predict(phrase)[0] == bias:\n",
    "#     bias_idx.append(idx)"
   ]
  },
  {
   "cell_type": "code",
   "execution_count": 45,
   "metadata": {},
   "outputs": [
    {
     "name": "stdout",
     "output_type": "stream",
     "text": [
      "1\n",
      "1\n",
      "0\n",
      "0\n"
     ]
    }
   ],
   "source": [
    "for p in dec_preds:\n",
    "    print(p.item())"
   ]
  },
  {
   "cell_type": "code",
   "execution_count": 19,
   "metadata": {},
   "outputs": [
    {
     "data": {
      "text/html": [],
      "text/plain": [
       "<IPython.core.display.HTML object>"
      ]
     },
     "metadata": {},
     "output_type": "display_data"
    },
    {
     "data": {
      "text/plain": [
       "('neg', tensor(0), tensor([0.6538, 0.3462]))"
      ]
     },
     "execution_count": 19,
     "metadata": {},
     "output_type": "execute_result"
    }
   ],
   "source": [
    "learn.predict(\"hello there no\")"
   ]
  },
  {
   "cell_type": "code",
   "execution_count": 35,
   "metadata": {},
   "outputs": [
    {
     "data": {
      "text/html": [],
      "text/plain": [
       "<IPython.core.display.HTML object>"
      ]
     },
     "metadata": {},
     "output_type": "display_data"
    },
    {
     "data": {
      "text/plain": [
       "('neg', tensor(0), tensor([9.9960e-01, 3.9635e-04]))"
      ]
     },
     "execution_count": 35,
     "metadata": {},
     "output_type": "execute_result"
    }
   ],
   "source": [
    "a = [\"this is a good movie\", \"this is amazing\", \"this is bad\", \"this is terrible\"]\n",
    "learn.predict(a[2])"
   ]
  },
  {
   "cell_type": "code",
   "execution_count": 53,
   "metadata": {},
   "outputs": [
    {
     "data": {
      "text/plain": [
       "SequentialRNN(\n",
       "  (0): AWD_LSTM(\n",
       "    (encoder): Embedding(60008, 400, padding_idx=1)\n",
       "    (encoder_dp): EmbeddingDropout(\n",
       "      (emb): Embedding(60008, 400, padding_idx=1)\n",
       "    )\n",
       "    (rnns): ModuleList(\n",
       "      (0): WeightDropout(\n",
       "        (module): LSTM(400, 1152, batch_first=True)\n",
       "      )\n",
       "      (1): WeightDropout(\n",
       "        (module): LSTM(1152, 1152, batch_first=True)\n",
       "      )\n",
       "      (2): WeightDropout(\n",
       "        (module): LSTM(1152, 400, batch_first=True)\n",
       "      )\n",
       "    )\n",
       "    (input_dp): RNNDropout()\n",
       "    (hidden_dps): ModuleList(\n",
       "      (0): RNNDropout()\n",
       "      (1): RNNDropout()\n",
       "      (2): RNNDropout()\n",
       "    )\n",
       "  )\n",
       "  (1): LinearDecoder(\n",
       "    (decoder): Linear(in_features=400, out_features=60008, bias=True)\n",
       "    (output_dp): RNNDropout()\n",
       "  )\n",
       ")"
      ]
     },
     "execution_count": 53,
     "metadata": {},
     "output_type": "execute_result"
    }
   ],
   "source": [
    "learn.model.to('cpu')\n",
    "learn_lm.model.to('cpu')"
   ]
  },
  {
   "cell_type": "code",
   "execution_count": 16,
   "metadata": {},
   "outputs": [
    {
     "data": {
      "text/plain": [
       "SequentialRNN(\n",
       "  (0): SentenceEncoder(\n",
       "    (module): AWD_LSTM(\n",
       "      (encoder): Embedding(60008, 400, padding_idx=1)\n",
       "      (encoder_dp): EmbeddingDropout(\n",
       "        (emb): Embedding(60008, 400, padding_idx=1)\n",
       "      )\n",
       "      (rnns): ModuleList(\n",
       "        (0): WeightDropout(\n",
       "          (module): LSTM(400, 1152, batch_first=True)\n",
       "        )\n",
       "        (1): WeightDropout(\n",
       "          (module): LSTM(1152, 1152, batch_first=True)\n",
       "        )\n",
       "        (2): WeightDropout(\n",
       "          (module): LSTM(1152, 400, batch_first=True)\n",
       "        )\n",
       "      )\n",
       "      (input_dp): RNNDropout()\n",
       "      (hidden_dps): ModuleList(\n",
       "        (0): RNNDropout()\n",
       "        (1): RNNDropout()\n",
       "        (2): RNNDropout()\n",
       "      )\n",
       "    )\n",
       "  )\n",
       "  (1): PoolingLinearClassifier(\n",
       "    (layers): Sequential(\n",
       "      (0): LinBnDrop(\n",
       "        (0): BatchNorm1d(1200, eps=1e-05, momentum=0.1, affine=True, track_running_stats=True)\n",
       "        (1): Dropout(p=0.2, inplace=False)\n",
       "        (2): Linear(in_features=1200, out_features=50, bias=False)\n",
       "        (3): ReLU(inplace=True)\n",
       "      )\n",
       "      (1): LinBnDrop(\n",
       "        (0): BatchNorm1d(50, eps=1e-05, momentum=0.1, affine=True, track_running_stats=True)\n",
       "        (1): Dropout(p=0.1, inplace=False)\n",
       "        (2): Linear(in_features=50, out_features=2, bias=False)\n",
       "      )\n",
       "    )\n",
       "  )\n",
       ")"
      ]
     },
     "execution_count": 16,
     "metadata": {},
     "output_type": "execute_result"
    }
   ],
   "source": [
    "learn_lm.model.cuda()\n",
    "learn.model.cuda()"
   ]
  },
  {
   "cell_type": "code",
   "execution_count": null,
   "metadata": {},
   "outputs": [],
   "source": [
    "learn_lm.model."
   ]
  },
  {
   "cell_type": "code",
   "execution_count": 17,
   "metadata": {},
   "outputs": [],
   "source": [
    "def beam_search_modified_with_clf(learn, clf, bias, text:str, confidence:float, no_unk:bool=True, no_punct:bool=True, top_k:int=10, beam_sz:int=10, temperature:float=1.,\n",
    "                    sep:str=' ', decoder=decode_spec_tokens):\n",
    "    bias_map = {0:'neg', 1:'pos'}\n",
    "    learn.model.reset()\n",
    "    learn.model.eval()\n",
    "\n",
    "    idx = learn.dls.test_dl([text]).items[0][None].cuda()\n",
    "    nodes = None\n",
    "    nodes = idx.clone()\n",
    "    scores = idx.new_zeros(1).float()\n",
    "    if no_unk: unk_idx = learn.dls.vocab.index(UNK)\n",
    "    \n",
    "\n",
    "    with torch.no_grad():\n",
    "        while(torch.exp(-scores[0])>confidence):\n",
    "            out = F.log_softmax(learn.model(idx)[0][:,-1], dim=-1)\n",
    "            \n",
    "            if no_unk: out[:, unk_idx] = -float('Inf')\n",
    "\n",
    "            values, indices = out.topk(top_k, dim=-1)\n",
    "            \n",
    "            scores = (-values + scores[:,None]).view(-1)\n",
    "            indices_idx = torch.arange(0,nodes.size(0))[:,None].expand(nodes.size(0), top_k).contiguous().view(-1)\n",
    "            sort_idx = scores.argsort()[:beam_sz]\n",
    "            scores = scores[sort_idx]\n",
    "\n",
    "            nodes = torch.cat([nodes[:,None].expand(nodes.size(0),top_k,nodes.size(1)),\n",
    "                                    indices[:,:,None].expand(nodes.size(0),top_k,1),], dim=2)\n",
    "            nodes = nodes.view(-1, nodes.size(2))[sort_idx]            \n",
    "            learn.hidden = [(h[0][:,indices_idx[sort_idx],:],h[1][:,indices_idx[sort_idx],:]) for h in learn.model[0].hidden]\n",
    "            idx = nodes[:,-1][:,None]\n",
    "        \n",
    "        \n",
    "        num = learn.dls.train_ds.numericalize\n",
    "        sep = learn.dls.train_ds.tokenizer.sep\n",
    "        bias_idx = []\n",
    "        phrases = []\n",
    "        \n",
    "        for idx, node in enumerate(nodes):\n",
    "            tokens = [num.vocab[i] for i in node if num.vocab[i] not in [BOS, PAD]]\n",
    "            phrase = sep.join(decoder(tokens))\n",
    "            phrases.append(phrase)\n",
    "            \n",
    "        dl = clf.dls.test_dl(phrases, rm_type_tfms=None, num_workers=0)\n",
    "        inp,preds,_,dec_preds = clf.get_preds(dl=dl, with_input=True, with_decoded=True)\n",
    "        \n",
    "        for p in dec_preds:\n",
    "            if bias_map[p.item()] == bias:\n",
    "                bias_idx.append(idx)\n",
    "\n",
    "\n",
    "        if temperature != 1.: scores.div_(temperature)\n",
    "        node_idx = torch.multinomial(torch.exp(-scores[bias_idx]), 1).item()\n",
    "        tokens = [num.vocab[i] for i in nodes[node_idx][1:] if num.vocab[i] not in [BOS, PAD]]\n",
    "        return sep.join(decoder(tokens))"
   ]
  },
  {
   "cell_type": "code",
   "execution_count": 18,
   "metadata": {},
   "outputs": [
    {
     "data": {
      "text/html": [],
      "text/plain": [
       "<IPython.core.display.HTML object>"
      ]
     },
     "metadata": {},
     "output_type": "display_data"
    },
    {
     "data": {
      "text/plain": [
       "'this is one of the most'"
      ]
     },
     "execution_count": 18,
     "metadata": {},
     "output_type": "execute_result"
    }
   ],
   "source": [
    "beam_search_modified_with_clf(learn=learn_lm, clf=learn, bias='neg', text='this is', confidence=0.01, temperature=0.7)"
   ]
  },
  {
   "cell_type": "code",
   "execution_count": 93,
   "metadata": {},
   "outputs": [],
   "source": [
    "def beam_search_modified_with_clf(learn, clf, bias, text:str, confidence:float, no_unk:bool=True, no_punct:bool=True, top_k:int=10, beam_sz:int=100, temperature:float=1.,\n",
    "                    sep:str=' ', decoder=decode_spec_tokens):\n",
    "    bias_map = {0:'neg', 1:'pos'}\n",
    "    learn.model.reset()\n",
    "    learn.model.eval()\n",
    "\n",
    "    idx = learn.dls.test_dl([text]).items[0][None]\n",
    "    nodes = None\n",
    "    nodes = idx.clone()\n",
    "    scores = idx.new_zeros(1).float()\n",
    "    if no_unk: unk_idx = learn.dls.vocab.index(UNK)\n",
    "    \n",
    "\n",
    "    with torch.no_grad():\n",
    "        while(torch.exp(-scores[0])>confidence):\n",
    "            out = F.log_softmax(learn.model(idx)[0][:,-1], dim=-1)\n",
    "            \n",
    "            if no_unk: out[:, unk_idx] = -float('Inf')\n",
    "\n",
    "            values, indices = out.topk(top_k, dim=-1)\n",
    "            \n",
    "            scores = (-values + scores[:,None]).view(-1)\n",
    "            indices_idx = torch.arange(0,nodes.size(0))[:,None].expand(nodes.size(0), top_k).contiguous().view(-1)\n",
    "            sort_idx = scores.argsort()[:beam_sz]\n",
    "            scores = scores[sort_idx]\n",
    "\n",
    "            nodes = torch.cat([nodes[:,None].expand(nodes.size(0),top_k,nodes.size(1)),\n",
    "                                    indices[:,:,None].expand(nodes.size(0),top_k,1),], dim=2)\n",
    "            nodes = nodes.view(-1, nodes.size(2))[sort_idx]            \n",
    "            learn.hidden = [(h[0][:,indices_idx[sort_idx],:],h[1][:,indices_idx[sort_idx],:]) for h in learn.model[0].hidden]\n",
    "            idx = nodes[:,-1][:,None]\n",
    "        \n",
    "        \n",
    "        num = learn.dls.train_ds.numericalize\n",
    "        sep = learn.dls.train_ds.tokenizer.sep\n",
    "\n",
    "        if temperature != 1.: scores.div_(temperature)\n",
    "        node_idx = torch.multinomial(torch.exp(-scores), 20)\n",
    "#         node_idx = torch.exp(-scores).topk(20, dim=-1).indices\n",
    "        print(node_idx)\n",
    "        phrases = []\n",
    "        biased_idx = []\n",
    "        for idx in node_idx:\n",
    "            tokens = [num.vocab[i] for i in nodes[idx] if num.vocab[i] not in [BOS, PAD]]\n",
    "            phrase = sep.join(decoder(tokens))\n",
    "            phrases.append(phrase)\n",
    "            biased_idx.append(idx)\n",
    "            \n",
    "        dl = clf.dls.test_dl(phrases, rm_type_tfms=None, num_workers=0)\n",
    "        inp,preds,_,dec_preds = clf.get_preds(dl=dl, with_input=True, with_decoded=True)\n",
    "        \n",
    "        for i in range(len(inp)):\n",
    "            if bias_map[dec_preds[i].item()] == bias:\n",
    "                tokens = [num.vocab[i] for i in inp[i][1:] if num.vocab[i] not in [BOS, PAD]]\n",
    "                return sep.join(decoder(tokens))\n",
    "                \n",
    "             \n",
    "        \n",
    "    return \"\""
   ]
  },
  {
   "cell_type": "code",
   "execution_count": 97,
   "metadata": {},
   "outputs": [
    {
     "name": "stdout",
     "output_type": "stream",
     "text": [
      "tensor([60,  0,  7, 41, 51,  1, 95, 29, 15,  2, 27,  5,  4, 85, 53, 45, 30, 26,\n",
      "        78,  8])\n"
     ]
    },
    {
     "data": {
      "text/html": [],
      "text/plain": [
       "<IPython.core.display.HTML object>"
      ]
     },
     "metadata": {},
     "output_type": "display_data"
    },
    {
     "data": {
      "text/plain": [
       "'this is one of the worst movies i have ever'"
      ]
     },
     "execution_count": 97,
     "metadata": {},
     "output_type": "execute_result"
    }
   ],
   "source": [
    "beam_search_modified_with_clf(learn=learn_lm, clf=learn, bias='neg', text='this is', confidence=0.001, temperature=0.8)"
   ]
  },
  {
   "cell_type": "code",
   "execution_count": 13,
   "metadata": {},
   "outputs": [],
   "source": [
    "torch.multinomial??"
   ]
  },
  {
   "cell_type": "code",
   "execution_count": 55,
   "metadata": {},
   "outputs": [],
   "source": [
    "a = ['this is something i was the', 'this is something of a low', 'this is something of a waste', 'this is something of a film', 'this is something of a movie', 'this is something i have -', 'this is something of a bad', 'this is something that is', 'this is something of a great', 'this is something i was a', 'this is something of a classic', 'this is something i am i', 'this is something of a horror', \"this is something you ca n't\", 'this is something you can be', 'this is something about the', \"this is something i would n't\", 'this is something of a', 'this is something that would be', ]"
   ]
  },
  {
   "cell_type": "code",
   "execution_count": 57,
   "metadata": {},
   "outputs": [
    {
     "data": {
      "text/html": [],
      "text/plain": [
       "<IPython.core.display.HTML object>"
      ]
     },
     "metadata": {},
     "output_type": "display_data"
    },
    {
     "name": "stdout",
     "output_type": "stream",
     "text": [
      "this is something of the ('neg', tensor(0), tensor([0.5347, 0.4653]))\n"
     ]
    },
    {
     "data": {
      "text/html": [],
      "text/plain": [
       "<IPython.core.display.HTML object>"
      ]
     },
     "metadata": {},
     "output_type": "display_data"
    },
    {
     "name": "stdout",
     "output_type": "stream",
     "text": [
      "this is something of a low ('neg', tensor(0), tensor([0.5347, 0.4653]))\n"
     ]
    },
    {
     "data": {
      "text/html": [],
      "text/plain": [
       "<IPython.core.display.HTML object>"
      ]
     },
     "metadata": {},
     "output_type": "display_data"
    },
    {
     "name": "stdout",
     "output_type": "stream",
     "text": [
      "this is something that 's not ('neg', tensor(0), tensor([0.5347, 0.4653]))\n"
     ]
    },
    {
     "data": {
      "text/html": [],
      "text/plain": [
       "<IPython.core.display.HTML object>"
      ]
     },
     "metadata": {},
     "output_type": "display_data"
    },
    {
     "name": "stdout",
     "output_type": "stream",
     "text": [
      "this is something of a bad ('neg', tensor(0), tensor([0.5347, 0.4653]))\n"
     ]
    },
    {
     "data": {
      "text/html": [],
      "text/plain": [
       "<IPython.core.display.HTML object>"
      ]
     },
     "metadata": {},
     "output_type": "display_data"
    },
    {
     "name": "stdout",
     "output_type": "stream",
     "text": [
      "this is something i would ('neg', tensor(0), tensor([0.5347, 0.4653]))\n"
     ]
    },
    {
     "data": {
      "text/html": [],
      "text/plain": [
       "<IPython.core.display.HTML object>"
      ]
     },
     "metadata": {},
     "output_type": "display_data"
    },
    {
     "name": "stdout",
     "output_type": "stream",
     "text": [
      "this is something of an ('neg', tensor(0), tensor([0.5347, 0.4653]))\n"
     ]
    },
    {
     "data": {
      "text/html": [],
      "text/plain": [
       "<IPython.core.display.HTML object>"
      ]
     },
     "metadata": {},
     "output_type": "display_data"
    },
    {
     "name": "stdout",
     "output_type": "stream",
     "text": [
      "this is something you can be ('neg', tensor(0), tensor([0.5347, 0.4653]))\n"
     ]
    },
    {
     "data": {
      "text/html": [],
      "text/plain": [
       "<IPython.core.display.HTML object>"
      ]
     },
     "metadata": {},
     "output_type": "display_data"
    },
    {
     "name": "stdout",
     "output_type": "stream",
     "text": [
      "this is something of a ('neg', tensor(0), tensor([0.5347, 0.4653]))\n"
     ]
    },
    {
     "data": {
      "text/html": [],
      "text/plain": [
       "<IPython.core.display.HTML object>"
      ]
     },
     "metadata": {},
     "output_type": "display_data"
    },
    {
     "name": "stdout",
     "output_type": "stream",
     "text": [
      "this is something that 's going ('neg', tensor(0), tensor([0.5347, 0.4653]))\n"
     ]
    },
    {
     "data": {
      "text/html": [],
      "text/plain": [
       "<IPython.core.display.HTML object>"
      ]
     },
     "metadata": {},
     "output_type": "display_data"
    },
    {
     "name": "stdout",
     "output_type": "stream",
     "text": [
      "this is something that 's in ('neg', tensor(0), tensor([0.5347, 0.4653]))\n"
     ]
    },
    {
     "data": {
      "text/html": [],
      "text/plain": [
       "<IPython.core.display.HTML object>"
      ]
     },
     "metadata": {},
     "output_type": "display_data"
    },
    {
     "name": "stdout",
     "output_type": "stream",
     "text": [
      "this is something that is the ('neg', tensor(0), tensor([0.5347, 0.4653]))\n"
     ]
    },
    {
     "data": {
      "text/html": [],
      "text/plain": [
       "<IPython.core.display.HTML object>"
      ]
     },
     "metadata": {},
     "output_type": "display_data"
    },
    {
     "name": "stdout",
     "output_type": "stream",
     "text": [
      "this is something of a movie ('neg', tensor(0), tensor([0.5347, 0.4653]))\n"
     ]
    },
    {
     "data": {
      "text/html": [],
      "text/plain": [
       "<IPython.core.display.HTML object>"
      ]
     },
     "metadata": {},
     "output_type": "display_data"
    },
    {
     "name": "stdout",
     "output_type": "stream",
     "text": [
      "this is something of a classic ('neg', tensor(0), tensor([0.5347, 0.4653]))\n"
     ]
    },
    {
     "data": {
      "text/html": [],
      "text/plain": [
       "<IPython.core.display.HTML object>"
      ]
     },
     "metadata": {},
     "output_type": "display_data"
    },
    {
     "name": "stdout",
     "output_type": "stream",
     "text": [
      "this is something of a film ('neg', tensor(0), tensor([0.5347, 0.4653]))\n"
     ]
    },
    {
     "data": {
      "text/html": [],
      "text/plain": [
       "<IPython.core.display.HTML object>"
      ]
     },
     "metadata": {},
     "output_type": "display_data"
    },
    {
     "name": "stdout",
     "output_type": "stream",
     "text": [
      "this is something to the ('neg', tensor(0), tensor([0.5347, 0.4653]))\n"
     ]
    },
    {
     "data": {
      "text/html": [],
      "text/plain": [
       "<IPython.core.display.HTML object>"
      ]
     },
     "metadata": {},
     "output_type": "display_data"
    },
    {
     "name": "stdout",
     "output_type": "stream",
     "text": [
      "this is something i do n't ('neg', tensor(0), tensor([0.5347, 0.4653]))\n"
     ]
    },
    {
     "data": {
      "text/html": [],
      "text/plain": [
       "<IPython.core.display.HTML object>"
      ]
     },
     "metadata": {},
     "output_type": "display_data"
    },
    {
     "name": "stdout",
     "output_type": "stream",
     "text": [
      "this is something of a great ('neg', tensor(0), tensor([0.5347, 0.4653]))\n"
     ]
    },
    {
     "data": {
      "text/html": [],
      "text/plain": [
       "<IPython.core.display.HTML object>"
      ]
     },
     "metadata": {},
     "output_type": "display_data"
    },
    {
     "name": "stdout",
     "output_type": "stream",
     "text": [
      "this is something i was the ('neg', tensor(0), tensor([0.5347, 0.4653]))\n"
     ]
    },
    {
     "data": {
      "text/html": [],
      "text/plain": [
       "<IPython.core.display.HTML object>"
      ]
     },
     "metadata": {},
     "output_type": "display_data"
    },
    {
     "name": "stdout",
     "output_type": "stream",
     "text": [
      "this is something i think it ('neg', tensor(0), tensor([0.5347, 0.4653]))\n"
     ]
    },
    {
     "data": {
      "text/html": [],
      "text/plain": [
       "<IPython.core.display.HTML object>"
      ]
     },
     "metadata": {},
     "output_type": "display_data"
    },
    {
     "name": "stdout",
     "output_type": "stream",
     "text": [
      "this is something about the ('neg', tensor(0), tensor([0.5347, 0.4653]))\n"
     ]
    }
   ],
   "source": [
    "for ent in check:\n",
    "    print(ent, learn.predict('this is something i am not'))"
   ]
  },
  {
   "cell_type": "code",
   "execution_count": 3,
   "metadata": {},
   "outputs": [],
   "source": [
    "import asyncio\n",
    "# def f(x):\n",
    "#     return x*x\n",
    "\n",
    "# if __name__ == '__main__':\n",
    "#     pool = Pool(processes=1)              # Start a worker processes.\n",
    "#     result = pool.apply_async(f, [10], callback) # Evaluate \"f(10)\" asynchronously calling callback when finished.\n"
   ]
  },
  {
   "cell_type": "code",
   "execution_count": 2,
   "metadata": {},
   "outputs": [],
   "source": [
    "from fastai.text.all import *"
   ]
  },
  {
   "cell_type": "code",
   "execution_count": 7,
   "metadata": {},
   "outputs": [
    {
     "data": {
      "text/plain": [
       "SequentialRNN(\n",
       "  (0): AWD_LSTM(\n",
       "    (encoder): Embedding(60008, 400, padding_idx=1)\n",
       "    (encoder_dp): EmbeddingDropout(\n",
       "      (emb): Embedding(60008, 400, padding_idx=1)\n",
       "    )\n",
       "    (rnns): ModuleList(\n",
       "      (0): WeightDropout(\n",
       "        (module): LSTM(400, 1152, batch_first=True)\n",
       "      )\n",
       "      (1): WeightDropout(\n",
       "        (module): LSTM(1152, 1152, batch_first=True)\n",
       "      )\n",
       "      (2): WeightDropout(\n",
       "        (module): LSTM(1152, 400, batch_first=True)\n",
       "      )\n",
       "    )\n",
       "    (input_dp): RNNDropout()\n",
       "    (hidden_dps): ModuleList(\n",
       "      (0): RNNDropout()\n",
       "      (1): RNNDropout()\n",
       "      (2): RNNDropout()\n",
       "    )\n",
       "  )\n",
       "  (1): LinearDecoder(\n",
       "    (decoder): Linear(in_features=400, out_features=60008, bias=True)\n",
       "    (output_dp): RNNDropout()\n",
       "  )\n",
       ")"
      ]
     },
     "execution_count": 7,
     "metadata": {},
     "output_type": "execute_result"
    }
   ],
   "source": [
    "lstm_model = load_learner('../api/5epochs_imdb_lm.pkl')\n",
    "lstm_model.model.to('cuda')"
   ]
  },
  {
   "cell_type": "code",
   "execution_count": 11,
   "metadata": {},
   "outputs": [],
   "source": [
    "async def complete_word(language_model, text, final_word, no_unk=True, decoder=decode_spec_tokens, temperature=1.):\n",
    "    print(\"inside complete word loop\", sys.stdout)\n",
    "    language_model.model.reset()\n",
    "    language_model.model.eval()\n",
    "    numericalize = language_model.dls.train_ds.numericalize\n",
    "    idxs = idxs_all = language_model.dls.test_dl([text]).items[0].to(language_model.dls.device)\n",
    "    if no_unk: unk_idx = language_model.dls.vocab.index(UNK)\n",
    "        \n",
    "    with torch.no_grad():\n",
    "        try:\n",
    "            with language_model.no_bar(): preds,_ = language_model.get_preds(dl=[(idxs[None],)])\n",
    "        except:\n",
    "            print(\"exiting complete word loop with error\", sys.stdout)\n",
    "            return \"\"\n",
    "            \n",
    "        res = preds[0][-1]\n",
    "        sorted_indices = torch.argsort(res, descending=True)\n",
    "        for idx in sorted_indices:\n",
    "            if idx not in ['xxbos', 'xxpad', 'xxunk', 'xxmaj']:\n",
    "                if numericalize.vocab[idx].lower().startswith(final_word):\n",
    "                    print(\"exiting complete word loop without error\", sys.stdout)\n",
    "                    return numericalize.vocab[idx][len(final_word):]\n",
    "        print(\"exiting complete word loop without error without string\", sys.stdout)\n",
    "        return \"\""
   ]
  },
  {
   "cell_type": "code",
   "execution_count": 9,
   "metadata": {},
   "outputs": [
    {
     "name": "stdout",
     "output_type": "stream",
     "text": [
      "<coroutine object complete_word at 0x7fd3851d21c0>\n"
     ]
    },
    {
     "name": "stderr",
     "output_type": "stream",
     "text": [
      "<ipython-input-9-a19ed4d897ed>:1: RuntimeWarning: coroutine 'complete_word' was never awaited\n",
      "  print(complete_word(lstm_model, \"this is\", \"th\"))\n",
      "RuntimeWarning: Enable tracemalloc to get the object allocation traceback\n"
     ]
    }
   ],
   "source": [
    "print(complete_word(lstm_model, \"this is\", \"th\"))"
   ]
  },
  {
   "cell_type": "code",
   "execution_count": 13,
   "metadata": {},
   "outputs": [
    {
     "name": "stdout",
     "output_type": "stream",
     "text": [
      "inside complete word loop <ipykernel.iostream.OutStream object at 0x7fd444d125e0>\n",
      "exiting complete word loop without error <ipykernel.iostream.OutStream object at 0x7fd444d125e0>\n"
     ]
    }
   ],
   "source": [
    "def get_word():\n",
    "    word = await complete_word(lstm_model, \"this is\", \"th\")\n",
    "    return word"
   ]
  },
  {
   "cell_type": "code",
   "execution_count": 8,
   "metadata": {},
   "outputs": [],
   "source": [
    "from transformers import AutoTokenizer, AutoModelWithLMHead\n",
    "import torch"
   ]
  },
  {
   "cell_type": "code",
   "execution_count": 52,
   "metadata": {},
   "outputs": [],
   "source": [
    "from fastai.text.all import *"
   ]
  },
  {
   "cell_type": "code",
   "execution_count": 53,
   "metadata": {},
   "outputs": [],
   "source": [
    "lstm_model = load_learner('../api/5epochs_imdb_lm.pkl')"
   ]
  },
  {
   "cell_type": "code",
   "execution_count": 54,
   "metadata": {},
   "outputs": [
    {
     "data": {
      "text/plain": [
       "['xxunk',\n",
       " 'xxpad',\n",
       " 'xxbos',\n",
       " 'xxeos',\n",
       " 'xxfld',\n",
       " 'xxrep',\n",
       " 'xxwrep',\n",
       " 'xxup',\n",
       " 'xxmaj',\n",
       " 'the',\n",
       " '.',\n",
       " ',',\n",
       " 'and',\n",
       " 'a',\n",
       " 'of',\n",
       " 'to',\n",
       " 'is',\n",
       " 'it',\n",
       " 'in',\n",
       " 'i',\n",
       " 'this',\n",
       " 'that',\n",
       " '\"',\n",
       " \"'s\",\n",
       " '-',\n",
       " 'was',\n",
       " '\\n\\n',\n",
       " 'as',\n",
       " 'with',\n",
       " 'for',\n",
       " 'movie',\n",
       " 'but',\n",
       " 'film',\n",
       " 'you',\n",
       " ')',\n",
       " 'on',\n",
       " \"n't\",\n",
       " '(',\n",
       " 'not',\n",
       " 'are',\n",
       " 'he',\n",
       " 'his',\n",
       " 'have',\n",
       " 'be',\n",
       " 'one',\n",
       " 'all',\n",
       " 'at',\n",
       " 'they',\n",
       " 'by',\n",
       " 'an',\n",
       " 'who',\n",
       " 'from',\n",
       " 'so',\n",
       " 'like',\n",
       " '!',\n",
       " 'there',\n",
       " 'or',\n",
       " 'just',\n",
       " 'her',\n",
       " 'do',\n",
       " 'about',\n",
       " 'has',\n",
       " 'out',\n",
       " \"'\",\n",
       " 'if',\n",
       " 'what',\n",
       " 'some',\n",
       " '?',\n",
       " 'good',\n",
       " 'when',\n",
       " 'more',\n",
       " 'very',\n",
       " 'she',\n",
       " 'up',\n",
       " 'would',\n",
       " 'no',\n",
       " '…',\n",
       " 'time',\n",
       " 'even',\n",
       " 'my',\n",
       " 'can',\n",
       " 'their',\n",
       " 'which',\n",
       " 'only',\n",
       " 'story',\n",
       " 'really',\n",
       " 'see',\n",
       " 'had',\n",
       " 'were',\n",
       " 'did',\n",
       " 'me',\n",
       " 'well',\n",
       " 'we',\n",
       " 'does',\n",
       " 'than',\n",
       " 'much',\n",
       " ':',\n",
       " 'could',\n",
       " 'bad',\n",
       " 'get',\n",
       " 'been',\n",
       " 'people',\n",
       " 'other',\n",
       " 'great',\n",
       " 'into',\n",
       " 'also',\n",
       " 'will',\n",
       " 'first',\n",
       " 'because',\n",
       " 'him',\n",
       " 'how',\n",
       " 'most',\n",
       " 'them',\n",
       " 'made',\n",
       " 'make',\n",
       " 'its',\n",
       " 'then',\n",
       " 'way',\n",
       " 'too',\n",
       " 'movies',\n",
       " 'after',\n",
       " 'any',\n",
       " 'characters',\n",
       " 'think',\n",
       " 'character',\n",
       " '/',\n",
       " 'films',\n",
       " 'watch',\n",
       " 'two',\n",
       " 'being',\n",
       " 'many',\n",
       " 'plot',\n",
       " 'seen',\n",
       " 'never',\n",
       " ';',\n",
       " 'love',\n",
       " 'where',\n",
       " 'life',\n",
       " 'acting',\n",
       " 'little',\n",
       " 'best',\n",
       " 'know',\n",
       " 'off',\n",
       " 'over',\n",
       " 'show',\n",
       " 'ever',\n",
       " 'man',\n",
       " 'better',\n",
       " 'your',\n",
       " 'end',\n",
       " 'here',\n",
       " 'scene',\n",
       " 'these',\n",
       " 'still',\n",
       " 'while',\n",
       " '3',\n",
       " 'should',\n",
       " 'why',\n",
       " 'scenes',\n",
       " 'say',\n",
       " 'something',\n",
       " 'go',\n",
       " \"'ve\",\n",
       " 'such',\n",
       " 'back',\n",
       " 'through',\n",
       " 'real',\n",
       " 'those',\n",
       " 'now',\n",
       " \"'m\",\n",
       " 'watching',\n",
       " 'thing',\n",
       " 'director',\n",
       " 'actors',\n",
       " 'funny',\n",
       " 'though',\n",
       " 'years',\n",
       " 'another',\n",
       " 'old',\n",
       " 'actually',\n",
       " 'work',\n",
       " 'nothing',\n",
       " 'makes',\n",
       " 'before',\n",
       " 'going',\n",
       " 'new',\n",
       " '10',\n",
       " 'look',\n",
       " 'find',\n",
       " 'same',\n",
       " 'lot',\n",
       " '--',\n",
       " 'few',\n",
       " 'every',\n",
       " 'part',\n",
       " 'again',\n",
       " 'world',\n",
       " 'ca',\n",
       " 'cast',\n",
       " \"'re\",\n",
       " 'things',\n",
       " 'us',\n",
       " 'horror',\n",
       " '&',\n",
       " 'down',\n",
       " 'want',\n",
       " 'quite',\n",
       " 'pretty',\n",
       " 'got',\n",
       " 'around',\n",
       " 'seems',\n",
       " 'young',\n",
       " 'action',\n",
       " 'fact',\n",
       " 'take',\n",
       " 'enough',\n",
       " 'however',\n",
       " 'thought',\n",
       " 'long',\n",
       " 'both',\n",
       " 'big',\n",
       " 'give',\n",
       " 'own',\n",
       " 'between',\n",
       " 'comedy',\n",
       " 'must',\n",
       " 'may',\n",
       " 'series',\n",
       " 'right',\n",
       " 'without',\n",
       " 'guy',\n",
       " 'original',\n",
       " '*',\n",
       " 'role',\n",
       " 'saw',\n",
       " 'come',\n",
       " 'times',\n",
       " 'always',\n",
       " 'interesting',\n",
       " 'music',\n",
       " 'whole',\n",
       " 'gets',\n",
       " 'almost',\n",
       " 'least',\n",
       " 'point',\n",
       " 'done',\n",
       " 'bit',\n",
       " 'script',\n",
       " '2',\n",
       " 'far',\n",
       " 'last',\n",
       " 'minutes',\n",
       " 'feel',\n",
       " 'since',\n",
       " 'might',\n",
       " 'family',\n",
       " 'making',\n",
       " 'anything',\n",
       " \"'ll\",\n",
       " 'am',\n",
       " 'girl',\n",
       " 'performance',\n",
       " 'yet',\n",
       " 'probably',\n",
       " 'away',\n",
       " 'tv',\n",
       " 'kind',\n",
       " 'hard',\n",
       " 'fun',\n",
       " 'woman',\n",
       " 'rather',\n",
       " 'worst',\n",
       " 'anyone',\n",
       " 'day',\n",
       " 'sure',\n",
       " 'each',\n",
       " 'found',\n",
       " 'played',\n",
       " 'our',\n",
       " 'screen',\n",
       " 'looking',\n",
       " 'especially',\n",
       " 'having',\n",
       " 'trying',\n",
       " 'believe',\n",
       " 'although',\n",
       " 'course',\n",
       " 'different',\n",
       " 'place',\n",
       " 'set',\n",
       " 'goes',\n",
       " 'dvd',\n",
       " 'ending',\n",
       " 'sense',\n",
       " 'comes',\n",
       " 'worth',\n",
       " 'shows',\n",
       " 'three',\n",
       " 'everything',\n",
       " 'maybe',\n",
       " 'american',\n",
       " 'put',\n",
       " 'once',\n",
       " 'main',\n",
       " 'let',\n",
       " 'actor',\n",
       " 'money',\n",
       " 'effects',\n",
       " 'someone',\n",
       " 'looks',\n",
       " 'book',\n",
       " 'together',\n",
       " 'plays',\n",
       " 'reason',\n",
       " 'everyone',\n",
       " 'true',\n",
       " 'war',\n",
       " 'during',\n",
       " 'play',\n",
       " 'john',\n",
       " \"'d\",\n",
       " 'job',\n",
       " 'instead',\n",
       " 'watched',\n",
       " 'high',\n",
       " 'said',\n",
       " 'takes',\n",
       " 'special',\n",
       " 'seem',\n",
       " 'audience',\n",
       " 'night',\n",
       " 'later',\n",
       " '..',\n",
       " '4',\n",
       " 'half',\n",
       " 'black',\n",
       " 'himself',\n",
       " 'wife',\n",
       " 'seeing',\n",
       " 'left',\n",
       " 'idea',\n",
       " 'beautiful',\n",
       " 'star',\n",
       " 'year',\n",
       " 'death',\n",
       " 'excellent',\n",
       " 'shot',\n",
       " '1',\n",
       " 'used',\n",
       " 'else',\n",
       " 'house',\n",
       " 'simply',\n",
       " 'second',\n",
       " 'men',\n",
       " 'mind',\n",
       " 'version',\n",
       " 'dead',\n",
       " 'completely',\n",
       " 'budget',\n",
       " 'fan',\n",
       " 'father',\n",
       " 'poor',\n",
       " 'nice',\n",
       " 'less',\n",
       " 'along',\n",
       " 'hollywood',\n",
       " 'short',\n",
       " 'help',\n",
       " 'home',\n",
       " 'line',\n",
       " 'women',\n",
       " 'boring',\n",
       " 'top',\n",
       " 'sex',\n",
       " 'read',\n",
       " 'try',\n",
       " 'either',\n",
       " 'friends',\n",
       " 'performances',\n",
       " 'camera',\n",
       " 'use',\n",
       " 'kids',\n",
       " 'low',\n",
       " 'wrong',\n",
       " 'until',\n",
       " 'couple',\n",
       " 'given',\n",
       " 'next',\n",
       " 'need',\n",
       " 'enjoy',\n",
       " 'full',\n",
       " 'production',\n",
       " 'start',\n",
       " 'classic',\n",
       " 'school',\n",
       " 'stupid',\n",
       " 'truly',\n",
       " 'rest',\n",
       " 'video',\n",
       " 'awful',\n",
       " 'tell',\n",
       " 'perhaps',\n",
       " 'mother',\n",
       " 'getting',\n",
       " 'moments',\n",
       " 'recommend',\n",
       " 'mean',\n",
       " 'keep',\n",
       " 'terrible',\n",
       " 'understand',\n",
       " 'came',\n",
       " 'face',\n",
       " 'name',\n",
       " 'itself',\n",
       " 'small',\n",
       " 'others',\n",
       " 'playing',\n",
       " 'style',\n",
       " 'boy',\n",
       " 'remember',\n",
       " 'person',\n",
       " 'wonderful',\n",
       " 'doing',\n",
       " 'definitely',\n",
       " 'often',\n",
       " 'human',\n",
       " 'gives',\n",
       " 'dialogue',\n",
       " 'stars',\n",
       " 'lines',\n",
       " 'perfect',\n",
       " 'head',\n",
       " 'written',\n",
       " 'early',\n",
       " 'went',\n",
       " 'lost',\n",
       " 'live',\n",
       " 'entertaining',\n",
       " 'case',\n",
       " 'children',\n",
       " 'title',\n",
       " 'episode',\n",
       " 'hope',\n",
       " 'become',\n",
       " 'yes',\n",
       " 'friend',\n",
       " 'certainly',\n",
       " 'piece',\n",
       " '5',\n",
       " 'liked',\n",
       " 'absolutely',\n",
       " 'laugh',\n",
       " 'based',\n",
       " 'finally',\n",
       " 'picture',\n",
       " 'oh',\n",
       " 'sort',\n",
       " 'several',\n",
       " 'supposed',\n",
       " 'called',\n",
       " 'guys',\n",
       " 'problem',\n",
       " 'drama',\n",
       " 'worse',\n",
       " 'cinema',\n",
       " 'entire',\n",
       " 'overall',\n",
       " 'against',\n",
       " 'fans',\n",
       " 'felt',\n",
       " 'humor',\n",
       " 'direction',\n",
       " 'under',\n",
       " 'lead',\n",
       " 'game',\n",
       " 'waste',\n",
       " 'loved',\n",
       " 'beginning',\n",
       " 'dark',\n",
       " 'lives',\n",
       " 'care',\n",
       " 'son',\n",
       " 'evil',\n",
       " 'totally',\n",
       " 'white',\n",
       " 'seemed',\n",
       " 'despite',\n",
       " 'final',\n",
       " 'wanted',\n",
       " 'killer',\n",
       " 'wo',\n",
       " 'throughout',\n",
       " 'becomes',\n",
       " 'already',\n",
       " 'turn',\n",
       " 'guess',\n",
       " 'unfortunately',\n",
       " 'able',\n",
       " 'sound',\n",
       " 'history',\n",
       " 'mr',\n",
       " 'days',\n",
       " 'fine',\n",
       " 'town',\n",
       " 'quality',\n",
       " 'genre',\n",
       " 'run',\n",
       " 'heart',\n",
       " 'side',\n",
       " 'flick',\n",
       " 'horrible',\n",
       " 'wants',\n",
       " 'act',\n",
       " 'today',\n",
       " 'example',\n",
       " 'city',\n",
       " 'kill',\n",
       " 'tries',\n",
       " 'close',\n",
       " 'writing',\n",
       " 'past',\n",
       " 'child',\n",
       " 'matter',\n",
       " 'hand',\n",
       " 'viewer',\n",
       " 'turns',\n",
       " 'amazing',\n",
       " 'enjoyed',\n",
       " 'parts',\n",
       " 'car',\n",
       " 'starts',\n",
       " '\\x96',\n",
       " 'themselves',\n",
       " 'killed',\n",
       " 'expect',\n",
       " 'works',\n",
       " 'directed',\n",
       " 'michael',\n",
       " 'stuff',\n",
       " 'behind',\n",
       " 'group',\n",
       " 'favorite',\n",
       " 'gave',\n",
       " 'etc',\n",
       " 'kid',\n",
       " 'daughter',\n",
       " 'soon',\n",
       " 'decent',\n",
       " 'eyes',\n",
       " 'brilliant',\n",
       " 'girls',\n",
       " 'art',\n",
       " 'obviously',\n",
       " 'stop',\n",
       " 'thinking',\n",
       " 'fight',\n",
       " 'type',\n",
       " 'self',\n",
       " 'sometimes',\n",
       " 'actress',\n",
       " 'blood',\n",
       " 'known',\n",
       " 'god',\n",
       " 'myself',\n",
       " 'late',\n",
       " 'hour',\n",
       " 'violence',\n",
       " 'says',\n",
       " 'writer',\n",
       " 'coming',\n",
       " 'except',\n",
       " 'highly',\n",
       " 'heard',\n",
       " 'took',\n",
       " 'happens',\n",
       " 'stories',\n",
       " 'experience',\n",
       " 'hero',\n",
       " 'feeling',\n",
       " 'extremely',\n",
       " 'voice',\n",
       " 'slow',\n",
       " 'happened',\n",
       " 'police',\n",
       " 'leave',\n",
       " 'moment',\n",
       " 'anyway',\n",
       " 'hell',\n",
       " 'score',\n",
       " 'involved',\n",
       " 'roles',\n",
       " 'husband',\n",
       " 'murder',\n",
       " 'looked',\n",
       " 'living',\n",
       " 'told',\n",
       " 'attempt',\n",
       " 'taken',\n",
       " 'obvious',\n",
       " 'save',\n",
       " 'including',\n",
       " 'strong',\n",
       " 'cool',\n",
       " 'wonder',\n",
       " 'ok',\n",
       " 'interest',\n",
       " 'happen',\n",
       " 'david',\n",
       " 'age',\n",
       " 'chance',\n",
       " 'hilarious',\n",
       " 'cut',\n",
       " 'robert',\n",
       " 'simple',\n",
       " 'particularly',\n",
       " 'brother',\n",
       " 'lack',\n",
       " 'gore',\n",
       " 'across',\n",
       " 'hit',\n",
       " 'hours',\n",
       " 'b',\n",
       " 'complete',\n",
       " 'none',\n",
       " 'please',\n",
       " 'ago',\n",
       " 'career',\n",
       " 'serious',\n",
       " 'james',\n",
       " 'crap',\n",
       " 'exactly',\n",
       " 'reality',\n",
       " 'documentary',\n",
       " 'relationship',\n",
       " 'possible',\n",
       " 'sad',\n",
       " 'seriously',\n",
       " 'important',\n",
       " 'annoying',\n",
       " 'power',\n",
       " 'shown',\n",
       " 'song',\n",
       " 'usually',\n",
       " 'talent',\n",
       " 'running',\n",
       " 'alone',\n",
       " 'light',\n",
       " 'female',\n",
       " 'released',\n",
       " 'level',\n",
       " 'english',\n",
       " 'order',\n",
       " 'opening',\n",
       " 'jokes',\n",
       " 'whose',\n",
       " 'ends',\n",
       " 'number',\n",
       " 'taking',\n",
       " 'call',\n",
       " 'middle',\n",
       " 'wish',\n",
       " 'turned',\n",
       " 'saying',\n",
       " 'ridiculous',\n",
       " 'country',\n",
       " 'cinematography',\n",
       " 'scary',\n",
       " 'room',\n",
       " 'somewhat',\n",
       " 'happy',\n",
       " 'yourself',\n",
       " 'view',\n",
       " 'body',\n",
       " 'silly',\n",
       " 'four',\n",
       " 'change',\n",
       " 'strange',\n",
       " 'mostly',\n",
       " 'huge',\n",
       " 'usual',\n",
       " 'basically',\n",
       " 'finds',\n",
       " 'word',\n",
       " 'started',\n",
       " 'apparently',\n",
       " 'opinion',\n",
       " 'shots',\n",
       " 'jack',\n",
       " 'attention',\n",
       " 'major',\n",
       " 'novel',\n",
       " 'beyond',\n",
       " 'words',\n",
       " 'disappointed',\n",
       " 'miss',\n",
       " 'single',\n",
       " 'talking',\n",
       " 'cheap',\n",
       " 'knows',\n",
       " 'knew',\n",
       " 'non',\n",
       " 'thriller',\n",
       " 'modern',\n",
       " 'clearly',\n",
       " 'sequel',\n",
       " 'ones',\n",
       " 'problems',\n",
       " 'due',\n",
       " 'straight',\n",
       " 'rating',\n",
       " 'french',\n",
       " 'talk',\n",
       " 'future',\n",
       " 'british',\n",
       " 'upon',\n",
       " 'events',\n",
       " 'sets',\n",
       " 'die',\n",
       " 'fast',\n",
       " 'local',\n",
       " 'tells',\n",
       " '0',\n",
       " 'add',\n",
       " 'comic',\n",
       " 'television',\n",
       " 'parents',\n",
       " 'earth',\n",
       " 'sequence',\n",
       " 'class',\n",
       " 'entertainment',\n",
       " 'above',\n",
       " 'ten',\n",
       " 'bring',\n",
       " '9',\n",
       " 'king',\n",
       " 'dialog',\n",
       " 'hate',\n",
       " 'team',\n",
       " 'easily',\n",
       " 'review',\n",
       " 'clear',\n",
       " 'giving',\n",
       " 'musical',\n",
       " 'george',\n",
       " 'predictable',\n",
       " 'appears',\n",
       " 'within',\n",
       " 'near',\n",
       " 'lots',\n",
       " 'similar',\n",
       " 'five',\n",
       " 'romantic',\n",
       " 'easy',\n",
       " 'falls',\n",
       " 'filmed',\n",
       " 'storyline',\n",
       " 'enjoyable',\n",
       " 'bunch',\n",
       " '7',\n",
       " 'supporting',\n",
       " 'space',\n",
       " 'mention',\n",
       " 'typical',\n",
       " 'ways',\n",
       " 'certain',\n",
       " 'episodes',\n",
       " 'working',\n",
       " 'named',\n",
       " 'moving',\n",
       " 'message',\n",
       " 'whether',\n",
       " 'eye',\n",
       " 'release',\n",
       " 'stand',\n",
       " 'mystery',\n",
       " 'general',\n",
       " 'sorry',\n",
       " '8',\n",
       " 'surprised',\n",
       " 'crime',\n",
       " 'theme',\n",
       " 'elements',\n",
       " 'songs',\n",
       " 'dull',\n",
       " 'among',\n",
       " 'monster',\n",
       " 'fall',\n",
       " 'soundtrack',\n",
       " 'tale',\n",
       " 's',\n",
       " 'gone',\n",
       " 'suspense',\n",
       " 'tried',\n",
       " 'york',\n",
       " 'stay',\n",
       " 'gay',\n",
       " 'needs',\n",
       " 'avoid',\n",
       " 'begins',\n",
       " 'effort',\n",
       " 'showing',\n",
       " 'using',\n",
       " 'kept',\n",
       " 'viewers',\n",
       " 'america',\n",
       " 'points',\n",
       " 'comments',\n",
       " 'theater',\n",
       " 'richard',\n",
       " 'red',\n",
       " 'feels',\n",
       " 'dog',\n",
       " 'sister',\n",
       " 'buy',\n",
       " 'doubt',\n",
       " 'means',\n",
       " 'peter',\n",
       " 'tom',\n",
       " 'leads',\n",
       " 'nearly',\n",
       " 'feature',\n",
       " 'okay',\n",
       " 'viewing',\n",
       " 'brought',\n",
       " 'herself',\n",
       " 'editing',\n",
       " 'rent',\n",
       " 'killing',\n",
       " 'deal',\n",
       " 'period',\n",
       " 'realistic',\n",
       " 'de',\n",
       " 'somehow',\n",
       " 'truth',\n",
       " 'lady',\n",
       " 'imagine',\n",
       " 'form',\n",
       " 'follow',\n",
       " 'famous',\n",
       " 'fantastic',\n",
       " 'sequences',\n",
       " 'check',\n",
       " 'fi',\n",
       " 'move',\n",
       " 'material',\n",
       " 'believable',\n",
       " 'third',\n",
       " 'forget',\n",
       " 'average',\n",
       " 'sci',\n",
       " 'reviews',\n",
       " 'rock',\n",
       " 'paul',\n",
       " 'surprise',\n",
       " 'deep',\n",
       " 'cop',\n",
       " 'greatest',\n",
       " 'premise',\n",
       " 'figure',\n",
       " 'subject',\n",
       " 'whatever',\n",
       " 'lee',\n",
       " 'dr',\n",
       " 're',\n",
       " 'poorly',\n",
       " 'oscar',\n",
       " 'actual',\n",
       " 'expected',\n",
       " 'open',\n",
       " 'learn',\n",
       " 'weak',\n",
       " 'hear',\n",
       " 'indeed',\n",
       " 'free',\n",
       " 'eventually',\n",
       " 'sit',\n",
       " 'lame',\n",
       " 'minute',\n",
       " 'crew',\n",
       " '20',\n",
       " 'forced',\n",
       " 'society',\n",
       " 'western',\n",
       " 'atmosphere',\n",
       " 'possibly',\n",
       " 'animation',\n",
       " 'note',\n",
       " 'box',\n",
       " 'wait',\n",
       " 'situation',\n",
       " 'difficult',\n",
       " 'sexual',\n",
       " 'leaves',\n",
       " 'romance',\n",
       " 'decided',\n",
       " 'otherwise',\n",
       " 'hot',\n",
       " 'begin',\n",
       " 'particular',\n",
       " 'question',\n",
       " 'reading',\n",
       " 'boys',\n",
       " 'stage',\n",
       " 'male',\n",
       " 'acted',\n",
       " 'became',\n",
       " 'plus',\n",
       " 'shame',\n",
       " 'footage',\n",
       " 'personal',\n",
       " 'interested',\n",
       " 'screenplay',\n",
       " 'meet',\n",
       " 'cheesy',\n",
       " 'towards',\n",
       " 'credits',\n",
       " 'previous',\n",
       " 'memorable',\n",
       " 'air',\n",
       " '$',\n",
       " 'doctor',\n",
       " 'gun',\n",
       " 'nor',\n",
       " 'earlier',\n",
       " 'effect',\n",
       " 'battle',\n",
       " 'street',\n",
       " 'island',\n",
       " 'needed',\n",
       " 'features',\n",
       " 'hands',\n",
       " 'unless',\n",
       " 'emotional',\n",
       " 'worked',\n",
       " 'powerful',\n",
       " 'whom',\n",
       " 'perfectly',\n",
       " 'joe',\n",
       " 'result',\n",
       " 'laughs',\n",
       " 'business',\n",
       " 'imdb',\n",
       " 'quickly',\n",
       " 'writers',\n",
       " 'setting',\n",
       " 'mess',\n",
       " 'keeps',\n",
       " 'write',\n",
       " 'total',\n",
       " 'season',\n",
       " 'background',\n",
       " 'forward',\n",
       " 'comment',\n",
       " 'badly',\n",
       " 'older',\n",
       " 'nature',\n",
       " 'crazy',\n",
       " 'dance',\n",
       " 'dramatic',\n",
       " 'masterpiece',\n",
       " 'meets',\n",
       " 'girlfriend',\n",
       " 'mark',\n",
       " 'bill',\n",
       " 'pay',\n",
       " 'various',\n",
       " 'superb',\n",
       " 'rich',\n",
       " 'appear',\n",
       " 'era',\n",
       " 'baby',\n",
       " 'realize',\n",
       " 'weird',\n",
       " 'directing',\n",
       " 'unique',\n",
       " 'inside',\n",
       " 'japanese',\n",
       " 'front',\n",
       " 'sounds',\n",
       " 'brothers',\n",
       " 'development',\n",
       " 'present',\n",
       " 'incredibly',\n",
       " 'telling',\n",
       " 'beauty',\n",
       " 'twist',\n",
       " 'plenty',\n",
       " 'fairly',\n",
       " 'party',\n",
       " 'brings',\n",
       " 'copy',\n",
       " 'fighting',\n",
       " 'william',\n",
       " 'apart',\n",
       " 'directors',\n",
       " 'break',\n",
       " 'outside',\n",
       " 'secret',\n",
       " 'rate',\n",
       " 'dumb',\n",
       " ...]"
      ]
     },
     "execution_count": 54,
     "metadata": {},
     "output_type": "execute_result"
    }
   ],
   "source": [
    "lstm_model.dls.vocab"
   ]
  },
  {
   "cell_type": "code",
   "execution_count": 5,
   "metadata": {},
   "outputs": [
    {
     "data": {
      "application/vnd.jupyter.widget-view+json": {
       "model_id": "c0e1e8bd73404bfd98db9282ac47b8fc",
       "version_major": 2,
       "version_minor": 0
      },
      "text/plain": [
       "HBox(children=(HTML(value='Downloading'), FloatProgress(value=0.0, max=665.0), HTML(value='')))"
      ]
     },
     "metadata": {},
     "output_type": "display_data"
    },
    {
     "name": "stdout",
     "output_type": "stream",
     "text": [
      "\n"
     ]
    },
    {
     "data": {
      "application/vnd.jupyter.widget-view+json": {
       "model_id": "5c1fb42d52ab4e919e3a2d847a5ce519",
       "version_major": 2,
       "version_minor": 0
      },
      "text/plain": [
       "HBox(children=(HTML(value='Downloading'), FloatProgress(value=0.0, max=1042301.0), HTML(value='')))"
      ]
     },
     "metadata": {},
     "output_type": "display_data"
    },
    {
     "name": "stdout",
     "output_type": "stream",
     "text": [
      "\n"
     ]
    },
    {
     "data": {
      "application/vnd.jupyter.widget-view+json": {
       "model_id": "e8931fcdb86f49d6a05621d29c2f076c",
       "version_major": 2,
       "version_minor": 0
      },
      "text/plain": [
       "HBox(children=(HTML(value='Downloading'), FloatProgress(value=0.0, max=456318.0), HTML(value='')))"
      ]
     },
     "metadata": {},
     "output_type": "display_data"
    },
    {
     "name": "stdout",
     "output_type": "stream",
     "text": [
      "\n"
     ]
    },
    {
     "name": "stderr",
     "output_type": "stream",
     "text": [
      "/anaconda/envs/fastai2/lib/python3.8/site-packages/transformers/modeling_auto.py:821: FutureWarning: The class `AutoModelWithLMHead` is deprecated and will be removed in a future version. Please use `AutoModelForCausalLM` for causal language models, `AutoModelForMaskedLM` for masked language models and `AutoModelForSeq2SeqLM` for encoder-decoder models.\n",
      "  warnings.warn(\n"
     ]
    },
    {
     "data": {
      "application/vnd.jupyter.widget-view+json": {
       "model_id": "4389d4d3e5ab48449c8054821f9fbc87",
       "version_major": 2,
       "version_minor": 0
      },
      "text/plain": [
       "HBox(children=(HTML(value='Downloading'), FloatProgress(value=0.0, max=577.0), HTML(value='')))"
      ]
     },
     "metadata": {},
     "output_type": "display_data"
    },
    {
     "name": "stdout",
     "output_type": "stream",
     "text": [
      "\n"
     ]
    },
    {
     "data": {
      "application/vnd.jupyter.widget-view+json": {
       "model_id": "79aa267946094d8e8070a39c277984ce",
       "version_major": 2,
       "version_minor": 0
      },
      "text/plain": [
       "HBox(children=(HTML(value='Downloading'), FloatProgress(value=0.0, max=548123571.0), HTML(value='')))"
      ]
     },
     "metadata": {},
     "output_type": "display_data"
    },
    {
     "name": "stdout",
     "output_type": "stream",
     "text": [
      "\n"
     ]
    },
    {
     "data": {
      "text/plain": [
       "GPT2LMHeadModel(\n",
       "  (transformer): GPT2Model(\n",
       "    (wte): Embedding(50257, 768)\n",
       "    (wpe): Embedding(1024, 768)\n",
       "    (drop): Dropout(p=0.1, inplace=False)\n",
       "    (h): ModuleList(\n",
       "      (0): Block(\n",
       "        (ln_1): LayerNorm((768,), eps=1e-05, elementwise_affine=True)\n",
       "        (attn): Attention(\n",
       "          (c_attn): Conv1D()\n",
       "          (c_proj): Conv1D()\n",
       "          (attn_dropout): Dropout(p=0.1, inplace=False)\n",
       "          (resid_dropout): Dropout(p=0.1, inplace=False)\n",
       "        )\n",
       "        (ln_2): LayerNorm((768,), eps=1e-05, elementwise_affine=True)\n",
       "        (mlp): MLP(\n",
       "          (c_fc): Conv1D()\n",
       "          (c_proj): Conv1D()\n",
       "          (dropout): Dropout(p=0.1, inplace=False)\n",
       "        )\n",
       "      )\n",
       "      (1): Block(\n",
       "        (ln_1): LayerNorm((768,), eps=1e-05, elementwise_affine=True)\n",
       "        (attn): Attention(\n",
       "          (c_attn): Conv1D()\n",
       "          (c_proj): Conv1D()\n",
       "          (attn_dropout): Dropout(p=0.1, inplace=False)\n",
       "          (resid_dropout): Dropout(p=0.1, inplace=False)\n",
       "        )\n",
       "        (ln_2): LayerNorm((768,), eps=1e-05, elementwise_affine=True)\n",
       "        (mlp): MLP(\n",
       "          (c_fc): Conv1D()\n",
       "          (c_proj): Conv1D()\n",
       "          (dropout): Dropout(p=0.1, inplace=False)\n",
       "        )\n",
       "      )\n",
       "      (2): Block(\n",
       "        (ln_1): LayerNorm((768,), eps=1e-05, elementwise_affine=True)\n",
       "        (attn): Attention(\n",
       "          (c_attn): Conv1D()\n",
       "          (c_proj): Conv1D()\n",
       "          (attn_dropout): Dropout(p=0.1, inplace=False)\n",
       "          (resid_dropout): Dropout(p=0.1, inplace=False)\n",
       "        )\n",
       "        (ln_2): LayerNorm((768,), eps=1e-05, elementwise_affine=True)\n",
       "        (mlp): MLP(\n",
       "          (c_fc): Conv1D()\n",
       "          (c_proj): Conv1D()\n",
       "          (dropout): Dropout(p=0.1, inplace=False)\n",
       "        )\n",
       "      )\n",
       "      (3): Block(\n",
       "        (ln_1): LayerNorm((768,), eps=1e-05, elementwise_affine=True)\n",
       "        (attn): Attention(\n",
       "          (c_attn): Conv1D()\n",
       "          (c_proj): Conv1D()\n",
       "          (attn_dropout): Dropout(p=0.1, inplace=False)\n",
       "          (resid_dropout): Dropout(p=0.1, inplace=False)\n",
       "        )\n",
       "        (ln_2): LayerNorm((768,), eps=1e-05, elementwise_affine=True)\n",
       "        (mlp): MLP(\n",
       "          (c_fc): Conv1D()\n",
       "          (c_proj): Conv1D()\n",
       "          (dropout): Dropout(p=0.1, inplace=False)\n",
       "        )\n",
       "      )\n",
       "      (4): Block(\n",
       "        (ln_1): LayerNorm((768,), eps=1e-05, elementwise_affine=True)\n",
       "        (attn): Attention(\n",
       "          (c_attn): Conv1D()\n",
       "          (c_proj): Conv1D()\n",
       "          (attn_dropout): Dropout(p=0.1, inplace=False)\n",
       "          (resid_dropout): Dropout(p=0.1, inplace=False)\n",
       "        )\n",
       "        (ln_2): LayerNorm((768,), eps=1e-05, elementwise_affine=True)\n",
       "        (mlp): MLP(\n",
       "          (c_fc): Conv1D()\n",
       "          (c_proj): Conv1D()\n",
       "          (dropout): Dropout(p=0.1, inplace=False)\n",
       "        )\n",
       "      )\n",
       "      (5): Block(\n",
       "        (ln_1): LayerNorm((768,), eps=1e-05, elementwise_affine=True)\n",
       "        (attn): Attention(\n",
       "          (c_attn): Conv1D()\n",
       "          (c_proj): Conv1D()\n",
       "          (attn_dropout): Dropout(p=0.1, inplace=False)\n",
       "          (resid_dropout): Dropout(p=0.1, inplace=False)\n",
       "        )\n",
       "        (ln_2): LayerNorm((768,), eps=1e-05, elementwise_affine=True)\n",
       "        (mlp): MLP(\n",
       "          (c_fc): Conv1D()\n",
       "          (c_proj): Conv1D()\n",
       "          (dropout): Dropout(p=0.1, inplace=False)\n",
       "        )\n",
       "      )\n",
       "      (6): Block(\n",
       "        (ln_1): LayerNorm((768,), eps=1e-05, elementwise_affine=True)\n",
       "        (attn): Attention(\n",
       "          (c_attn): Conv1D()\n",
       "          (c_proj): Conv1D()\n",
       "          (attn_dropout): Dropout(p=0.1, inplace=False)\n",
       "          (resid_dropout): Dropout(p=0.1, inplace=False)\n",
       "        )\n",
       "        (ln_2): LayerNorm((768,), eps=1e-05, elementwise_affine=True)\n",
       "        (mlp): MLP(\n",
       "          (c_fc): Conv1D()\n",
       "          (c_proj): Conv1D()\n",
       "          (dropout): Dropout(p=0.1, inplace=False)\n",
       "        )\n",
       "      )\n",
       "      (7): Block(\n",
       "        (ln_1): LayerNorm((768,), eps=1e-05, elementwise_affine=True)\n",
       "        (attn): Attention(\n",
       "          (c_attn): Conv1D()\n",
       "          (c_proj): Conv1D()\n",
       "          (attn_dropout): Dropout(p=0.1, inplace=False)\n",
       "          (resid_dropout): Dropout(p=0.1, inplace=False)\n",
       "        )\n",
       "        (ln_2): LayerNorm((768,), eps=1e-05, elementwise_affine=True)\n",
       "        (mlp): MLP(\n",
       "          (c_fc): Conv1D()\n",
       "          (c_proj): Conv1D()\n",
       "          (dropout): Dropout(p=0.1, inplace=False)\n",
       "        )\n",
       "      )\n",
       "      (8): Block(\n",
       "        (ln_1): LayerNorm((768,), eps=1e-05, elementwise_affine=True)\n",
       "        (attn): Attention(\n",
       "          (c_attn): Conv1D()\n",
       "          (c_proj): Conv1D()\n",
       "          (attn_dropout): Dropout(p=0.1, inplace=False)\n",
       "          (resid_dropout): Dropout(p=0.1, inplace=False)\n",
       "        )\n",
       "        (ln_2): LayerNorm((768,), eps=1e-05, elementwise_affine=True)\n",
       "        (mlp): MLP(\n",
       "          (c_fc): Conv1D()\n",
       "          (c_proj): Conv1D()\n",
       "          (dropout): Dropout(p=0.1, inplace=False)\n",
       "        )\n",
       "      )\n",
       "      (9): Block(\n",
       "        (ln_1): LayerNorm((768,), eps=1e-05, elementwise_affine=True)\n",
       "        (attn): Attention(\n",
       "          (c_attn): Conv1D()\n",
       "          (c_proj): Conv1D()\n",
       "          (attn_dropout): Dropout(p=0.1, inplace=False)\n",
       "          (resid_dropout): Dropout(p=0.1, inplace=False)\n",
       "        )\n",
       "        (ln_2): LayerNorm((768,), eps=1e-05, elementwise_affine=True)\n",
       "        (mlp): MLP(\n",
       "          (c_fc): Conv1D()\n",
       "          (c_proj): Conv1D()\n",
       "          (dropout): Dropout(p=0.1, inplace=False)\n",
       "        )\n",
       "      )\n",
       "      (10): Block(\n",
       "        (ln_1): LayerNorm((768,), eps=1e-05, elementwise_affine=True)\n",
       "        (attn): Attention(\n",
       "          (c_attn): Conv1D()\n",
       "          (c_proj): Conv1D()\n",
       "          (attn_dropout): Dropout(p=0.1, inplace=False)\n",
       "          (resid_dropout): Dropout(p=0.1, inplace=False)\n",
       "        )\n",
       "        (ln_2): LayerNorm((768,), eps=1e-05, elementwise_affine=True)\n",
       "        (mlp): MLP(\n",
       "          (c_fc): Conv1D()\n",
       "          (c_proj): Conv1D()\n",
       "          (dropout): Dropout(p=0.1, inplace=False)\n",
       "        )\n",
       "      )\n",
       "      (11): Block(\n",
       "        (ln_1): LayerNorm((768,), eps=1e-05, elementwise_affine=True)\n",
       "        (attn): Attention(\n",
       "          (c_attn): Conv1D()\n",
       "          (c_proj): Conv1D()\n",
       "          (attn_dropout): Dropout(p=0.1, inplace=False)\n",
       "          (resid_dropout): Dropout(p=0.1, inplace=False)\n",
       "        )\n",
       "        (ln_2): LayerNorm((768,), eps=1e-05, elementwise_affine=True)\n",
       "        (mlp): MLP(\n",
       "          (c_fc): Conv1D()\n",
       "          (c_proj): Conv1D()\n",
       "          (dropout): Dropout(p=0.1, inplace=False)\n",
       "        )\n",
       "      )\n",
       "    )\n",
       "    (ln_f): LayerNorm((768,), eps=1e-05, elementwise_affine=True)\n",
       "  )\n",
       "  (lm_head): Linear(in_features=768, out_features=50257, bias=False)\n",
       ")"
      ]
     },
     "execution_count": 5,
     "metadata": {},
     "output_type": "execute_result"
    }
   ],
   "source": [
    "tokenizer = AutoTokenizer.from_pretrained(\"gpt2\")\n",
    "neutral_model = AutoModelWithLMHead.from_pretrained(\"lvwerra/gpt2-imdb\")\n",
    "neutral_model.to('cuda')"
   ]
  },
  {
   "cell_type": "code",
   "execution_count": 60,
   "metadata": {},
   "outputs": [],
   "source": [
    "vocab = sorted(lstm_model.dls.vocab)"
   ]
  },
  {
   "cell_type": "code",
   "execution_count": 61,
   "metadata": {},
   "outputs": [
    {
     "data": {
      "text/plain": [
       "['\\t',\n",
       " '\\n\\n',\n",
       " '\\n\\n\\t',\n",
       " '\\n\\n\\x85',\n",
       " '\\n\\n▁',\n",
       " '\\n▁',\n",
       " '!',\n",
       " '\"',\n",
       " '\")',\n",
       " '\"a',\n",
       " '\"the',\n",
       " '#',\n",
       " '$',\n",
       " '%',\n",
       " '&',\n",
       " \"'\",\n",
       " \"''\",\n",
       " \"'bout\",\n",
       " \"'cause\",\n",
       " \"'cos\",\n",
       " \"'cuz\",\n",
       " \"'d\",\n",
       " \"'em\",\n",
       " \"'ll\",\n",
       " \"'m\",\n",
       " \"'nuff\",\n",
       " \"'re\",\n",
       " \"'s\",\n",
       " \"'ve\",\n",
       " '(',\n",
       " '(:',\n",
       " '(=',\n",
       " ')',\n",
       " '):',\n",
       " '*',\n",
       " '+',\n",
       " '+1',\n",
       " ',',\n",
       " ',etc',\n",
       " '-',\n",
       " '--',\n",
       " '--a',\n",
       " '--all',\n",
       " '--and',\n",
       " '--as',\n",
       " '--even',\n",
       " '--i',\n",
       " '--or',\n",
       " '--polarisdib',\n",
       " '--shelly',\n",
       " '--the',\n",
       " '-.-',\n",
       " '-1',\n",
       " '-10',\n",
       " '-100',\n",
       " '-2',\n",
       " '-20',\n",
       " '-4',\n",
       " '-5',\n",
       " '-50',\n",
       " '-7',\n",
       " '-8',\n",
       " '-a',\n",
       " '-all',\n",
       " '-an',\n",
       " '-and',\n",
       " '-ap3-',\n",
       " '-apparently',\n",
       " '-as',\n",
       " '-at',\n",
       " '-bad',\n",
       " '-because',\n",
       " '-but',\n",
       " '-celluloid',\n",
       " '-chris',\n",
       " '-d',\n",
       " '-facts',\n",
       " '-for',\n",
       " '-good',\n",
       " '-great',\n",
       " '-he',\n",
       " '-his',\n",
       " '-how',\n",
       " '-i',\n",
       " '-if',\n",
       " '-in',\n",
       " '-including',\n",
       " '-is',\n",
       " '-it',\n",
       " '-john',\n",
       " '-just',\n",
       " '-la',\n",
       " '-ld',\n",
       " '-like',\n",
       " '-maybe',\n",
       " '-more',\n",
       " '-mostly',\n",
       " '-no',\n",
       " '-not',\n",
       " '-now']"
      ]
     },
     "execution_count": 61,
     "metadata": {},
     "output_type": "execute_result"
    }
   ],
   "source": [
    "vocab[:100]"
   ]
  },
  {
   "cell_type": "code",
   "execution_count": 62,
   "metadata": {},
   "outputs": [
    {
     "ename": "AttributeError",
     "evalue": "'list' object has no attribute 'startswith'",
     "output_type": "error",
     "traceback": [
      "\u001b[0;31m---------------------------------------------------------------------------\u001b[0m",
      "\u001b[0;31mAttributeError\u001b[0m                            Traceback (most recent call last)",
      "\u001b[0;32m<ipython-input-62-65d352274d74>\u001b[0m in \u001b[0;36m<module>\u001b[0;34m\u001b[0m\n\u001b[0;32m----> 1\u001b[0;31m \u001b[0mvocab\u001b[0m\u001b[0;34m.\u001b[0m\u001b[0mstartswith\u001b[0m\u001b[0;34m(\u001b[0m\u001b[0;34m'li'\u001b[0m\u001b[0;34m)\u001b[0m\u001b[0;34m\u001b[0m\u001b[0;34m\u001b[0m\u001b[0m\n\u001b[0m",
      "\u001b[0;31mAttributeError\u001b[0m: 'list' object has no attribute 'startswith'"
     ]
    }
   ],
   "source": [
    "vocab.startswith('li')"
   ]
  },
  {
   "cell_type": "code",
   "execution_count": 81,
   "metadata": {},
   "outputs": [],
   "source": [
    "def complete_word_transformer(language_model, tokenizer, vocab, text, final_word):\n",
    "    if len(text) == 0:\n",
    "        return ''\n",
    "    ids = tokenizer.encode(text)\n",
    "    t = torch.LongTensor(ids)[None].to('cuda')\n",
    "    logits = language_model.forward(t)[0][-1][-1]\n",
    "    sorted_indices = torch.argsort(logits, descending=True)\n",
    "    for tk_idx in sorted_indices:\n",
    "        word = tokenizer.decode([tk_idx.cpu()])\n",
    "        if word.lower().startswith(final_word):\n",
    "            if word.lower() != final_word and word.lower() in vocab:\n",
    "                return word[len(final_word):]\n",
    "    return \"\""
   ]
  },
  {
   "cell_type": "code",
   "execution_count": 82,
   "metadata": {},
   "outputs": [
    {
     "data": {
      "text/plain": [
       "'ue'"
      ]
     },
     "execution_count": 82,
     "metadata": {},
     "output_type": "execute_result"
    }
   ],
   "source": [
    "complete_word_transformer(neutral_model, tokenizer, vocab, \"the real\", \"iss\")"
   ]
  },
  {
   "cell_type": "code",
   "execution_count": 73,
   "metadata": {},
   "outputs": [],
   "source": [
    "text = 'hello'"
   ]
  },
  {
   "cell_type": "code",
   "execution_count": 76,
   "metadata": {},
   "outputs": [],
   "source": [
    "text.startswith??"
   ]
  },
  {
   "cell_type": "code",
   "execution_count": null,
   "metadata": {},
   "outputs": [],
   "source": [
    "'abc'.startwith"
   ]
  },
  {
   "cell_type": "code",
   "execution_count": null,
   "metadata": {},
   "outputs": [],
   "source": []
  }
 ],
 "metadata": {
  "kernelspec": {
   "display_name": "fastai2",
   "language": "python",
   "name": "conda-env-fastai2-py"
  },
  "language_info": {
   "codemirror_mode": {
    "name": "ipython",
    "version": 3
   },
   "file_extension": ".py",
   "mimetype": "text/x-python",
   "name": "python",
   "nbconvert_exporter": "python",
   "pygments_lexer": "ipython3",
   "version": "3.8.5"
  }
 },
 "nbformat": 4,
 "nbformat_minor": 4
}
