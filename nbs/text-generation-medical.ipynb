{
 "cells": [
  {
   "cell_type": "code",
   "execution_count": 1,
   "metadata": {},
   "outputs": [],
   "source": [
    "from fastai.text.all import *\n",
    "from pathlib import Path\n",
    "import pandas as pd\n",
    "from random import choice\n",
    "import re"
   ]
  },
  {
   "cell_type": "code",
   "execution_count": 2,
   "metadata": {},
   "outputs": [],
   "source": [
    "path = Path('../data/')"
   ]
  },
  {
   "cell_type": "code",
   "execution_count": 3,
   "metadata": {},
   "outputs": [
    {
     "data": {
      "text/html": [
       "<div>\n",
       "<style scoped>\n",
       "    .dataframe tbody tr th:only-of-type {\n",
       "        vertical-align: middle;\n",
       "    }\n",
       "\n",
       "    .dataframe tbody tr th {\n",
       "        vertical-align: top;\n",
       "    }\n",
       "\n",
       "    .dataframe thead th {\n",
       "        text-align: right;\n",
       "    }\n",
       "</style>\n",
       "<table border=\"1\" class=\"dataframe\">\n",
       "  <thead>\n",
       "    <tr style=\"text-align: right;\">\n",
       "      <th></th>\n",
       "      <th>Unnamed: 0</th>\n",
       "      <th>description</th>\n",
       "      <th>medical_specialty</th>\n",
       "      <th>sample_name</th>\n",
       "      <th>transcription</th>\n",
       "      <th>keywords</th>\n",
       "    </tr>\n",
       "  </thead>\n",
       "  <tbody>\n",
       "    <tr>\n",
       "      <th>0</th>\n",
       "      <td>0</td>\n",
       "      <td>A 23-year-old white female presents with complaint of allergies.</td>\n",
       "      <td>Allergy / Immunology</td>\n",
       "      <td>Allergic Rhinitis</td>\n",
       "      <td>SUBJECTIVE:,  This 23-year-old white female presents with complaint of allergies.  She used to have allergies when she lived in Seattle but she thinks they are worse here.  In the past, she has tried Claritin, and Zyrtec.  Both worked for short time but then seemed to lose effectiveness.  She has used Allegra also.  She used that last summer and she began using it again two weeks ago.  It does not appear to be working very well.  She has used over-the-counter sprays but no prescription nasal sprays.  She does have asthma but doest not require daily medication for this and does not think it...</td>\n",
       "      <td>allergy / immunology, allergic rhinitis, allergies, asthma, nasal sprays, rhinitis, nasal, erythematous, allegra, sprays, allergic,</td>\n",
       "    </tr>\n",
       "    <tr>\n",
       "      <th>1</th>\n",
       "      <td>1</td>\n",
       "      <td>Consult for laparoscopic gastric bypass.</td>\n",
       "      <td>Bariatrics</td>\n",
       "      <td>Laparoscopic Gastric Bypass Consult - 2</td>\n",
       "      <td>PAST MEDICAL HISTORY:, He has difficulty climbing stairs, difficulty with airline seats, tying shoes, used to public seating, and lifting objects off the floor.  He exercises three times a week at home and does cardio.  He has difficulty walking two blocks or five flights of stairs.  Difficulty with snoring.  He has muscle and joint pains including knee pain, back pain, foot and ankle pain, and swelling.  He has gastroesophageal reflux disease.,PAST SURGICAL HISTORY:, Includes reconstructive surgery on his right hand 13 years ago.  ,SOCIAL HISTORY:, He is currently single.  He has about te...</td>\n",
       "      <td>bariatrics, laparoscopic gastric bypass, weight loss programs, gastric bypass, atkin's diet, weight watcher's, body weight, laparoscopic gastric, weight loss, pounds, months, weight, laparoscopic, band, loss, diets, overweight, lost</td>\n",
       "    </tr>\n",
       "    <tr>\n",
       "      <th>2</th>\n",
       "      <td>2</td>\n",
       "      <td>Consult for laparoscopic gastric bypass.</td>\n",
       "      <td>Bariatrics</td>\n",
       "      <td>Laparoscopic Gastric Bypass Consult - 1</td>\n",
       "      <td>HISTORY OF PRESENT ILLNESS: , I have seen ABC today.  He is a very pleasant gentleman who is 42 years old, 344 pounds.  He is 5'9\".  He has a BMI of 51.  He has been overweight for ten years since the age of 33, at his highest he was 358 pounds, at his lowest 260.  He is pursuing surgical attempts of weight loss to feel good, get healthy, and begin to exercise again.  He wants to be able to exercise and play volleyball.  Physically, he is sluggish.  He gets tired quickly.  He does not go out often.  When he loses weight he always regains it and he gains back more than he lost.  His biggest...</td>\n",
       "      <td>bariatrics, laparoscopic gastric bypass, heart attacks, body weight, pulmonary embolism, potential complications, sleep study, weight loss, gastric bypass, anastomosis, loss, sleep, laparoscopic, gastric, bypass, heart, pounds, weight,</td>\n",
       "    </tr>\n",
       "    <tr>\n",
       "      <th>3</th>\n",
       "      <td>3</td>\n",
       "      <td>2-D M-Mode. Doppler.</td>\n",
       "      <td>Cardiovascular / Pulmonary</td>\n",
       "      <td>2-D Echocardiogram - 1</td>\n",
       "      <td>2-D M-MODE: , ,1.  Left atrial enlargement with left atrial diameter of 4.7 cm.,2.  Normal size right and left ventricle.,3.  Normal LV systolic function with left ventricular ejection fraction of 51%.,4.  Normal LV diastolic function.,5.  No pericardial effusion.,6.  Normal morphology of aortic valve, mitral valve, tricuspid valve, and pulmonary valve.,7.  PA systolic pressure is 36 mmHg.,DOPPLER: , ,1.  Mild mitral and tricuspid regurgitation.,2.  Trace aortic and pulmonary regurgitation.</td>\n",
       "      <td>cardiovascular / pulmonary, 2-d m-mode, doppler, aortic valve, atrial enlargement, diastolic function, ejection fraction, mitral, mitral valve, pericardial effusion, pulmonary valve, regurgitation, systolic function, tricuspid, tricuspid valve, normal lv</td>\n",
       "    </tr>\n",
       "    <tr>\n",
       "      <th>4</th>\n",
       "      <td>4</td>\n",
       "      <td>2-D Echocardiogram</td>\n",
       "      <td>Cardiovascular / Pulmonary</td>\n",
       "      <td>2-D Echocardiogram - 2</td>\n",
       "      <td>1.  The left ventricular cavity size and wall thickness appear normal.  The wall motion and left ventricular systolic function appears hyperdynamic with estimated ejection fraction of 70% to 75%.  There is near-cavity obliteration seen.  There also appears to be increased left ventricular outflow tract gradient at the mid cavity level consistent with hyperdynamic left ventricular systolic function.  There is abnormal left ventricular relaxation pattern seen as well as elevated left atrial pressures seen by Doppler examination.,2.  The left atrium appears mildly dilated.,3.  The right atriu...</td>\n",
       "      <td>cardiovascular / pulmonary, 2-d, doppler, echocardiogram, annular, aortic root, aortic valve, atrial, atrium, calcification, cavity, ejection fraction, mitral, obliteration, outflow, regurgitation, relaxation pattern, stenosis, systolic function, tricuspid, valve, ventricular, ventricular cavity, wall motion, pulmonary artery</td>\n",
       "    </tr>\n",
       "  </tbody>\n",
       "</table>\n",
       "</div>"
      ],
      "text/plain": [
       "   Unnamed: 0  \\\n",
       "0           0   \n",
       "1           1   \n",
       "2           2   \n",
       "3           3   \n",
       "4           4   \n",
       "\n",
       "                                                         description  \\\n",
       "0   A 23-year-old white female presents with complaint of allergies.   \n",
       "1                           Consult for laparoscopic gastric bypass.   \n",
       "2                           Consult for laparoscopic gastric bypass.   \n",
       "3                                             2-D M-Mode. Doppler.     \n",
       "4                                                 2-D Echocardiogram   \n",
       "\n",
       "             medical_specialty                                sample_name  \\\n",
       "0         Allergy / Immunology                         Allergic Rhinitis    \n",
       "1                   Bariatrics   Laparoscopic Gastric Bypass Consult - 2    \n",
       "2                   Bariatrics   Laparoscopic Gastric Bypass Consult - 1    \n",
       "3   Cardiovascular / Pulmonary                    2-D Echocardiogram - 1    \n",
       "4   Cardiovascular / Pulmonary                    2-D Echocardiogram - 2    \n",
       "\n",
       "                                                                                                                                                                                                                                                                                                                                                                                                                                                                                                                                                                                                             transcription  \\\n",
       "0  SUBJECTIVE:,  This 23-year-old white female presents with complaint of allergies.  She used to have allergies when she lived in Seattle but she thinks they are worse here.  In the past, she has tried Claritin, and Zyrtec.  Both worked for short time but then seemed to lose effectiveness.  She has used Allegra also.  She used that last summer and she began using it again two weeks ago.  It does not appear to be working very well.  She has used over-the-counter sprays but no prescription nasal sprays.  She does have asthma but doest not require daily medication for this and does not think it...   \n",
       "1  PAST MEDICAL HISTORY:, He has difficulty climbing stairs, difficulty with airline seats, tying shoes, used to public seating, and lifting objects off the floor.  He exercises three times a week at home and does cardio.  He has difficulty walking two blocks or five flights of stairs.  Difficulty with snoring.  He has muscle and joint pains including knee pain, back pain, foot and ankle pain, and swelling.  He has gastroesophageal reflux disease.,PAST SURGICAL HISTORY:, Includes reconstructive surgery on his right hand 13 years ago.  ,SOCIAL HISTORY:, He is currently single.  He has about te...   \n",
       "2  HISTORY OF PRESENT ILLNESS: , I have seen ABC today.  He is a very pleasant gentleman who is 42 years old, 344 pounds.  He is 5'9\".  He has a BMI of 51.  He has been overweight for ten years since the age of 33, at his highest he was 358 pounds, at his lowest 260.  He is pursuing surgical attempts of weight loss to feel good, get healthy, and begin to exercise again.  He wants to be able to exercise and play volleyball.  Physically, he is sluggish.  He gets tired quickly.  He does not go out often.  When he loses weight he always regains it and he gains back more than he lost.  His biggest...   \n",
       "3                                                                                                          2-D M-MODE: , ,1.  Left atrial enlargement with left atrial diameter of 4.7 cm.,2.  Normal size right and left ventricle.,3.  Normal LV systolic function with left ventricular ejection fraction of 51%.,4.  Normal LV diastolic function.,5.  No pericardial effusion.,6.  Normal morphology of aortic valve, mitral valve, tricuspid valve, and pulmonary valve.,7.  PA systolic pressure is 36 mmHg.,DOPPLER: , ,1.  Mild mitral and tricuspid regurgitation.,2.  Trace aortic and pulmonary regurgitation.   \n",
       "4  1.  The left ventricular cavity size and wall thickness appear normal.  The wall motion and left ventricular systolic function appears hyperdynamic with estimated ejection fraction of 70% to 75%.  There is near-cavity obliteration seen.  There also appears to be increased left ventricular outflow tract gradient at the mid cavity level consistent with hyperdynamic left ventricular systolic function.  There is abnormal left ventricular relaxation pattern seen as well as elevated left atrial pressures seen by Doppler examination.,2.  The left atrium appears mildly dilated.,3.  The right atriu...   \n",
       "\n",
       "                                                                                                                                                                                                                                                                                                                                  keywords  \n",
       "0                                                                                                                                                                                                      allergy / immunology, allergic rhinitis, allergies, asthma, nasal sprays, rhinitis, nasal, erythematous, allegra, sprays, allergic,  \n",
       "1                                                                                                 bariatrics, laparoscopic gastric bypass, weight loss programs, gastric bypass, atkin's diet, weight watcher's, body weight, laparoscopic gastric, weight loss, pounds, months, weight, laparoscopic, band, loss, diets, overweight, lost  \n",
       "2                                                                                              bariatrics, laparoscopic gastric bypass, heart attacks, body weight, pulmonary embolism, potential complications, sleep study, weight loss, gastric bypass, anastomosis, loss, sleep, laparoscopic, gastric, bypass, heart, pounds, weight,  \n",
       "3                                                                          cardiovascular / pulmonary, 2-d m-mode, doppler, aortic valve, atrial enlargement, diastolic function, ejection fraction, mitral, mitral valve, pericardial effusion, pulmonary valve, regurgitation, systolic function, tricuspid, tricuspid valve, normal lv   \n",
       "4  cardiovascular / pulmonary, 2-d, doppler, echocardiogram, annular, aortic root, aortic valve, atrial, atrium, calcification, cavity, ejection fraction, mitral, obliteration, outflow, regurgitation, relaxation pattern, stenosis, systolic function, tricuspid, valve, ventricular, ventricular cavity, wall motion, pulmonary artery  "
      ]
     },
     "execution_count": 3,
     "metadata": {},
     "output_type": "execute_result"
    }
   ],
   "source": [
    "df = pd.read_csv(path/'mtsamples.csv'); df.head()"
   ]
  },
  {
   "cell_type": "code",
   "execution_count": 4,
   "metadata": {},
   "outputs": [
    {
     "data": {
      "text/html": [],
      "text/plain": [
       "<IPython.core.display.HTML object>"
      ]
     },
     "metadata": {},
     "output_type": "display_data"
    },
    {
     "name": "stderr",
     "output_type": "stream",
     "text": [
      "/anaconda/envs/fastai2/lib/python3.8/site-packages/numpy/core/_asarray.py:83: VisibleDeprecationWarning: Creating an ndarray from ragged nested sequences (which is a list-or-tuple of lists-or-tuples-or ndarrays with different lengths or shapes) is deprecated. If you meant to do this, you must specify 'dtype=object' when creating the ndarray\n",
      "  return array(a, dtype, copy=False, order=order)\n"
     ]
    }
   ],
   "source": [
    "data_lm = TextDataLoaders.from_df(df, path, valid_pct=0.1, seed=7, text_col='transcription', is_lm=True)"
   ]
  },
  {
   "cell_type": "code",
   "execution_count": 5,
   "metadata": {},
   "outputs": [
    {
     "data": {
      "text/html": [
       "<table border=\"1\" class=\"dataframe\">\n",
       "  <thead>\n",
       "    <tr style=\"text-align: right;\">\n",
       "      <th></th>\n",
       "      <th>text</th>\n",
       "      <th>text_</th>\n",
       "    </tr>\n",
       "  </thead>\n",
       "  <tbody>\n",
       "    <tr>\n",
       "      <th>0</th>\n",
       "      <td>xxbos xxup admission xxup diagnosis : , xxmaj upper respiratory illness with apnea , possible pertussis . ,discharge xxup diagnosis : , xxmaj upper respiratory illness with apnea , possible pertussis . ,complications : , none . ,operations : , none , brief xxup history xxup and xxup physical : , xxmaj this is a one plus - month - old female with respiratory symptoms for approximately a week prior to admission</td>\n",
       "      <td>xxup admission xxup diagnosis : , xxmaj upper respiratory illness with apnea , possible pertussis . ,discharge xxup diagnosis : , xxmaj upper respiratory illness with apnea , possible pertussis . ,complications : , none . ,operations : , none , brief xxup history xxup and xxup physical : , xxmaj this is a one plus - month - old female with respiratory symptoms for approximately a week prior to admission .</td>\n",
       "    </tr>\n",
       "    <tr>\n",
       "      <th>1</th>\n",
       "      <td>injections were done at the site of maximum hip adduction contraction with least amount of stimulus . xxmaj negative drawback for blood was done prior to each injection of phenol . xxmaj the musculocutaneous nerve was identified in the left upper extremity above the brachial pulse using active xxup emg stimulation . xxmaj approximately 5 ml of 5 % phenol was injected in this location . xxmaj injections in this area were</td>\n",
       "      <td>were done at the site of maximum hip adduction contraction with least amount of stimulus . xxmaj negative drawback for blood was done prior to each injection of phenol . xxmaj the musculocutaneous nerve was identified in the left upper extremity above the brachial pulse using active xxup emg stimulation . xxmaj approximately 5 ml of 5 % phenol was injected in this location . xxmaj injections in this area were done</td>\n",
       "    </tr>\n",
       "    <tr>\n",
       "      <th>2</th>\n",
       "      <td>xxup s1 , xxup s2 . xxmaj no murmurs , rubs , or gallops . xxmaj the abdomen is nontender , nondistended , without palpable organomegaly , guarding , rebound , or pulsatile masses . xxmaj skin is warm and dry to the touch with no discernible cyanosis , clubbing or edema . i can radial , dorsalis pedis and posterior tibial pulses . xxmaj the nailbeds on her feet have trophic</td>\n",
       "      <td>s1 , xxup s2 . xxmaj no murmurs , rubs , or gallops . xxmaj the abdomen is nontender , nondistended , without palpable organomegaly , guarding , rebound , or pulsatile masses . xxmaj skin is warm and dry to the touch with no discernible cyanosis , clubbing or edema . i can radial , dorsalis pedis and posterior tibial pulses . xxmaj the nailbeds on her feet have trophic changes</td>\n",
       "    </tr>\n",
       "    <tr>\n",
       "      <th>3</th>\n",
       "      <td>xxmaj no clubbing or cyanosis . ,cns : benign . ,psychological : normal . ,musculoskeletal : nonsignificant . ,ekg : , xxmaj normal sinus rhythm , incomplete right bundle - branch block . ,laboratory xxup data : , xxup h&amp;h stable . xxup bun and creatinine within normal limits . xxmaj cardiac enzyme profile negative . xxmaj chest x - ray unremarkable . ,impression:,1 . xxmaj lightheaded , dizziness in a 50-year</td>\n",
       "      <td>no clubbing or cyanosis . ,cns : benign . ,psychological : normal . ,musculoskeletal : nonsignificant . ,ekg : , xxmaj normal sinus rhythm , incomplete right bundle - branch block . ,laboratory xxup data : , xxup h&amp;h stable . xxup bun and creatinine within normal limits . xxmaj cardiac enzyme profile negative . xxmaj chest x - ray unremarkable . ,impression:,1 . xxmaj lightheaded , dizziness in a 50-year -</td>\n",
       "    </tr>\n",
       "    <tr>\n",
       "      <th>4</th>\n",
       "      <td>the site to be preserved . xxmaj using sharp and dull dissection , the soft tissue attachments through the fifth left metatarsal head were mobilized . xxmaj the lateral and plantar aspect of the fifth left metatarsal head were adequately exposed and using the sagittal saw a lateral and plantar condylectomy of the fifth left metatarsal head were then achieved . xxmaj the bony prominences were removed and passed off the operating</td>\n",
       "      <td>site to be preserved . xxmaj using sharp and dull dissection , the soft tissue attachments through the fifth left metatarsal head were mobilized . xxmaj the lateral and plantar aspect of the fifth left metatarsal head were adequately exposed and using the sagittal saw a lateral and plantar condylectomy of the fifth left metatarsal head were then achieved . xxmaj the bony prominences were removed and passed off the operating table</td>\n",
       "    </tr>\n",
       "    <tr>\n",
       "      <th>5</th>\n",
       "      <td>underneath the anterior capsular rim . xxmaj the lens was shown to center very well . xxmaj the viscoelastic was removed with the irrigation and aspiration unit and one 10 - 0 nylon suture was placed across the incision after xxmaj miochol was injected into the anterior chamber to cause pupillary constriction . xxmaj the wound was shown to be watertight . xxmaj therefore , tobradex ointment was applied to the eye</td>\n",
       "      <td>the anterior capsular rim . xxmaj the lens was shown to center very well . xxmaj the viscoelastic was removed with the irrigation and aspiration unit and one 10 - 0 nylon suture was placed across the incision after xxmaj miochol was injected into the anterior chamber to cause pupillary constriction . xxmaj the wound was shown to be watertight . xxmaj therefore , tobradex ointment was applied to the eye ,</td>\n",
       "    </tr>\n",
       "    <tr>\n",
       "      <th>6</th>\n",
       "      <td>and the patient was discharged in stable condition . xxbos xxup preoperative xxup diagnoses : , xxmaj multiparity requested sterilization and upper abdominal wall skin mass . , , postoperative xxup diagnoses : , multiparity requested sterilization and upper abdominal wall skin mass . ,operation xxup performed : , xxmaj postpartum tubal ligation and removal of upper abdominal skin wall mass . ,estimated xxup blood xxup loss : , xxmaj less than</td>\n",
       "      <td>the patient was discharged in stable condition . xxbos xxup preoperative xxup diagnoses : , xxmaj multiparity requested sterilization and upper abdominal wall skin mass . , , postoperative xxup diagnoses : , multiparity requested sterilization and upper abdominal wall skin mass . ,operation xxup performed : , xxmaj postpartum tubal ligation and removal of upper abdominal skin wall mass . ,estimated xxup blood xxup loss : , xxmaj less than 5</td>\n",
       "    </tr>\n",
       "    <tr>\n",
       "      <th>7</th>\n",
       "      <td>was removed and a new # 5 metal tracheostomy tube inserted . xxmaj the patient tolerated the procedure well without complications and was taken to recovery room in satisfactory condition . xxbos xxup preoperative xxup diagnosis : , xxmaj right acute on chronic slipped capital femoral epiphysis . ,postoperative xxup diagnosis : , xxmaj right acute on chronic slipped capital femoral epiphysis . ,procedure : , xxmaj revision and in situ pinning</td>\n",
       "      <td>removed and a new # 5 metal tracheostomy tube inserted . xxmaj the patient tolerated the procedure well without complications and was taken to recovery room in satisfactory condition . xxbos xxup preoperative xxup diagnosis : , xxmaj right acute on chronic slipped capital femoral epiphysis . ,postoperative xxup diagnosis : , xxmaj right acute on chronic slipped capital femoral epiphysis . ,procedure : , xxmaj revision and in situ pinning of</td>\n",
       "    </tr>\n",
       "    <tr>\n",
       "      <th>8</th>\n",
       "      <td>the patient was placed in the supine position , shoulder roll , and the head was turned to the right side . xxmaj the entire left scalp was prepped and draped in the usual fashion after having being placed in 2-point skeletal fixation . xxmaj next , we made an inverted - u fashion base over the asterion over temporoparietal area of the skull . a free flap was elevated after the</td>\n",
       "      <td>patient was placed in the supine position , shoulder roll , and the head was turned to the right side . xxmaj the entire left scalp was prepped and draped in the usual fashion after having being placed in 2-point skeletal fixation . xxmaj next , we made an inverted - u fashion base over the asterion over temporoparietal area of the skull . a free flap was elevated after the scalp</td>\n",
       "    </tr>\n",
       "  </tbody>\n",
       "</table>"
      ],
      "text/plain": [
       "<IPython.core.display.HTML object>"
      ]
     },
     "metadata": {},
     "output_type": "display_data"
    }
   ],
   "source": [
    "data_lm.show_batch()"
   ]
  },
  {
   "cell_type": "code",
   "execution_count": 6,
   "metadata": {},
   "outputs": [],
   "source": [
    "learn_lm = language_model_learner(data_lm, AWD_LSTM, metrics=[accuracy, Perplexity()], path=path, wd=0.2, drop_mult=0.3)"
   ]
  },
  {
   "cell_type": "code",
   "execution_count": 7,
   "metadata": {},
   "outputs": [
    {
     "data": {
      "text/html": [],
      "text/plain": [
       "<IPython.core.display.HTML object>"
      ]
     },
     "metadata": {},
     "output_type": "display_data"
    },
    {
     "data": {
      "text/plain": [
       "SuggestedLRs(lr_min=0.04365158379077912, lr_steep=0.02754228748381138)"
      ]
     },
     "execution_count": 7,
     "metadata": {},
     "output_type": "execute_result"
    },
    {
     "data": {
      "image/png": "[encoded data removed]",
      "text/plain": [
       "<Figure size 432x288 with 1 Axes>"
      ]
     },
     "metadata": {
      "needs_background": "light"
     },
     "output_type": "display_data"
    }
   ],
   "source": [
    "learn_lm.lr_find()"
   ]
  },
  {
   "cell_type": "code",
   "execution_count": 8,
   "metadata": {},
   "outputs": [
    {
     "data": {
      "text/html": [
       "<table border=\"1\" class=\"dataframe\">\n",
       "  <thead>\n",
       "    <tr style=\"text-align: left;\">\n",
       "      <th>epoch</th>\n",
       "      <th>train_loss</th>\n",
       "      <th>valid_loss</th>\n",
       "      <th>accuracy</th>\n",
       "      <th>perplexity</th>\n",
       "      <th>time</th>\n",
       "    </tr>\n",
       "  </thead>\n",
       "  <tbody>\n",
       "    <tr>\n",
       "      <td>0</td>\n",
       "      <td>3.217184</td>\n",
       "      <td>2.981575</td>\n",
       "      <td>0.443964</td>\n",
       "      <td>19.718849</td>\n",
       "      <td>05:15</td>\n",
       "    </tr>\n",
       "  </tbody>\n",
       "</table>"
      ],
      "text/plain": [
       "<IPython.core.display.HTML object>"
      ]
     },
     "metadata": {},
     "output_type": "display_data"
    }
   ],
   "source": [
    "learn_lm.fit_one_cycle(1, 5e-2)"
   ]
  },
  {
   "cell_type": "code",
   "execution_count": 9,
   "metadata": {},
   "outputs": [
    {
     "data": {
      "text/plain": [
       "Path('/home/advaitmb/notebooks/projects/PreDiction/models/medical/1epoch.pth')"
      ]
     },
     "execution_count": 9,
     "metadata": {},
     "output_type": "execute_result"
    }
   ],
   "source": [
    "learn_lm.save('/home/advaitmb/notebooks/projects/PreDiction/models/medical/1epoch')"
   ]
  },
  {
   "cell_type": "code",
   "execution_count": 19,
   "metadata": {},
   "outputs": [
    {
     "data": {
      "text/html": [
       "<table border=\"1\" class=\"dataframe\">\n",
       "  <thead>\n",
       "    <tr style=\"text-align: left;\">\n",
       "      <th>epoch</th>\n",
       "      <th>train_loss</th>\n",
       "      <th>valid_loss</th>\n",
       "      <th>accuracy</th>\n",
       "      <th>perplexity</th>\n",
       "      <th>time</th>\n",
       "    </tr>\n",
       "  </thead>\n",
       "  <tbody>\n",
       "    <tr>\n",
       "      <td>0</td>\n",
       "      <td>3.883165</td>\n",
       "      <td>3.939514</td>\n",
       "      <td>0.345794</td>\n",
       "      <td>51.393600</td>\n",
       "      <td>06:17</td>\n",
       "    </tr>\n",
       "    <tr>\n",
       "      <td>1</td>\n",
       "      <td>3.383141</td>\n",
       "      <td>3.321693</td>\n",
       "      <td>0.404654</td>\n",
       "      <td>27.707224</td>\n",
       "      <td>06:20</td>\n",
       "    </tr>\n",
       "    <tr>\n",
       "      <td>2</td>\n",
       "      <td>2.822211</td>\n",
       "      <td>2.696461</td>\n",
       "      <td>0.480261</td>\n",
       "      <td>14.827161</td>\n",
       "      <td>06:19</td>\n",
       "    </tr>\n",
       "  </tbody>\n",
       "</table>"
      ],
      "text/plain": [
       "<IPython.core.display.HTML object>"
      ]
     },
     "metadata": {},
     "output_type": "display_data"
    }
   ],
   "source": [
    "learn_lm.unfreeze()\n",
    "learn_lm.fit_one_cycle(3, 5e-2)"
   ]
  },
  {
   "cell_type": "code",
   "execution_count": 10,
   "metadata": {},
   "outputs": [
    {
     "data": {
      "text/html": [],
      "text/plain": [
       "<IPython.core.display.HTML object>"
      ]
     },
     "metadata": {},
     "output_type": "display_data"
    },
    {
     "data": {
      "text/plain": [
       "\"The patient 's Neurology assessment , the patient was called including Dr . y when asked to grasp the entire\""
      ]
     },
     "execution_count": 10,
     "metadata": {},
     "output_type": "execute_result"
    }
   ],
   "source": [
    "learn_lm.predict(\"The patient\", n_words=20)"
   ]
  },
  {
   "cell_type": "code",
   "execution_count": null,
   "metadata": {},
   "outputs": [],
   "source": []
  },
  {
   "cell_type": "code",
   "execution_count": 11,
   "metadata": {},
   "outputs": [],
   "source": [
    "def beam_search(learn, text:str, n_words:int, no_unk:bool=True, top_k:int=10, beam_sz:int=1000, temperature:float=1.,\n",
    "                    sep:str=' ', decoder=decode_spec_tokens):\n",
    "    learn.model.reset()\n",
    "    learn.model.eval()\n",
    "    idx = learn.dls.test_dl([text]).items[0][None]\n",
    "    nodes = None\n",
    "    nodes = idx.clone()\n",
    "    scores = idx.new_zeros(1).float()\n",
    "    if no_unk: unk_idx = learn.dls.vocab.index(UNK)\n",
    "    with torch.no_grad():\n",
    "        for k in progress_bar(range(n_words), leave=False):\n",
    "            out = F.log_softmax(learn.model(idx)[0][:,-1], dim=-1)\n",
    "            if no_unk: out[:, unk_idx] = -float('Inf')\n",
    "            values, indices = out.topk(top_k, dim=-1)\n",
    "            scores = (-values + scores[:,None]).view(-1)\n",
    "            indices_idx = torch.arange(0,nodes.size(0))[:,None].expand(nodes.size(0), top_k).contiguous().view(-1)\n",
    "            sort_idx = scores.argsort()[:beam_sz]\n",
    "            scores = scores[sort_idx]\n",
    "            nodes = torch.cat([nodes[:,None].expand(nodes.size(0),top_k,nodes.size(1)),\n",
    "                                    indices[:,:,None].expand(nodes.size(0),top_k,1),], dim=2)\n",
    "            nodes = nodes.view(-1, nodes.size(2))[sort_idx]\n",
    "            learn.hidden = [(h[0][:,indices_idx[sort_idx],:],h[1][:,indices_idx[sort_idx],:]) for h in learn.model[0].hidden]\n",
    "            idx = nodes[:,-1][:,None]\n",
    "        if temperature != 1.: scores.div_(temperature)\n",
    "        node_idx = torch.multinomial(torch.exp(-scores), 1).item()\n",
    "        num = learn.dls.train_ds.numericalize\n",
    "        tokens = [num.vocab[i] for i in nodes[node_idx][1:] if num.vocab[i] not in [BOS, PAD]]\n",
    "        sep = learn.dls.train_ds.tokenizer.sep\n",
    "        return sep.join(decoder(tokens))"
   ]
  },
  {
   "cell_type": "code",
   "execution_count": 13,
   "metadata": {},
   "outputs": [],
   "source": [
    "learn_des = load_learner('/home/advaitmb/notebooks/projects/PreDiction/models/design/4epochslearner.pkl')\n",
    "learn_hum = load_learner('/home/advaitmb/notebooks/projects/PreDiction/models/5epochslearner_v2.pkl')"
   ]
  },
  {
   "cell_type": "code",
   "execution_count": 17,
   "metadata": {},
   "outputs": [],
   "source": [
    "text = 'We think'\n"
   ]
  },
  {
   "cell_type": "code",
   "execution_count": 18,
   "metadata": {},
   "outputs": [
    {
     "data": {
      "text/html": [],
      "text/plain": [
       "<IPython.core.display.HTML object>"
      ]
     },
     "metadata": {},
     "output_type": "display_data"
    },
    {
     "data": {
      "text/html": [],
      "text/plain": [
       "<IPython.core.display.HTML object>"
      ]
     },
     "metadata": {},
     "output_type": "display_data"
    },
    {
     "data": {
      "text/html": [],
      "text/plain": [
       "<IPython.core.display.HTML object>"
      ]
     },
     "metadata": {},
     "output_type": "display_data"
    },
    {
     "data": {
      "text/plain": [
       "('We think the President of the United States of',\n",
       " '/n',\n",
       " 'We think that Web search engines are concerned with finding and',\n",
       " 'We think this is a little bit of better . We')"
      ]
     },
     "execution_count": 18,
     "metadata": {},
     "output_type": "execute_result"
    }
   ],
   "source": [
    "learn_hum.predict(text = text , n_words = 10, temperature = 0.7),'/n', learn_des.predict(text = text , n_words = 10, temperature = 0.7), learn_lm.predict(text = text , n_words = 10, temperature = 0.7)"
   ]
  },
  {
   "cell_type": "code",
   "execution_count": null,
   "metadata": {},
   "outputs": [],
   "source": []
  }
 ],
 "metadata": {
  "kernelspec": {
   "display_name": "fastai2",
   "language": "python",
   "name": "fastai2"
  },
  "language_info": {
   "codemirror_mode": {
    "name": "ipython",
    "version": 3
   },
   "file_extension": ".py",
   "mimetype": "text/x-python",
   "name": "python",
   "nbconvert_exporter": "python",
   "pygments_lexer": "ipython3",
   "version": "3.8.2"
  }
 },
 "nbformat": 4,
 "nbformat_minor": 4
}
