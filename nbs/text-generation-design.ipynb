{
 "cells": [
  {
   "cell_type": "code",
   "execution_count": 2,
   "metadata": {},
   "outputs": [],
   "source": [
    "from fastai.text.all import *\n",
    "from pathlib import Path\n",
    "import pandas as pd\n",
    "from random import choice\n",
    "import re"
   ]
  },
  {
   "cell_type": "code",
   "execution_count": 2,
   "metadata": {},
   "outputs": [],
   "source": [
    "path = Path('../data/')"
   ]
  },
  {
   "cell_type": "code",
   "execution_count": 3,
   "metadata": {},
   "outputs": [
    {
     "data": {
      "text/html": [
       "<div>\n",
       "<style scoped>\n",
       "    .dataframe tbody tr th:only-of-type {\n",
       "        vertical-align: middle;\n",
       "    }\n",
       "\n",
       "    .dataframe tbody tr th {\n",
       "        vertical-align: top;\n",
       "    }\n",
       "\n",
       "    .dataframe thead th {\n",
       "        text-align: right;\n",
       "    }\n",
       "</style>\n",
       "<table border=\"1\" class=\"dataframe\">\n",
       "  <thead>\n",
       "    <tr style=\"text-align: right;\">\n",
       "      <th></th>\n",
       "      <th>Unnamed: 0</th>\n",
       "      <th>title</th>\n",
       "      <th>authors</th>\n",
       "      <th>doi</th>\n",
       "      <th>abstract</th>\n",
       "      <th>citations</th>\n",
       "      <th>pubdate</th>\n",
       "      <th>pubtype</th>\n",
       "      <th>proceedings</th>\n",
       "      <th>ccs</th>\n",
       "    </tr>\n",
       "  </thead>\n",
       "  <tbody>\n",
       "    <tr>\n",
       "      <th>0</th>\n",
       "      <td>0</td>\n",
       "      <td>A meta-analysis of the impact of the inclusion and realism of human-like faces on user experiences in interfaces</td>\n",
       "      <td>['Nick Yee', 'Jeremy N Bailenson', 'Kathryn Rickertsen']</td>\n",
       "      <td>https://doi.org/10.1145/1240624.1240626</td>\n",
       "      <td>The use of embodied agents, defined as visual human-like representations accompanying a computer interface, is becoming prevalent in applications ranging from educational software to advertisements. In the current work, we assimilate previous empirical studies which compare interfaces with visually embodied agents to interfaces without agents, both using an informal, descriptive technique based on experimental results (46 studies) as well as a formal statistical meta-analysis (25 studies). Results revealed significantly larger effect sizes when analyzing subjective responses (i.e., questio...</td>\n",
       "      <td>93</td>\n",
       "      <td>April 2007</td>\n",
       "      <td>Article</td>\n",
       "      <td>CHI '07: Proceedings of the SIGCHI Conference on Human Factors in Computing Systems</td>\n",
       "      <td>['Human-centered computing', 'Human computer interaction (HCI)']</td>\n",
       "    </tr>\n",
       "    <tr>\n",
       "      <th>1</th>\n",
       "      <td>1</td>\n",
       "      <td>Session details: Faces &amp; bodies in interaction</td>\n",
       "      <td>['Anne Anderson']</td>\n",
       "      <td>https://doi.org/10.1145/3258852</td>\n",
       "      <td>No abstract available.</td>\n",
       "      <td>0</td>\n",
       "      <td>April 2007</td>\n",
       "      <td>Section</td>\n",
       "      <td>CHI '07: Proceedings of the SIGCHI Conference on Human Factors in Computing Systems</td>\n",
       "      <td>[]</td>\n",
       "    </tr>\n",
       "    <tr>\n",
       "      <th>2</th>\n",
       "      <td>2</td>\n",
       "      <td>Improving recognition and characterization in groupware with rich embodiments</td>\n",
       "      <td>['Tadeusz Stach', 'Carl Gutwin', 'David Pinelle', 'Pourang Irani']</td>\n",
       "      <td>https://doi.org/10.1145/1240624.1240627</td>\n",
       "      <td>Embodiments are visual representations of people in a groupware system. Embodiments convey awareness information such as presence, location, and movement -- but they provide far less information than what is available from a real body in a face-to-face setting. As a result, it is often difficult to recognize and characterize other people in a groupware system without extensive communication. To address this problem, information-rich embodiments use ideas from multivariate information visualization to maximize the amount of information that is represented about a person. To investigate the ...</td>\n",
       "      <td>16</td>\n",
       "      <td>April 2007</td>\n",
       "      <td>Article</td>\n",
       "      <td>CHI '07: Proceedings of the SIGCHI Conference on Human Factors in Computing Systems</td>\n",
       "      <td>['Human-centered computing', 'Collaborative and social computing', 'Collaborative and social computing theory, concepts and paradigms', 'Computer supported cooperative work', 'Social and professional topics', 'Professional topics', 'Computing and business', 'Computer supported cooperative work']</td>\n",
       "    </tr>\n",
       "    <tr>\n",
       "      <th>3</th>\n",
       "      <td>3</td>\n",
       "      <td>Coordinating joint activity in avatar-mediated interaction</td>\n",
       "      <td>['Robert J. Moore', 'E. Cabell Hankinson Gathman', 'Nicolas Ducheneaut', 'Eric Nickell']</td>\n",
       "      <td>https://doi.org/10.1145/1240624.1240628</td>\n",
       "      <td>Massively multiplayer online games (MMOGs) currently represent the most widely used type of social 3D virtual worlds with millions of users worldwide. Although MMOGs take face-to-face conversation as their metaphor for user-to-user interaction, avatars currently give off much less information about what users are doing than real human bodies. Consequently, users routinely encounter slippages in coordination when engaging in joint courses of action. In this study, we analyze screen-capture video of user-to-user interaction in the game, City of Heroes, under two conditions: one with the game...</td>\n",
       "      <td>24</td>\n",
       "      <td>April 2007</td>\n",
       "      <td>Article</td>\n",
       "      <td>CHI '07: Proceedings of the SIGCHI Conference on Human Factors in Computing Systems</td>\n",
       "      <td>['Human-centered computing', 'Collaborative and social computing', 'Collaborative and social computing systems and tools', 'Synchronous editors', 'Information systems', 'Information systems applications', 'Collaborative and social computing systems and tools', 'Synchronous editors']</td>\n",
       "    </tr>\n",
       "    <tr>\n",
       "      <th>4</th>\n",
       "      <td>4</td>\n",
       "      <td>Industrial Design: Challenges and Successes Towards an integrated Product Development Process</td>\n",
       "      <td>['David Gilmore', 'Jeremy Ashley', 'Tucker Viemeister', 'Tim Wood']</td>\n",
       "      <td>https://doi.org/10.1145/1240624.2180996</td>\n",
       "      <td>No abstract available.</td>\n",
       "      <td>0</td>\n",
       "      <td>April 2007</td>\n",
       "      <td>Article</td>\n",
       "      <td>CHI '07: Proceedings of the SIGCHI Conference on Human Factors in Computing Systems</td>\n",
       "      <td>[]</td>\n",
       "    </tr>\n",
       "  </tbody>\n",
       "</table>\n",
       "</div>"
      ],
      "text/plain": [
       "   Unnamed: 0  \\\n",
       "0           0   \n",
       "1           1   \n",
       "2           2   \n",
       "3           3   \n",
       "4           4   \n",
       "\n",
       "                                                                                                              title  \\\n",
       "0  A meta-analysis of the impact of the inclusion and realism of human-like faces on user experiences in interfaces   \n",
       "1                                                                    Session details: Faces & bodies in interaction   \n",
       "2                                     Improving recognition and characterization in groupware with rich embodiments   \n",
       "3                                                        Coordinating joint activity in avatar-mediated interaction   \n",
       "4                     Industrial Design: Challenges and Successes Towards an integrated Product Development Process   \n",
       "\n",
       "                                                                                    authors  \\\n",
       "0                                  ['Nick Yee', 'Jeremy N Bailenson', 'Kathryn Rickertsen']   \n",
       "1                                                                         ['Anne Anderson']   \n",
       "2                        ['Tadeusz Stach', 'Carl Gutwin', 'David Pinelle', 'Pourang Irani']   \n",
       "3  ['Robert J. Moore', 'E. Cabell Hankinson Gathman', 'Nicolas Ducheneaut', 'Eric Nickell']   \n",
       "4                       ['David Gilmore', 'Jeremy Ashley', 'Tucker Viemeister', 'Tim Wood']   \n",
       "\n",
       "                                       doi  \\\n",
       "0  https://doi.org/10.1145/1240624.1240626   \n",
       "1          https://doi.org/10.1145/3258852   \n",
       "2  https://doi.org/10.1145/1240624.1240627   \n",
       "3  https://doi.org/10.1145/1240624.1240628   \n",
       "4  https://doi.org/10.1145/1240624.2180996   \n",
       "\n",
       "                                                                                                                                                                                                                                                                                                                                                                                                                                                                                                                                                                                                                  abstract  \\\n",
       "0  The use of embodied agents, defined as visual human-like representations accompanying a computer interface, is becoming prevalent in applications ranging from educational software to advertisements. In the current work, we assimilate previous empirical studies which compare interfaces with visually embodied agents to interfaces without agents, both using an informal, descriptive technique based on experimental results (46 studies) as well as a formal statistical meta-analysis (25 studies). Results revealed significantly larger effect sizes when analyzing subjective responses (i.e., questio...   \n",
       "1                                                                                                                                                                                                                                                                                                                                                                                                                                                                                                                                                                                                   No abstract available.   \n",
       "2  Embodiments are visual representations of people in a groupware system. Embodiments convey awareness information such as presence, location, and movement -- but they provide far less information than what is available from a real body in a face-to-face setting. As a result, it is often difficult to recognize and characterize other people in a groupware system without extensive communication. To address this problem, information-rich embodiments use ideas from multivariate information visualization to maximize the amount of information that is represented about a person. To investigate the ...   \n",
       "3  Massively multiplayer online games (MMOGs) currently represent the most widely used type of social 3D virtual worlds with millions of users worldwide. Although MMOGs take face-to-face conversation as their metaphor for user-to-user interaction, avatars currently give off much less information about what users are doing than real human bodies. Consequently, users routinely encounter slippages in coordination when engaging in joint courses of action. In this study, we analyze screen-capture video of user-to-user interaction in the game, City of Heroes, under two conditions: one with the game...   \n",
       "4                                                                                                                                                                                                                                                                                                                                                                                                                                                                                                                                                                                                   No abstract available.   \n",
       "\n",
       "   citations     pubdate  pubtype  \\\n",
       "0         93  April 2007  Article   \n",
       "1          0  April 2007  Section   \n",
       "2         16  April 2007  Article   \n",
       "3         24  April 2007  Article   \n",
       "4          0  April 2007  Article   \n",
       "\n",
       "                                                                           proceedings  \\\n",
       "0  CHI '07: Proceedings of the SIGCHI Conference on Human Factors in Computing Systems   \n",
       "1  CHI '07: Proceedings of the SIGCHI Conference on Human Factors in Computing Systems   \n",
       "2  CHI '07: Proceedings of the SIGCHI Conference on Human Factors in Computing Systems   \n",
       "3  CHI '07: Proceedings of the SIGCHI Conference on Human Factors in Computing Systems   \n",
       "4  CHI '07: Proceedings of the SIGCHI Conference on Human Factors in Computing Systems   \n",
       "\n",
       "                                                                                                                                                                                                                                                                                                        ccs  \n",
       "0                                                                                                                                                                                                                                          ['Human-centered computing', 'Human computer interaction (HCI)']  \n",
       "1                                                                                                                                                                                                                                                                                                        []  \n",
       "2  ['Human-centered computing', 'Collaborative and social computing', 'Collaborative and social computing theory, concepts and paradigms', 'Computer supported cooperative work', 'Social and professional topics', 'Professional topics', 'Computing and business', 'Computer supported cooperative work']  \n",
       "3               ['Human-centered computing', 'Collaborative and social computing', 'Collaborative and social computing systems and tools', 'Synchronous editors', 'Information systems', 'Information systems applications', 'Collaborative and social computing systems and tools', 'Synchronous editors']  \n",
       "4                                                                                                                                                                                                                                                                                                        []  "
      ]
     },
     "execution_count": 3,
     "metadata": {},
     "output_type": "execute_result"
    }
   ],
   "source": [
    "df = pd.read_csv(path/'papers.csv'); df.head()"
   ]
  },
  {
   "cell_type": "code",
   "execution_count": 4,
   "metadata": {},
   "outputs": [],
   "source": [
    "# df.abstract.replace('/[[\\]]/g','',regex=True, inplace = True)"
   ]
  },
  {
   "cell_type": "code",
   "execution_count": 5,
   "metadata": {},
   "outputs": [
    {
     "data": {
      "text/html": [
       "<div>\n",
       "<style scoped>\n",
       "    .dataframe tbody tr th:only-of-type {\n",
       "        vertical-align: middle;\n",
       "    }\n",
       "\n",
       "    .dataframe tbody tr th {\n",
       "        vertical-align: top;\n",
       "    }\n",
       "\n",
       "    .dataframe thead th {\n",
       "        text-align: right;\n",
       "    }\n",
       "</style>\n",
       "<table border=\"1\" class=\"dataframe\">\n",
       "  <thead>\n",
       "    <tr style=\"text-align: right;\">\n",
       "      <th></th>\n",
       "      <th>Unnamed: 0</th>\n",
       "      <th>title</th>\n",
       "      <th>authors</th>\n",
       "      <th>doi</th>\n",
       "      <th>abstract</th>\n",
       "      <th>citations</th>\n",
       "      <th>pubdate</th>\n",
       "      <th>pubtype</th>\n",
       "      <th>proceedings</th>\n",
       "      <th>ccs</th>\n",
       "    </tr>\n",
       "  </thead>\n",
       "  <tbody>\n",
       "    <tr>\n",
       "      <th>0</th>\n",
       "      <td>0</td>\n",
       "      <td>A meta-analysis of the impact of the inclusion and realism of human-like faces on user experiences in interfaces</td>\n",
       "      <td>['Nick Yee', 'Jeremy N Bailenson', 'Kathryn Rickertsen']</td>\n",
       "      <td>https://doi.org/10.1145/1240624.1240626</td>\n",
       "      <td>The use of embodied agents, defined as visual human-like representations accompanying a computer interface, is becoming prevalent in applications ranging from educational software to advertisements. In the current work, we assimilate previous empirical studies which compare interfaces with visually embodied agents to interfaces without agents, both using an informal, descriptive technique based on experimental results (46 studies) as well as a formal statistical meta-analysis (25 studies). Results revealed significantly larger effect sizes when analyzing subjective responses (i.e., questio...</td>\n",
       "      <td>93</td>\n",
       "      <td>April 2007</td>\n",
       "      <td>Article</td>\n",
       "      <td>CHI '07: Proceedings of the SIGCHI Conference on Human Factors in Computing Systems</td>\n",
       "      <td>['Human-centered computing', 'Human computer interaction (HCI)']</td>\n",
       "    </tr>\n",
       "    <tr>\n",
       "      <th>1</th>\n",
       "      <td>2</td>\n",
       "      <td>Improving recognition and characterization in groupware with rich embodiments</td>\n",
       "      <td>['Tadeusz Stach', 'Carl Gutwin', 'David Pinelle', 'Pourang Irani']</td>\n",
       "      <td>https://doi.org/10.1145/1240624.1240627</td>\n",
       "      <td>Embodiments are visual representations of people in a groupware system. Embodiments convey awareness information such as presence, location, and movement -- but they provide far less information than what is available from a real body in a face-to-face setting. As a result, it is often difficult to recognize and characterize other people in a groupware system without extensive communication. To address this problem, information-rich embodiments use ideas from multivariate information visualization to maximize the amount of information that is represented about a person. To investigate the ...</td>\n",
       "      <td>16</td>\n",
       "      <td>April 2007</td>\n",
       "      <td>Article</td>\n",
       "      <td>CHI '07: Proceedings of the SIGCHI Conference on Human Factors in Computing Systems</td>\n",
       "      <td>['Human-centered computing', 'Collaborative and social computing', 'Collaborative and social computing theory, concepts and paradigms', 'Computer supported cooperative work', 'Social and professional topics', 'Professional topics', 'Computing and business', 'Computer supported cooperative work']</td>\n",
       "    </tr>\n",
       "    <tr>\n",
       "      <th>2</th>\n",
       "      <td>3</td>\n",
       "      <td>Coordinating joint activity in avatar-mediated interaction</td>\n",
       "      <td>['Robert J. Moore', 'E. Cabell Hankinson Gathman', 'Nicolas Ducheneaut', 'Eric Nickell']</td>\n",
       "      <td>https://doi.org/10.1145/1240624.1240628</td>\n",
       "      <td>Massively multiplayer online games (MMOGs) currently represent the most widely used type of social 3D virtual worlds with millions of users worldwide. Although MMOGs take face-to-face conversation as their metaphor for user-to-user interaction, avatars currently give off much less information about what users are doing than real human bodies. Consequently, users routinely encounter slippages in coordination when engaging in joint courses of action. In this study, we analyze screen-capture video of user-to-user interaction in the game, City of Heroes, under two conditions: one with the game...</td>\n",
       "      <td>24</td>\n",
       "      <td>April 2007</td>\n",
       "      <td>Article</td>\n",
       "      <td>CHI '07: Proceedings of the SIGCHI Conference on Human Factors in Computing Systems</td>\n",
       "      <td>['Human-centered computing', 'Collaborative and social computing', 'Collaborative and social computing systems and tools', 'Synchronous editors', 'Information systems', 'Information systems applications', 'Collaborative and social computing systems and tools', 'Synchronous editors']</td>\n",
       "    </tr>\n",
       "    <tr>\n",
       "      <th>3</th>\n",
       "      <td>36</td>\n",
       "      <td>How it works: a field study of non-technical users interacting with an intelligent system</td>\n",
       "      <td>['Joe Tullio', 'Anind K. Dey', 'Jason Chalecki', 'James Fogarty']</td>\n",
       "      <td>https://doi.org/10.1145/1240624.1240630</td>\n",
       "      <td>In order to develop intelligent systems that attain the trust of their users, it is important to understand how users perceive such systems and develop those perceptions over time. We present an investigation into how users come to understand an intelligent system as they use it in their daily work. During a six-week field study, we interviewed eight office workers regarding the operation of a system that predicted their managers' interruptibility, comparing their mental models to the actual system model. Our results show that by the end of the study, participants were able to discount som...</td>\n",
       "      <td>61</td>\n",
       "      <td>April 2007</td>\n",
       "      <td>Article</td>\n",
       "      <td>CHI '07: Proceedings of the SIGCHI Conference on Human Factors in Computing Systems</td>\n",
       "      <td>['Computing methodologies', 'Artificial intelligence', 'Human-centered computing']</td>\n",
       "    </tr>\n",
       "    <tr>\n",
       "      <th>4</th>\n",
       "      <td>37</td>\n",
       "      <td>Matching attentional draw with utility in interruption</td>\n",
       "      <td>['Jennifer Gluck', 'Andrea Bunt', 'Joanna McGrenere']</td>\n",
       "      <td>https://doi.org/10.1145/1240624.1240631</td>\n",
       "      <td>This research examines a design guideline that aims to increase the positive perception of interruptions. The guideline advocates matching the amount of attention attracted by an interruption's notification method (attentional draw) to the utility of the interruption content. Our first experiment examined a set of 10 visual notification signals in terms of their detection times and established a set of three significantly different signals along the spectrum of attentional draw. Our second experiment investigated matching these different signals to interruption content with different level...</td>\n",
       "      <td>33</td>\n",
       "      <td>April 2007</td>\n",
       "      <td>Article</td>\n",
       "      <td>CHI '07: Proceedings of the SIGCHI Conference on Human Factors in Computing Systems</td>\n",
       "      <td>['Human-centered computing', 'Human computer interaction (HCI)', 'HCI design and evaluation methods']</td>\n",
       "    </tr>\n",
       "  </tbody>\n",
       "</table>\n",
       "</div>"
      ],
      "text/plain": [
       "   Unnamed: 0  \\\n",
       "0           0   \n",
       "1           2   \n",
       "2           3   \n",
       "3          36   \n",
       "4          37   \n",
       "\n",
       "                                                                                                              title  \\\n",
       "0  A meta-analysis of the impact of the inclusion and realism of human-like faces on user experiences in interfaces   \n",
       "1                                     Improving recognition and characterization in groupware with rich embodiments   \n",
       "2                                                        Coordinating joint activity in avatar-mediated interaction   \n",
       "3                         How it works: a field study of non-technical users interacting with an intelligent system   \n",
       "4                                                            Matching attentional draw with utility in interruption   \n",
       "\n",
       "                                                                                    authors  \\\n",
       "0                                  ['Nick Yee', 'Jeremy N Bailenson', 'Kathryn Rickertsen']   \n",
       "1                        ['Tadeusz Stach', 'Carl Gutwin', 'David Pinelle', 'Pourang Irani']   \n",
       "2  ['Robert J. Moore', 'E. Cabell Hankinson Gathman', 'Nicolas Ducheneaut', 'Eric Nickell']   \n",
       "3                         ['Joe Tullio', 'Anind K. Dey', 'Jason Chalecki', 'James Fogarty']   \n",
       "4                                     ['Jennifer Gluck', 'Andrea Bunt', 'Joanna McGrenere']   \n",
       "\n",
       "                                       doi  \\\n",
       "0  https://doi.org/10.1145/1240624.1240626   \n",
       "1  https://doi.org/10.1145/1240624.1240627   \n",
       "2  https://doi.org/10.1145/1240624.1240628   \n",
       "3  https://doi.org/10.1145/1240624.1240630   \n",
       "4  https://doi.org/10.1145/1240624.1240631   \n",
       "\n",
       "                                                                                                                                                                                                                                                                                                                                                                                                                                                                                                                                                                                                                  abstract  \\\n",
       "0  The use of embodied agents, defined as visual human-like representations accompanying a computer interface, is becoming prevalent in applications ranging from educational software to advertisements. In the current work, we assimilate previous empirical studies which compare interfaces with visually embodied agents to interfaces without agents, both using an informal, descriptive technique based on experimental results (46 studies) as well as a formal statistical meta-analysis (25 studies). Results revealed significantly larger effect sizes when analyzing subjective responses (i.e., questio...   \n",
       "1  Embodiments are visual representations of people in a groupware system. Embodiments convey awareness information such as presence, location, and movement -- but they provide far less information than what is available from a real body in a face-to-face setting. As a result, it is often difficult to recognize and characterize other people in a groupware system without extensive communication. To address this problem, information-rich embodiments use ideas from multivariate information visualization to maximize the amount of information that is represented about a person. To investigate the ...   \n",
       "2  Massively multiplayer online games (MMOGs) currently represent the most widely used type of social 3D virtual worlds with millions of users worldwide. Although MMOGs take face-to-face conversation as their metaphor for user-to-user interaction, avatars currently give off much less information about what users are doing than real human bodies. Consequently, users routinely encounter slippages in coordination when engaging in joint courses of action. In this study, we analyze screen-capture video of user-to-user interaction in the game, City of Heroes, under two conditions: one with the game...   \n",
       "3  In order to develop intelligent systems that attain the trust of their users, it is important to understand how users perceive such systems and develop those perceptions over time. We present an investigation into how users come to understand an intelligent system as they use it in their daily work. During a six-week field study, we interviewed eight office workers regarding the operation of a system that predicted their managers' interruptibility, comparing their mental models to the actual system model. Our results show that by the end of the study, participants were able to discount som...   \n",
       "4  This research examines a design guideline that aims to increase the positive perception of interruptions. The guideline advocates matching the amount of attention attracted by an interruption's notification method (attentional draw) to the utility of the interruption content. Our first experiment examined a set of 10 visual notification signals in terms of their detection times and established a set of three significantly different signals along the spectrum of attentional draw. Our second experiment investigated matching these different signals to interruption content with different level...   \n",
       "\n",
       "   citations     pubdate  pubtype  \\\n",
       "0         93  April 2007  Article   \n",
       "1         16  April 2007  Article   \n",
       "2         24  April 2007  Article   \n",
       "3         61  April 2007  Article   \n",
       "4         33  April 2007  Article   \n",
       "\n",
       "                                                                           proceedings  \\\n",
       "0  CHI '07: Proceedings of the SIGCHI Conference on Human Factors in Computing Systems   \n",
       "1  CHI '07: Proceedings of the SIGCHI Conference on Human Factors in Computing Systems   \n",
       "2  CHI '07: Proceedings of the SIGCHI Conference on Human Factors in Computing Systems   \n",
       "3  CHI '07: Proceedings of the SIGCHI Conference on Human Factors in Computing Systems   \n",
       "4  CHI '07: Proceedings of the SIGCHI Conference on Human Factors in Computing Systems   \n",
       "\n",
       "                                                                                                                                                                                                                                                                                                        ccs  \n",
       "0                                                                                                                                                                                                                                          ['Human-centered computing', 'Human computer interaction (HCI)']  \n",
       "1  ['Human-centered computing', 'Collaborative and social computing', 'Collaborative and social computing theory, concepts and paradigms', 'Computer supported cooperative work', 'Social and professional topics', 'Professional topics', 'Computing and business', 'Computer supported cooperative work']  \n",
       "2               ['Human-centered computing', 'Collaborative and social computing', 'Collaborative and social computing systems and tools', 'Synchronous editors', 'Information systems', 'Information systems applications', 'Collaborative and social computing systems and tools', 'Synchronous editors']  \n",
       "3                                                                                                                                                                                                                        ['Computing methodologies', 'Artificial intelligence', 'Human-centered computing']  \n",
       "4                                                                                                                                                                                                     ['Human-centered computing', 'Human computer interaction (HCI)', 'HCI design and evaluation methods']  "
      ]
     },
     "execution_count": 5,
     "metadata": {},
     "output_type": "execute_result"
    }
   ],
   "source": [
    "df = df[df.abstract != \"No abstract available.\"].reset_index(drop=True); df.head()"
   ]
  },
  {
   "cell_type": "code",
   "execution_count": 6,
   "metadata": {},
   "outputs": [
    {
     "data": {
      "text/html": [],
      "text/plain": [
       "<IPython.core.display.HTML object>"
      ]
     },
     "metadata": {},
     "output_type": "display_data"
    },
    {
     "name": "stderr",
     "output_type": "stream",
     "text": [
      "/anaconda/envs/fastai2/lib/python3.8/site-packages/numpy/core/_asarray.py:83: VisibleDeprecationWarning: Creating an ndarray from ragged nested sequences (which is a list-or-tuple of lists-or-tuples-or ndarrays with different lengths or shapes) is deprecated. If you meant to do this, you must specify 'dtype=object' when creating the ndarray\n",
      "  return array(a, dtype, copy=False, order=order)\n"
     ]
    }
   ],
   "source": [
    "data_lm = TextDataLoaders.from_df(df, path, valid_pct=0.1, seed=7, text_col='abstract', is_lm=True)"
   ]
  },
  {
   "cell_type": "code",
   "execution_count": null,
   "metadata": {},
   "outputs": [],
   "source": [
    "data_lm.show_batch()"
   ]
  },
  {
   "cell_type": "code",
   "execution_count": 7,
   "metadata": {},
   "outputs": [],
   "source": [
    "learn_lm = language_model_learner(data_lm, AWD_LSTM, metrics=[accuracy, Perplexity()], path=path, wd=0.1, drop_mult=0.2).to_fp16()"
   ]
  },
  {
   "cell_type": "code",
   "execution_count": 27,
   "metadata": {},
   "outputs": [
    {
     "data": {
      "text/html": [],
      "text/plain": [
       "<IPython.core.display.HTML object>"
      ]
     },
     "metadata": {},
     "output_type": "display_data"
    },
    {
     "data": {
      "text/plain": [
       "SuggestedLRs(lr_min=0.017378008365631102, lr_steep=6.309573450380412e-07)"
      ]
     },
     "execution_count": 27,
     "metadata": {},
     "output_type": "execute_result"
    },
    {
     "data": {
      "image/png": "[encoded data removed]",
      "text/plain": [
       "<Figure size 432x288 with 1 Axes>"
      ]
     },
     "metadata": {
      "needs_background": "light"
     },
     "output_type": "display_data"
    }
   ],
   "source": [
    "learn_lm.lr_find()"
   ]
  },
  {
   "cell_type": "code",
   "execution_count": 28,
   "metadata": {},
   "outputs": [],
   "source": [
    "learn_lm.fit_one_cycle??"
   ]
  },
  {
   "cell_type": "code",
   "execution_count": 29,
   "metadata": {},
   "outputs": [
    {
     "data": {
      "text/html": [
       "<table border=\"1\" class=\"dataframe\">\n",
       "  <thead>\n",
       "    <tr style=\"text-align: left;\">\n",
       "      <th>epoch</th>\n",
       "      <th>train_loss</th>\n",
       "      <th>valid_loss</th>\n",
       "      <th>accuracy</th>\n",
       "      <th>perplexity</th>\n",
       "      <th>time</th>\n",
       "    </tr>\n",
       "  </thead>\n",
       "  <tbody>\n",
       "    <tr>\n",
       "      <td>0</td>\n",
       "      <td>4.258344</td>\n",
       "      <td>4.022088</td>\n",
       "      <td>0.303494</td>\n",
       "      <td>55.817509</td>\n",
       "      <td>02:33</td>\n",
       "    </tr>\n",
       "  </tbody>\n",
       "</table>"
      ],
      "text/plain": [
       "<IPython.core.display.HTML object>"
      ]
     },
     "metadata": {},
     "output_type": "display_data"
    }
   ],
   "source": [
    "learn_lm.fit_one_cycle(1, 2e-2)"
   ]
  },
  {
   "cell_type": "code",
   "execution_count": 9,
   "metadata": {},
   "outputs": [],
   "source": [
    "learn_lm.model_dir = '../models/design'"
   ]
  },
  {
   "cell_type": "code",
   "execution_count": 35,
   "metadata": {},
   "outputs": [
    {
     "data": {
      "text/plain": [
       "Path('../data/../models/design/1epoch.pth')"
      ]
     },
     "execution_count": 35,
     "metadata": {},
     "output_type": "execute_result"
    }
   ],
   "source": [
    "learn_lm.save('1epoch')"
   ]
  },
  {
   "cell_type": "code",
   "execution_count": 37,
   "metadata": {},
   "outputs": [
    {
     "data": {
      "text/html": [],
      "text/plain": [
       "<IPython.core.display.HTML object>"
      ]
     },
     "metadata": {},
     "output_type": "display_data"
    },
    {
     "data": {
      "text/plain": [
       "'What do you think about outliers often go everywhere . We examine how users strive to observed data within objects . However'"
      ]
     },
     "execution_count": 37,
     "metadata": {},
     "output_type": "execute_result"
    }
   ],
   "source": [
    "learn_lm.predict(\"What do you think\", n_words=20)"
   ]
  },
  {
   "cell_type": "code",
   "execution_count": 10,
   "metadata": {},
   "outputs": [
    {
     "data": {
      "text/plain": [
       "<fastai.text.learner.LMLearner at 0x7fec9fa12a00>"
      ]
     },
     "execution_count": 10,
     "metadata": {},
     "output_type": "execute_result"
    }
   ],
   "source": [
    "learn_lm.load('4epochs')"
   ]
  },
  {
   "cell_type": "code",
   "execution_count": 42,
   "metadata": {},
   "outputs": [],
   "source": [
    "learn_lm.unfreeze()"
   ]
  },
  {
   "cell_type": "code",
   "execution_count": 43,
   "metadata": {},
   "outputs": [
    {
     "data": {
      "text/html": [
       "<table border=\"1\" class=\"dataframe\">\n",
       "  <thead>\n",
       "    <tr style=\"text-align: left;\">\n",
       "      <th>epoch</th>\n",
       "      <th>train_loss</th>\n",
       "      <th>valid_loss</th>\n",
       "      <th>accuracy</th>\n",
       "      <th>perplexity</th>\n",
       "      <th>time</th>\n",
       "    </tr>\n",
       "  </thead>\n",
       "  <tbody>\n",
       "    <tr>\n",
       "      <td>0</td>\n",
       "      <td>3.863764</td>\n",
       "      <td>3.944371</td>\n",
       "      <td>0.312952</td>\n",
       "      <td>51.643818</td>\n",
       "      <td>03:11</td>\n",
       "    </tr>\n",
       "    <tr>\n",
       "      <td>1</td>\n",
       "      <td>3.651252</td>\n",
       "      <td>3.843732</td>\n",
       "      <td>0.323296</td>\n",
       "      <td>46.699417</td>\n",
       "      <td>03:12</td>\n",
       "    </tr>\n",
       "    <tr>\n",
       "      <td>2</td>\n",
       "      <td>3.306215</td>\n",
       "      <td>3.858548</td>\n",
       "      <td>0.322826</td>\n",
       "      <td>47.396488</td>\n",
       "      <td>03:12</td>\n",
       "    </tr>\n",
       "  </tbody>\n",
       "</table>"
      ],
      "text/plain": [
       "<IPython.core.display.HTML object>"
      ]
     },
     "metadata": {},
     "output_type": "display_data"
    }
   ],
   "source": [
    "learn_lm.fit_one_cycle(3, 2e-3)"
   ]
  },
  {
   "cell_type": "code",
   "execution_count": 22,
   "metadata": {},
   "outputs": [
    {
     "data": {
      "text/plain": [
       "Path('../data/../models/design/1epoch.pth')"
      ]
     },
     "execution_count": 22,
     "metadata": {},
     "output_type": "execute_result"
    }
   ],
   "source": [
    "learn_lm.save('1epoch')"
   ]
  },
  {
   "cell_type": "code",
   "execution_count": 50,
   "metadata": {},
   "outputs": [
    {
     "data": {
      "text/html": [],
      "text/plain": [
       "<IPython.core.display.HTML object>"
      ]
     },
     "metadata": {},
     "output_type": "display_data"
    },
    {
     "data": {
      "text/plain": [
       "'The cube is a novel medium that can be combined with an interactive table that enables users to view the data and'"
      ]
     },
     "execution_count": 50,
     "metadata": {},
     "output_type": "execute_result"
    }
   ],
   "source": [
    "learn_lm.predict('The cube', n_words=20, temperature=0.7)"
   ]
  },
  {
   "cell_type": "code",
   "execution_count": 3,
   "metadata": {},
   "outputs": [
    {
     "ename": "NameError",
     "evalue": "name 'data_lm' is not defined",
     "output_type": "error",
     "traceback": [
      "\u001b[0;31m---------------------------------------------------------------------------\u001b[0m",
      "\u001b[0;31mNameError\u001b[0m                                 Traceback (most recent call last)",
      "\u001b[0;32m<ipython-input-3-b92a0b3fac9e>\u001b[0m in \u001b[0;36m<module>\u001b[0;34m\u001b[0m\n\u001b[0;32m----> 1\u001b[0;31m \u001b[0mlearn_lm\u001b[0m \u001b[0;34m=\u001b[0m \u001b[0mlanguage_model_learner\u001b[0m\u001b[0;34m(\u001b[0m\u001b[0mdata_lm\u001b[0m\u001b[0;34m,\u001b[0m \u001b[0mAWD_LSTM\u001b[0m\u001b[0;34m,\u001b[0m \u001b[0mmetrics\u001b[0m\u001b[0;34m=\u001b[0m\u001b[0;34m[\u001b[0m\u001b[0maccuracy\u001b[0m\u001b[0;34m,\u001b[0m \u001b[0mPerplexity\u001b[0m\u001b[0;34m(\u001b[0m\u001b[0;34m)\u001b[0m\u001b[0;34m]\u001b[0m\u001b[0;34m,\u001b[0m \u001b[0mpath\u001b[0m\u001b[0;34m=\u001b[0m\u001b[0mpath\u001b[0m\u001b[0;34m,\u001b[0m \u001b[0mwd\u001b[0m\u001b[0;34m=\u001b[0m\u001b[0;36m0.2\u001b[0m\u001b[0;34m,\u001b[0m \u001b[0mdrop_mult\u001b[0m\u001b[0;34m=\u001b[0m\u001b[0;36m0.3\u001b[0m\u001b[0;34m)\u001b[0m\u001b[0;34m\u001b[0m\u001b[0;34m\u001b[0m\u001b[0m\n\u001b[0m",
      "\u001b[0;31mNameError\u001b[0m: name 'data_lm' is not defined"
     ]
    }
   ],
   "source": [
    "learn_lm = language_model_learner(data_lm, AWD_LSTM, metrics=[accuracy, Perplexity()], path=path, wd=0.2, drop_mult=0.3)"
   ]
  },
  {
   "cell_type": "code",
   "execution_count": 54,
   "metadata": {},
   "outputs": [
    {
     "data": {
      "text/html": [],
      "text/plain": [
       "<IPython.core.display.HTML object>"
      ]
     },
     "metadata": {},
     "output_type": "display_data"
    },
    {
     "data": {
      "text/plain": [
       "SuggestedLRs(lr_min=0.017378008365631102, lr_steep=0.015848932787775993)"
      ]
     },
     "execution_count": 54,
     "metadata": {},
     "output_type": "execute_result"
    },
    {
     "data": {
      "image/png": "[encoded data removed]",
      "text/plain": [
       "<Figure size 432x288 with 1 Axes>"
      ]
     },
     "metadata": {
      "needs_background": "light"
     },
     "output_type": "display_data"
    }
   ],
   "source": [
    "learn_lm.lr_find()"
   ]
  },
  {
   "cell_type": "code",
   "execution_count": 55,
   "metadata": {},
   "outputs": [
    {
     "data": {
      "text/html": [
       "<table border=\"1\" class=\"dataframe\">\n",
       "  <thead>\n",
       "    <tr style=\"text-align: left;\">\n",
       "      <th>epoch</th>\n",
       "      <th>train_loss</th>\n",
       "      <th>valid_loss</th>\n",
       "      <th>accuracy</th>\n",
       "      <th>perplexity</th>\n",
       "      <th>time</th>\n",
       "    </tr>\n",
       "  </thead>\n",
       "  <tbody>\n",
       "    <tr>\n",
       "      <td>0</td>\n",
       "      <td>4.304290</td>\n",
       "      <td>4.050635</td>\n",
       "      <td>0.304398</td>\n",
       "      <td>57.433907</td>\n",
       "      <td>01:47</td>\n",
       "    </tr>\n",
       "  </tbody>\n",
       "</table>"
      ],
      "text/plain": [
       "<IPython.core.display.HTML object>"
      ]
     },
     "metadata": {},
     "output_type": "display_data"
    }
   ],
   "source": [
    "learn_lm.fit_one_cycle(1, 2e-2)"
   ]
  },
  {
   "cell_type": "code",
   "execution_count": 56,
   "metadata": {},
   "outputs": [
    {
     "data": {
      "text/html": [
       "<table border=\"1\" class=\"dataframe\">\n",
       "  <thead>\n",
       "    <tr style=\"text-align: left;\">\n",
       "      <th>epoch</th>\n",
       "      <th>train_loss</th>\n",
       "      <th>valid_loss</th>\n",
       "      <th>accuracy</th>\n",
       "      <th>perplexity</th>\n",
       "      <th>time</th>\n",
       "    </tr>\n",
       "  </thead>\n",
       "  <tbody>\n",
       "    <tr>\n",
       "      <td>0</td>\n",
       "      <td>3.945845</td>\n",
       "      <td>3.973041</td>\n",
       "      <td>0.310312</td>\n",
       "      <td>53.145916</td>\n",
       "      <td>02:13</td>\n",
       "    </tr>\n",
       "    <tr>\n",
       "      <td>1</td>\n",
       "      <td>3.759657</td>\n",
       "      <td>3.864102</td>\n",
       "      <td>0.321587</td>\n",
       "      <td>47.660461</td>\n",
       "      <td>02:14</td>\n",
       "    </tr>\n",
       "    <tr>\n",
       "      <td>2</td>\n",
       "      <td>3.471125</td>\n",
       "      <td>3.854045</td>\n",
       "      <td>0.323848</td>\n",
       "      <td>47.183533</td>\n",
       "      <td>02:14</td>\n",
       "    </tr>\n",
       "  </tbody>\n",
       "</table>"
      ],
      "text/plain": [
       "<IPython.core.display.HTML object>"
      ]
     },
     "metadata": {},
     "output_type": "display_data"
    }
   ],
   "source": [
    "learn_lm.unfreeze()\n",
    "learn_lm.fit_one_cycle(3, 2e-3)"
   ]
  },
  {
   "cell_type": "code",
   "execution_count": 20,
   "metadata": {},
   "outputs": [
    {
     "data": {
      "text/html": [],
      "text/plain": [
       "<IPython.core.display.HTML object>"
      ]
     },
     "metadata": {},
     "output_type": "display_data"
    },
    {
     "data": {
      "text/plain": [
       "'Recent user studies and'"
      ]
     },
     "execution_count": 20,
     "metadata": {},
     "output_type": "execute_result"
    }
   ],
   "source": [
    "learn_lm.predict('Recent user studies', n_words=1, temperature=0.7)"
   ]
  },
  {
   "cell_type": "code",
   "execution_count": 3,
   "metadata": {},
   "outputs": [
    {
     "ename": "NameError",
     "evalue": "name 'learn_lm' is not defined",
     "output_type": "error",
     "traceback": [
      "\u001b[0;31m---------------------------------------------------------------------------\u001b[0m",
      "\u001b[0;31mNameError\u001b[0m                                 Traceback (most recent call last)",
      "\u001b[0;32m<ipython-input-3-c092e454eb51>\u001b[0m in \u001b[0;36m<module>\u001b[0;34m\u001b[0m\n\u001b[0;32m----> 1\u001b[0;31m \u001b[0mlearn_lm\u001b[0m\u001b[0;34m.\u001b[0m\u001b[0mexport\u001b[0m\u001b[0;34m(\u001b[0m\u001b[0;34m'/home/advaitmb/notebooks/projects/PreDiction/models/design/4epochslearner.pkl'\u001b[0m\u001b[0;34m)\u001b[0m\u001b[0;34m\u001b[0m\u001b[0;34m\u001b[0m\u001b[0m\n\u001b[0m",
      "\u001b[0;31mNameError\u001b[0m: name 'learn_lm' is not defined"
     ]
    }
   ],
   "source": [
    "learn_lm.export('/home/advaitmb/notebooks/projects/PreDiction/models/design/4epochslearner.pkl')"
   ]
  },
  {
   "cell_type": "code",
   "execution_count": 48,
   "metadata": {},
   "outputs": [],
   "source": [
    "learn = load_learner('/home/advaitmb/notebooks/projects/PreDiction/models/design/4epochslearner.pkl')"
   ]
  },
  {
   "cell_type": "code",
   "execution_count": 47,
   "metadata": {},
   "outputs": [],
   "source": [
    "learn_hum = load_learner('/home/advaitmb/notebooks/projects/PreDiction/models/5epochslearner_v2.pkl')"
   ]
  },
  {
   "cell_type": "code",
   "execution_count": 5,
   "metadata": {},
   "outputs": [
    {
     "data": {
      "text/plain": [
       "<fastai.text.learner.LMLearner at 0x7f416112eac0>"
      ]
     },
     "execution_count": 5,
     "metadata": {},
     "output_type": "execute_result"
    }
   ],
   "source": []
  },
  {
   "cell_type": "code",
   "execution_count": 6,
   "metadata": {},
   "outputs": [
    {
     "data": {
      "text/plain": [
       "SequentialRNN(\n",
       "  (0): AWD_LSTM(\n",
       "    (encoder): Embedding(12304, 400, padding_idx=1)\n",
       "    (encoder_dp): EmbeddingDropout(\n",
       "      (emb): Embedding(12304, 400, padding_idx=1)\n",
       "    )\n",
       "    (rnns): ModuleList(\n",
       "      (0): WeightDropout(\n",
       "        (module): LSTM(400, 1152, batch_first=True)\n",
       "      )\n",
       "      (1): WeightDropout(\n",
       "        (module): LSTM(1152, 1152, batch_first=True)\n",
       "      )\n",
       "      (2): WeightDropout(\n",
       "        (module): LSTM(1152, 400, batch_first=True)\n",
       "      )\n",
       "    )\n",
       "    (input_dp): RNNDropout()\n",
       "    (hidden_dps): ModuleList(\n",
       "      (0): RNNDropout()\n",
       "      (1): RNNDropout()\n",
       "      (2): RNNDropout()\n",
       "    )\n",
       "  )\n",
       "  (1): LinearDecoder(\n",
       "    (decoder): Linear(in_features=400, out_features=12304, bias=True)\n",
       "    (output_dp): RNNDropout()\n",
       "  )\n",
       ")"
      ]
     },
     "execution_count": 6,
     "metadata": {},
     "output_type": "execute_result"
    }
   ],
   "source": [
    "learn.model\n"
   ]
  },
  {
   "cell_type": "code",
   "execution_count": 7,
   "metadata": {},
   "outputs": [],
   "source": [
    "def beam_search(learn, text:str, n_words:int, no_unk:bool=True, top_k:int=10, beam_sz:int=1000, temperature:float=1.,\n",
    "                    sep:str=' ', decoder=decode_spec_tokens):\n",
    "    learn.model.reset()\n",
    "    learn.model.eval()\n",
    "    idx = learn.dls.test_dl([text]).items[0][None]\n",
    "    nodes = None\n",
    "    nodes = idx.clone()\n",
    "    scores = idx.new_zeros(1).float()\n",
    "    if no_unk: unk_idx = learn.dls.vocab.index(UNK)\n",
    "    with torch.no_grad():\n",
    "        for k in progress_bar(range(n_words), leave=False):\n",
    "            out = F.log_softmax(learn.model(idx)[0][:,-1], dim=-1)\n",
    "            if no_unk: out[:, unk_idx] = -float('Inf')\n",
    "            values, indices = out.topk(top_k, dim=-1)\n",
    "            scores = (-values + scores[:,None]).view(-1)\n",
    "            indices_idx = torch.arange(0,nodes.size(0))[:,None].expand(nodes.size(0), top_k).contiguous().view(-1)\n",
    "            sort_idx = scores.argsort()[:beam_sz]\n",
    "            scores = scores[sort_idx]\n",
    "            nodes = torch.cat([nodes[:,None].expand(nodes.size(0),top_k,nodes.size(1)),\n",
    "                                    indices[:,:,None].expand(nodes.size(0),top_k,1),], dim=2)\n",
    "            nodes = nodes.view(-1, nodes.size(2))[sort_idx]\n",
    "            learn.hidden = [(h[0][:,indices_idx[sort_idx],:],h[1][:,indices_idx[sort_idx],:]) for h in learn.model[0].hidden]\n",
    "            idx = nodes[:,-1][:,None]\n",
    "        if temperature != 1.: scores.div_(temperature)\n",
    "        node_idx = torch.multinomial(torch.exp(-scores), 1).item()\n",
    "        num = learn.dls.train_ds.numericalize\n",
    "        tokens = [num.vocab[i] for i in nodes[node_idx][1:] if num.vocab[i] not in [BOS, PAD]]\n",
    "        sep = learn.dls.train_ds.tokenizer.sep\n",
    "        return sep.join(decoder(tokens))"
   ]
  },
  {
   "cell_type": "code",
   "execution_count": 71,
   "metadata": {},
   "outputs": [],
   "source": [
    "text = 'We propose'\n"
   ]
  },
  {
   "cell_type": "code",
   "execution_count": 72,
   "metadata": {},
   "outputs": [
    {
     "data": {
      "text/html": [],
      "text/plain": [
       "<IPython.core.display.HTML object>"
      ]
     },
     "metadata": {},
     "output_type": "display_data"
    },
    {
     "data": {
      "text/html": [],
      "text/plain": [
       "<IPython.core.display.HTML object>"
      ]
     },
     "metadata": {},
     "output_type": "display_data"
    },
    {
     "data": {
      "text/plain": [
       "('We propose to the most beautiful man on the earth …',\n",
       " '/n',\n",
       " 'We propose a new approach to interactive visual feedback for visually impaired')"
      ]
     },
     "execution_count": 72,
     "metadata": {},
     "output_type": "execute_result"
    }
   ],
   "source": [
    "learn_hum.predict(text = text , n_words = 10, temperature = 0.7),'/n', learn.predict(text = text , n_words = 10, temperature = 0.7)"
   ]
  },
  {
   "cell_type": "code",
   "execution_count": null,
   "metadata": {},
   "outputs": [],
   "source": []
  }
 ],
 "metadata": {
  "kernelspec": {
   "display_name": "fastai2",
   "language": "python",
   "name": "fastai2"
  },
  "language_info": {
   "codemirror_mode": {
    "name": "ipython",
    "version": 3
   },
   "file_extension": ".py",
   "mimetype": "text/x-python",
   "name": "python",
   "nbconvert_exporter": "python",
   "pygments_lexer": "ipython3",
   "version": "3.8.2"
  }
 },
 "nbformat": 4,
 "nbformat_minor": 4
}
