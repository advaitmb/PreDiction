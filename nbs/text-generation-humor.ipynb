{
 "cells": [
  {
   "cell_type": "code",
   "execution_count": 1,
   "metadata": {},
   "outputs": [],
   "source": [
    "from fastai.text.all import *\n",
    "from pathlib import Path\n",
    "import pandas as pd\n",
    "from random import choice\n",
    "import re"
   ]
  },
  {
   "cell_type": "code",
   "execution_count": 2,
   "metadata": {},
   "outputs": [],
   "source": [
    "path = Path('/home/advaitmb/notebooks/datasets')"
   ]
  },
  {
   "cell_type": "code",
   "execution_count": 3,
   "metadata": {},
   "outputs": [
    {
     "data": {
      "text/html": [
       "<div>\n",
       "<style scoped>\n",
       "    .dataframe tbody tr th:only-of-type {\n",
       "        vertical-align: middle;\n",
       "    }\n",
       "\n",
       "    .dataframe tbody tr th {\n",
       "        vertical-align: top;\n",
       "    }\n",
       "\n",
       "    .dataframe thead th {\n",
       "        text-align: right;\n",
       "    }\n",
       "</style>\n",
       "<table border=\"1\" class=\"dataframe\">\n",
       "  <thead>\n",
       "    <tr style=\"text-align: right;\">\n",
       "      <th></th>\n",
       "      <th>ID</th>\n",
       "      <th>Joke</th>\n",
       "    </tr>\n",
       "  </thead>\n",
       "  <tbody>\n",
       "    <tr>\n",
       "      <th>0</th>\n",
       "      <td>1</td>\n",
       "      <td>[me narrating a documentary about narrators] \"I can't hear what they're saying cuz I'm talking\"</td>\n",
       "    </tr>\n",
       "    <tr>\n",
       "      <th>1</th>\n",
       "      <td>2</td>\n",
       "      <td>Telling my daughter garlic is good for you. Good immune system and keeps pests away.Ticks, mosquitos, vampires... men.</td>\n",
       "    </tr>\n",
       "    <tr>\n",
       "      <th>2</th>\n",
       "      <td>3</td>\n",
       "      <td>I've been going through a really rough period at work this week It's my own fault for swapping my tampax for sand paper.</td>\n",
       "    </tr>\n",
       "    <tr>\n",
       "      <th>3</th>\n",
       "      <td>4</td>\n",
       "      <td>If I could have dinner with anyone, dead or alive... ...I would choose alive. -B.J. Novak-</td>\n",
       "    </tr>\n",
       "    <tr>\n",
       "      <th>4</th>\n",
       "      <td>5</td>\n",
       "      <td>Two guys walk into a bar. The third guy ducks.</td>\n",
       "    </tr>\n",
       "  </tbody>\n",
       "</table>\n",
       "</div>"
      ],
      "text/plain": [
       "   ID  \\\n",
       "0   1   \n",
       "1   2   \n",
       "2   3   \n",
       "3   4   \n",
       "4   5   \n",
       "\n",
       "                                                                                                                       Joke  \n",
       "0                           [me narrating a documentary about narrators] \"I can't hear what they're saying cuz I'm talking\"  \n",
       "1    Telling my daughter garlic is good for you. Good immune system and keeps pests away.Ticks, mosquitos, vampires... men.  \n",
       "2  I've been going through a really rough period at work this week It's my own fault for swapping my tampax for sand paper.  \n",
       "3                                If I could have dinner with anyone, dead or alive... ...I would choose alive. -B.J. Novak-  \n",
       "4                                                                            Two guys walk into a bar. The third guy ducks.  "
      ]
     },
     "execution_count": 3,
     "metadata": {},
     "output_type": "execute_result"
    }
   ],
   "source": [
    "df = pd.read_csv(path/'shortjokes.csv'); df.head()"
   ]
  },
  {
   "cell_type": "code",
   "execution_count": 4,
   "metadata": {},
   "outputs": [
    {
     "data": {
      "text/html": [],
      "text/plain": [
       "<IPython.core.display.HTML object>"
      ]
     },
     "metadata": {},
     "output_type": "display_data"
    },
    {
     "name": "stderr",
     "output_type": "stream",
     "text": [
      "/anaconda/envs/fastai2/lib/python3.8/site-packages/numpy/core/_asarray.py:83: VisibleDeprecationWarning: Creating an ndarray from ragged nested sequences (which is a list-or-tuple of lists-or-tuples-or ndarrays with different lengths or shapes) is deprecated. If you meant to do this, you must specify 'dtype=object' when creating the ndarray\n",
      "  return array(a, dtype, copy=False, order=order)\n"
     ]
    }
   ],
   "source": [
    "data_lm = TextDataLoaders.from_df(df, path, valid_pct=0.1, seed=7, text_col='Joke', is_lm=True)"
   ]
  },
  {
   "cell_type": "code",
   "execution_count": 5,
   "metadata": {},
   "outputs": [
    {
     "data": {
      "text/html": [
       "<table border=\"1\" class=\"dataframe\">\n",
       "  <thead>\n",
       "    <tr style=\"text-align: right;\">\n",
       "      <th></th>\n",
       "      <th>text</th>\n",
       "      <th>text_</th>\n",
       "    </tr>\n",
       "  </thead>\n",
       "  <tbody>\n",
       "    <tr>\n",
       "      <th>0</th>\n",
       "      <td>xxbos xxmaj church is the worst book club ever . xxmaj we 've been talking about the same book for 2 , xxrep 3 0 years and most of us still have n't even read it xxbos a starfish has five arms . xxmaj an xxunk has four eyes . xxmaj an octopus has three hearts . xxmaj and you 've got two faces . xxbos xxmaj my wife said she wanted</td>\n",
       "      <td>xxmaj church is the worst book club ever . xxmaj we 've been talking about the same book for 2 , xxrep 3 0 years and most of us still have n't even read it xxbos a starfish has five arms . xxmaj an xxunk has four eyes . xxmaj an octopus has three hearts . xxmaj and you 've got two faces . xxbos xxmaj my wife said she wanted more</td>\n",
       "    </tr>\n",
       "    <tr>\n",
       "      <th>1</th>\n",
       "      <td>xxmaj sir ? \" \" bacon my day , sonny ! \" [ sorry / xxunk - it 's how my mind works ] xxbos a xxmaj woman has an orgasm everytime she sneezes . xxmaj her friend is worried and asks , \" what do you take for it ? \" xxmaj she says , \" pepper . \" xxbos xxmaj my friend recently got crushed by a pile of books</td>\n",
       "      <td>sir ? \" \" bacon my day , sonny ! \" [ sorry / xxunk - it 's how my mind works ] xxbos a xxmaj woman has an orgasm everytime she sneezes . xxmaj her friend is worried and asks , \" what do you take for it ? \" xxmaj she says , \" pepper . \" xxbos xxmaj my friend recently got crushed by a pile of books but</td>\n",
       "    </tr>\n",
       "    <tr>\n",
       "      <th>2</th>\n",
       "      <td>: \" … \" xxmaj dad : \" hi xxup gay , xxup i 'm xxup dad \" xxbos xxmaj i 'm going to have an ear transplant later tonight . xxmaj thanks in advance for the well wishes ! xxbos xxmaj what do you call the guy you buy your weed from ? xxmaj your xxunk - xxunk . xxbos xxmaj when i was a kid i made all of my</td>\n",
       "      <td>\" … \" xxmaj dad : \" hi xxup gay , xxup i 'm xxup dad \" xxbos xxmaj i 'm going to have an ear transplant later tonight . xxmaj thanks in advance for the well wishes ! xxbos xxmaj what do you call the guy you buy your weed from ? xxmaj your xxunk - xxunk . xxbos xxmaj when i was a kid i made all of my toys</td>\n",
       "    </tr>\n",
       "    <tr>\n",
       "      <th>3</th>\n",
       "      <td>\" xxmaj they 're only good for one period and only have one string xxbos xxmaj just watched the movie 2012 and honestly i do n't remember any of that happening . xxbos xxmaj what 's the difference between xxmaj rob xxmaj ford and an xxmaj ethiopian child ? xxmaj rob xxmaj ford has more than enough to eat at home . xxbos xxmaj two monkeys get into a bath … xxmaj</td>\n",
       "      <td>xxmaj they 're only good for one period and only have one string xxbos xxmaj just watched the movie 2012 and honestly i do n't remember any of that happening . xxbos xxmaj what 's the difference between xxmaj rob xxmaj ford and an xxmaj ethiopian child ? xxmaj rob xxmaj ford has more than enough to eat at home . xxbos xxmaj two monkeys get into a bath … xxmaj the</td>\n",
       "    </tr>\n",
       "    <tr>\n",
       "      <th>4</th>\n",
       "      <td>making any promises to a girl , masturbate twice . xxmaj it may change your opinion . xxbos xxmaj talking to retirees in the complex . xxmaj they do n't care how many followers i have . xxmaj they 're all \" d - day this , xxmaj xxunk xxmaj xxunk that . \" xxmaj guh . xxup unfollow . xxbos xxmaj true friendship comes when the silence between two people is</td>\n",
       "      <td>any promises to a girl , masturbate twice . xxmaj it may change your opinion . xxbos xxmaj talking to retirees in the complex . xxmaj they do n't care how many followers i have . xxmaj they 're all \" d - day this , xxmaj xxunk xxmaj xxunk that . \" xxmaj guh . xxup unfollow . xxbos xxmaj true friendship comes when the silence between two people is comfortable</td>\n",
       "    </tr>\n",
       "    <tr>\n",
       "      <th>5</th>\n",
       "      <td>farmers always get women ? xxmaj because everyone knows they give good * head * . xxbos xxmaj my girlfriend broke up with me for talking about video games too much . xxmaj what a weird thing to fallout 4 . i know this is a repost but i just hoped this would blow up . xxbos xxmaj how do you find a blind man on a nude beach ? xxmaj it</td>\n",
       "      <td>always get women ? xxmaj because everyone knows they give good * head * . xxbos xxmaj my girlfriend broke up with me for talking about video games too much . xxmaj what a weird thing to fallout 4 . i know this is a repost but i just hoped this would blow up . xxbos xxmaj how do you find a blind man on a nude beach ? xxmaj it ai</td>\n",
       "    </tr>\n",
       "    <tr>\n",
       "      <th>6</th>\n",
       "      <td>what is this special type of waffle called a \" tennis racket \" and why does it taste like metal wires ? xxbos xxmaj stepped on an action figure in the shower and simultaneously invented six new cuss words in four different languages . xxbos xxmaj wanna hear a pizza joke ? xxmaj nah it 's too cheesy ! xxbos xxmaj man goes to a library asking for a book on suicide</td>\n",
       "      <td>is this special type of waffle called a \" tennis racket \" and why does it taste like metal wires ? xxbos xxmaj stepped on an action figure in the shower and simultaneously invented six new cuss words in four different languages . xxbos xxmaj wanna hear a pizza joke ? xxmaj nah it 's too cheesy ! xxbos xxmaj man goes to a library asking for a book on suicide …</td>\n",
       "    </tr>\n",
       "    <tr>\n",
       "      <th>7</th>\n",
       "      <td>directions . a xxmaj navajo . xxmaj i 'll leave now . xxbos i set up an internet page for xxmaj chinese xxmaj nazis . xxmaj so far it 's got 3 xxmaj reichs on xxmaj facebook . xxbos xxmaj tried to catch fog the other day … xxmaj mist xxbos xxmaj wife : \" too bad my tits are n't keyboards , maybe they 'd get some attention ! \" xxmaj</td>\n",
       "      <td>. a xxmaj navajo . xxmaj i 'll leave now . xxbos i set up an internet page for xxmaj chinese xxmaj nazis . xxmaj so far it 's got 3 xxmaj reichs on xxmaj facebook . xxbos xxmaj tried to catch fog the other day … xxmaj mist xxbos xxmaj wife : \" too bad my tits are n't keyboards , maybe they 'd get some attention ! \" xxmaj me</td>\n",
       "    </tr>\n",
       "    <tr>\n",
       "      <th>8</th>\n",
       "      <td>! xxmaj my mouth tastes like the bottom of a xxunk ! xxmaj dentist : xxmaj yes , i can see there 's been a cockatoo in there . xxbos i saved a bunch on my car insurance by making the switch .. xxmaj to reverse and driving away from the accident xxbos xxmaj what is xxmaj al xxmaj qaeda 's favourite team ? xxmaj new xxmaj york xxmaj jets xxbos xxmaj</td>\n",
       "      <td>xxmaj my mouth tastes like the bottom of a xxunk ! xxmaj dentist : xxmaj yes , i can see there 's been a cockatoo in there . xxbos i saved a bunch on my car insurance by making the switch .. xxmaj to reverse and driving away from the accident xxbos xxmaj what is xxmaj al xxmaj qaeda 's favourite team ? xxmaj new xxmaj york xxmaj jets xxbos xxmaj side</td>\n",
       "    </tr>\n",
       "  </tbody>\n",
       "</table>"
      ],
      "text/plain": [
       "<IPython.core.display.HTML object>"
      ]
     },
     "metadata": {},
     "output_type": "display_data"
    }
   ],
   "source": [
    "data_lm.show_batch()"
   ]
  },
  {
   "cell_type": "markdown",
   "metadata": {},
   "source": [
    "**Try using drop_mult=0.3 which has performed better on fastai1 with AWD LSTM**"
   ]
  },
  {
   "cell_type": "code",
   "execution_count": 49,
   "metadata": {},
   "outputs": [],
   "source": [
    "learn_lm = language_model_learner(data_lm, AWD_LSTM, metrics=[accuracy, Perplexity()], path=path, wd=0.1).to_fp16()"
   ]
  },
  {
   "cell_type": "code",
   "execution_count": 92,
   "metadata": {},
   "outputs": [
    {
     "data": {
      "text/html": [],
      "text/plain": [
       "<IPython.core.display.HTML object>"
      ]
     },
     "metadata": {},
     "output_type": "display_data"
    },
    {
     "data": {
      "text/plain": [
       "SuggestedLRs(lr_min=0.03630780577659607, lr_steep=0.04786301031708717)"
      ]
     },
     "execution_count": 92,
     "metadata": {},
     "output_type": "execute_result"
    },
    {
     "data": {
      "image/png": "[encoded data removed]",
      "text/plain": [
       "<Figure size 432x288 with 1 Axes>"
      ]
     },
     "metadata": {
      "needs_background": "light"
     },
     "output_type": "display_data"
    }
   ],
   "source": [
    "learn_lm.lr_find()"
   ]
  },
  {
   "cell_type": "code",
   "execution_count": 93,
   "metadata": {},
   "outputs": [],
   "source": [
    "learn_lm.fit_one_cycle??"
   ]
  },
  {
   "cell_type": "code",
   "execution_count": 28,
   "metadata": {
    "scrolled": true
   },
   "outputs": [
    {
     "data": {
      "text/html": [
       "<table border=\"1\" class=\"dataframe\">\n",
       "  <thead>\n",
       "    <tr style=\"text-align: left;\">\n",
       "      <th>epoch</th>\n",
       "      <th>train_loss</th>\n",
       "      <th>valid_loss</th>\n",
       "      <th>accuracy</th>\n",
       "      <th>perplexity</th>\n",
       "      <th>time</th>\n",
       "    </tr>\n",
       "  </thead>\n",
       "  <tbody>\n",
       "    <tr>\n",
       "      <td>0</td>\n",
       "      <td>4.231648</td>\n",
       "      <td>3.827815</td>\n",
       "      <td>0.334648</td>\n",
       "      <td>45.961994</td>\n",
       "      <td>18:21</td>\n",
       "    </tr>\n",
       "  </tbody>\n",
       "</table>"
      ],
      "text/plain": [
       "<IPython.core.display.HTML object>"
      ]
     },
     "metadata": {},
     "output_type": "display_data"
    }
   ],
   "source": [
    "learn_lm.fit_one_cycle(1, 3e-2)"
   ]
  },
  {
   "cell_type": "code",
   "execution_count": 11,
   "metadata": {},
   "outputs": [
    {
     "data": {
      "text/plain": [
       "Path('/home/advaitmb/notebooks/datasets/models/1epoch.pth')"
      ]
     },
     "execution_count": 11,
     "metadata": {},
     "output_type": "execute_result"
    }
   ],
   "source": [
    "learn_lm.save('new_1epoch')"
   ]
  },
  {
   "cell_type": "code",
   "execution_count": 50,
   "metadata": {},
   "outputs": [],
   "source": [
    "learn_lm = learn_lm.load('1epoch')"
   ]
  },
  {
   "cell_type": "markdown",
   "metadata": {},
   "source": [
    "Freezed model fine-tuning"
   ]
  },
  {
   "cell_type": "code",
   "execution_count": 51,
   "metadata": {},
   "outputs": [
    {
     "data": {
      "text/html": [
       "<table border=\"1\" class=\"dataframe\">\n",
       "  <thead>\n",
       "    <tr style=\"text-align: left;\">\n",
       "      <th>epoch</th>\n",
       "      <th>train_loss</th>\n",
       "      <th>valid_loss</th>\n",
       "      <th>accuracy</th>\n",
       "      <th>perplexity</th>\n",
       "      <th>time</th>\n",
       "    </tr>\n",
       "  </thead>\n",
       "  <tbody>\n",
       "    <tr>\n",
       "      <td>0</td>\n",
       "      <td>4.411040</td>\n",
       "      <td>3.963558</td>\n",
       "      <td>0.317454</td>\n",
       "      <td>52.644287</td>\n",
       "      <td>19:00</td>\n",
       "    </tr>\n",
       "    <tr>\n",
       "      <td>1</td>\n",
       "      <td>4.235998</td>\n",
       "      <td>3.814587</td>\n",
       "      <td>0.334261</td>\n",
       "      <td>45.358002</td>\n",
       "      <td>18:57</td>\n",
       "    </tr>\n",
       "    <tr>\n",
       "      <td>2</td>\n",
       "      <td>4.173708</td>\n",
       "      <td>3.773794</td>\n",
       "      <td>0.338691</td>\n",
       "      <td>43.544968</td>\n",
       "      <td>18:51</td>\n",
       "    </tr>\n",
       "    <tr>\n",
       "      <td>3</td>\n",
       "      <td>4.131014</td>\n",
       "      <td>3.756031</td>\n",
       "      <td>0.340658</td>\n",
       "      <td>42.778294</td>\n",
       "      <td>18:53</td>\n",
       "    </tr>\n",
       "    <tr>\n",
       "      <td>4</td>\n",
       "      <td>4.108287</td>\n",
       "      <td>3.752107</td>\n",
       "      <td>0.341137</td>\n",
       "      <td>42.610752</td>\n",
       "      <td>18:52</td>\n",
       "    </tr>\n",
       "  </tbody>\n",
       "</table>"
      ],
      "text/plain": [
       "<IPython.core.display.HTML object>"
      ]
     },
     "metadata": {},
     "output_type": "display_data"
    }
   ],
   "source": [
    "learn_lm.fit_one_cycle(5, 3e-3)"
   ]
  },
  {
   "cell_type": "markdown",
   "metadata": {},
   "source": [
    "Unfreezed model fine-tuning"
   ]
  },
  {
   "cell_type": "code",
   "execution_count": 34,
   "metadata": {},
   "outputs": [
    {
     "data": {
      "text/html": [
       "<table border=\"1\" class=\"dataframe\">\n",
       "  <thead>\n",
       "    <tr style=\"text-align: left;\">\n",
       "      <th>epoch</th>\n",
       "      <th>train_loss</th>\n",
       "      <th>valid_loss</th>\n",
       "      <th>accuracy</th>\n",
       "      <th>perplexity</th>\n",
       "      <th>time</th>\n",
       "    </tr>\n",
       "  </thead>\n",
       "  <tbody>\n",
       "    <tr>\n",
       "      <td>0</td>\n",
       "      <td>3.806759</td>\n",
       "      <td>3.614240</td>\n",
       "      <td>0.358794</td>\n",
       "      <td>37.123127</td>\n",
       "      <td>21:32</td>\n",
       "    </tr>\n",
       "    <tr>\n",
       "      <td>1</td>\n",
       "      <td>3.678196</td>\n",
       "      <td>3.433414</td>\n",
       "      <td>0.386771</td>\n",
       "      <td>30.982243</td>\n",
       "      <td>21:31</td>\n",
       "    </tr>\n",
       "    <tr>\n",
       "      <td>2</td>\n",
       "      <td>3.544537</td>\n",
       "      <td>3.328203</td>\n",
       "      <td>0.401229</td>\n",
       "      <td>27.888180</td>\n",
       "      <td>21:30</td>\n",
       "    </tr>\n",
       "    <tr>\n",
       "      <td>3</td>\n",
       "      <td>3.435940</td>\n",
       "      <td>3.256172</td>\n",
       "      <td>0.411960</td>\n",
       "      <td>25.950008</td>\n",
       "      <td>21:30</td>\n",
       "    </tr>\n",
       "    <tr>\n",
       "      <td>4</td>\n",
       "      <td>3.338380</td>\n",
       "      <td>3.236395</td>\n",
       "      <td>0.414796</td>\n",
       "      <td>25.441835</td>\n",
       "      <td>21:30</td>\n",
       "    </tr>\n",
       "  </tbody>\n",
       "</table>"
      ],
      "text/plain": [
       "<IPython.core.display.HTML object>"
      ]
     },
     "metadata": {},
     "output_type": "display_data"
    }
   ],
   "source": [
    "learn_lm.unfreeze()\n",
    "learn_lm.fit_one_cycle(5, 3e-3)"
   ]
  },
  {
   "cell_type": "code",
   "execution_count": 52,
   "metadata": {},
   "outputs": [
    {
     "data": {
      "text/plain": [
       "Path('/home/advaitmb/notebooks/datasets/models/5epochs_frozen.pth')"
      ]
     },
     "execution_count": 52,
     "metadata": {},
     "output_type": "execute_result"
    }
   ],
   "source": [
    "learn_lm.save('5epochs_frozen')"
   ]
  },
  {
   "cell_type": "code",
   "execution_count": 53,
   "metadata": {},
   "outputs": [],
   "source": [
    "learn.export('/home/advaitmb/notebooks/projects/PreDiction/5epochslearner_frozen.pkl')"
   ]
  },
  {
   "cell_type": "code",
   "execution_count": 35,
   "metadata": {},
   "outputs": [
    {
     "data": {
      "text/plain": [
       "Path('/home/advaitmb/notebooks/datasets/models/5epochs.pth')"
      ]
     },
     "execution_count": 35,
     "metadata": {},
     "output_type": "execute_result"
    }
   ],
   "source": [
    "learn_lm.save('5epochs')"
   ]
  },
  {
   "cell_type": "code",
   "execution_count": 11,
   "metadata": {},
   "outputs": [],
   "source": [
    "learn = learn_lm.load('5epochs')"
   ]
  },
  {
   "cell_type": "code",
   "execution_count": 12,
   "metadata": {},
   "outputs": [],
   "source": [
    "learn.export('/home/advaitmb/notebooks/projects/PreDiction/5epochslearner.pkl')"
   ]
  },
  {
   "cell_type": "code",
   "execution_count": 60,
   "metadata": {},
   "outputs": [
    {
     "data": {
      "text/html": [],
      "text/plain": [
       "<IPython.core.display.HTML object>"
      ]
     },
     "metadata": {},
     "output_type": "display_data"
    },
    {
     "data": {
      "text/plain": [
       "\"What do you think the Australian President on Halloween is ? a Halloween Party . What 's\""
      ]
     },
     "execution_count": 60,
     "metadata": {},
     "output_type": "execute_result"
    }
   ],
   "source": [
    "learn_lm.predict('What do you think', n_words=20, temperature=0.6)"
   ]
  },
  {
   "cell_type": "markdown",
   "metadata": {},
   "source": [
    "Beam Search Algorithm replicated from fastai1 "
   ]
  },
  {
   "cell_type": "code",
   "execution_count": 58,
   "metadata": {},
   "outputs": [],
   "source": [
    "def beam_search(learn, text:str, n_words:int, no_unk:bool=True, top_k:int=10, beam_sz:int=1000, temperature:float=1.,\n",
    "                    sep:str=' ', decoder=decode_spec_tokens):\n",
    "    learn.model.reset()\n",
    "    learn.model.eval()\n",
    "    idx = learn.dls.test_dl([text]).items[0][None]\n",
    "    nodes = None\n",
    "    nodes = idx.clone()\n",
    "    scores = idx.new_zeros(1).float()\n",
    "    if no_unk: unk_idx = learn.dls.vocab.index(UNK)\n",
    "    with torch.no_grad():\n",
    "        for k in progress_bar(range(n_words), leave=False):\n",
    "            out = F.log_softmax(learn.model(idx)[0][:,-1], dim=-1)\n",
    "            if no_unk: out[:, unk_idx] = -float('Inf')\n",
    "            values, indices = out.topk(top_k, dim=-1)\n",
    "            scores = (-values + scores[:,None]).view(-1)\n",
    "            indices_idx = torch.arange(0,nodes.size(0))[:,None].expand(nodes.size(0), top_k).contiguous().view(-1)\n",
    "            sort_idx = scores.argsort()[:beam_sz]\n",
    "            scores = scores[sort_idx]\n",
    "            nodes = torch.cat([nodes[:,None].expand(nodes.size(0),top_k,nodes.size(1)),\n",
    "                                    indices[:,:,None].expand(nodes.size(0),top_k,1),], dim=2)\n",
    "            nodes = nodes.view(-1, nodes.size(2))[sort_idx]\n",
    "            learn.hidden = [(h[0][:,indices_idx[sort_idx],:],h[1][:,indices_idx[sort_idx],:]) for h in learn.model[0].hidden]\n",
    "            idx = nodes[:,-1][:,None]\n",
    "        if temperature != 1.: scores.div_(temperature)\n",
    "        node_idx = torch.multinomial(torch.exp(-scores), 1).item()\n",
    "        num = learn.dls.train_ds.numericalize\n",
    "        tokens = [num.vocab[i] for i in nodes[node_idx][1:] if num.vocab[i] not in [BOS, PAD]]\n",
    "        sep = learn.dls.train_ds.tokenizer.sep\n",
    "        return sep.join(decoder(tokens))"
   ]
  },
  {
   "cell_type": "code",
   "execution_count": 56,
   "metadata": {},
   "outputs": [
    {
     "data": {
      "text/plain": [
       "<fastai.text.learner.LMLearner at 0x7f7fd8534f10>"
      ]
     },
     "execution_count": 56,
     "metadata": {},
     "output_type": "execute_result"
    }
   ],
   "source": [
    "learn_lm = load_learner('/home/advaitmb/notebooks/projects/PreDiction/5epochslearner_frozen.pkl'); learn_lm"
   ]
  },
  {
   "cell_type": "code",
   "execution_count": null,
   "metadata": {},
   "outputs": [],
   "source": [
    "beam_search(learn_lm, text='Hello I am', n_words=20, temperature=0.6)"
   ]
  },
  {
   "cell_type": "code",
   "execution_count": 15,
   "metadata": {
    "scrolled": true
   },
   "outputs": [
    {
     "ename": "NameError",
     "evalue": "name 'DatasetType' is not defined",
     "output_type": "error",
     "traceback": [
      "\u001b[0;31m---------------------------------------------------------------------------\u001b[0m",
      "\u001b[0;31mNameError\u001b[0m                                 Traceback (most recent call last)",
      "\u001b[0;32m<ipython-input-15-5bf76418e7e3>\u001b[0m in \u001b[0;36m<module>\u001b[0;34m\u001b[0m\n\u001b[0;32m----> 1\u001b[0;31m \u001b[0;32mdef\u001b[0m \u001b[0mpreds_acts\u001b[0m\u001b[0;34m(\u001b[0m\u001b[0mlearn\u001b[0m\u001b[0;34m,\u001b[0m \u001b[0mds_type\u001b[0m\u001b[0;34m=\u001b[0m\u001b[0mDatasetType\u001b[0m\u001b[0;34m.\u001b[0m\u001b[0mValid\u001b[0m\u001b[0;34m)\u001b[0m\u001b[0;34m:\u001b[0m\u001b[0;34m\u001b[0m\u001b[0;34m\u001b[0m\u001b[0m\n\u001b[0m\u001b[1;32m      2\u001b[0m     \u001b[0;34m\"Same as `get_predictions` but also returns non-reconstructed activations\"\u001b[0m\u001b[0;34m\u001b[0m\u001b[0;34m\u001b[0m\u001b[0m\n\u001b[1;32m      3\u001b[0m     \u001b[0mlearn\u001b[0m\u001b[0;34m.\u001b[0m\u001b[0mmodel\u001b[0m\u001b[0;34m.\u001b[0m\u001b[0meval\u001b[0m\u001b[0;34m(\u001b[0m\u001b[0;34m)\u001b[0m\u001b[0;34m\u001b[0m\u001b[0;34m\u001b[0m\u001b[0m\n\u001b[1;32m      4\u001b[0m     \u001b[0mds\u001b[0m \u001b[0;34m=\u001b[0m \u001b[0mlearn\u001b[0m\u001b[0;34m.\u001b[0m\u001b[0mdata\u001b[0m\u001b[0;34m.\u001b[0m\u001b[0mtrain_ds\u001b[0m\u001b[0;34m\u001b[0m\u001b[0;34m\u001b[0m\u001b[0m\n\u001b[1;32m      5\u001b[0m     \u001b[0mrxs\u001b[0m\u001b[0;34m,\u001b[0m\u001b[0mrys\u001b[0m\u001b[0;34m,\u001b[0m\u001b[0mrzs\u001b[0m\u001b[0;34m,\u001b[0m\u001b[0mxs\u001b[0m\u001b[0;34m,\u001b[0m\u001b[0mys\u001b[0m\u001b[0;34m,\u001b[0m\u001b[0mzs\u001b[0m \u001b[0;34m=\u001b[0m \u001b[0;34m[\u001b[0m\u001b[0;34m]\u001b[0m\u001b[0;34m,\u001b[0m\u001b[0;34m[\u001b[0m\u001b[0;34m]\u001b[0m\u001b[0;34m,\u001b[0m\u001b[0;34m[\u001b[0m\u001b[0;34m]\u001b[0m\u001b[0;34m,\u001b[0m\u001b[0;34m[\u001b[0m\u001b[0;34m]\u001b[0m\u001b[0;34m,\u001b[0m\u001b[0;34m[\u001b[0m\u001b[0;34m]\u001b[0m\u001b[0;34m,\u001b[0m\u001b[0;34m[\u001b[0m\u001b[0;34m]\u001b[0m \u001b[0;31m# 'r' == 'reconstructed'\u001b[0m\u001b[0;34m\u001b[0m\u001b[0;34m\u001b[0m\u001b[0m\n",
      "\u001b[0;31mNameError\u001b[0m: name 'DatasetType' is not defined"
     ]
    }
   ],
   "source": [
    "def preds_acts(learn, ds_type=DatasetType.Valid):\n",
    "    \"Same as `get_predictions` but also returns non-reconstructed activations\"\n",
    "    learn.model.eval()\n",
    "    ds = learn.data.train_ds\n",
    "    rxs,rys,rzs,xs,ys,zs = [],[],[],[],[],[] # 'r' == 'reconstructed'\n",
    "    with torch.no_grad():\n",
    "        for xb,yb in progress_bar(learn.dl(ds_type)):\n",
    "            out = learn.model(xb)\n",
    "            for x,y,z in zip(xb,yb,out):\n",
    "                rxs.append(ds.x.reconstruct(x))\n",
    "                rys.append(ds.y.reconstruct(y))\n",
    "                preds = z.argmax(1)\n",
    "                rzs.append(ds.y.reconstruct(preds))\n",
    "                for a,b in zip([xs,ys,zs],[x,y,z]): a.append(b)\n",
    "    return rxs,rys,rzs,xs,ys,zs"
   ]
  },
  {
   "cell_type": "code",
   "execution_count": null,
   "metadata": {},
   "outputs": [],
   "source": [
    "def select_topk(outp, k=5):\n",
    "    probs = F.softmax(outp,dim=-1)\n",
    "    vals,idxs = probs.topk(k, dim=-1)\n",
    "    return idxs[torch.randint(k, (1,))]"
   ]
  },
  {
   "cell_type": "code",
   "execution_count": null,
   "metadata": {},
   "outputs": [],
   "source": [
    "def select_nucleus(outp, p=0.5):\n",
    "    probs = F.softmax(outp,dim=-1)\n",
    "    idxs = torch.argsort(probs, descending=True)\n",
    "    res,cumsum = [],0.\n",
    "    for idx in idxs:\n",
    "        res.append(idx)\n",
    "        cumsum += probs[idx]\n",
    "        if cumsum>p: return idxs.new_tensor([choice(res)])"
   ]
  },
  {
   "cell_type": "code",
   "execution_count": null,
   "metadata": {},
   "outputs": [],
   "source": [
    "def decode(self, inp):\n",
    "    inp = inp[None]\n",
    "    bs, sl = inp.size()\n",
    "    hid,enc_out = self.encoder(bs, inp)\n",
    "    dec_inp = inp.new_zeros(bs).long() + self.bos_idx\n",
    "    enc_att = self.enc_att(enc_out)\n",
    "\n",
    "    res = []\n",
    "    for i in range(self.out_sl):\n",
    "        hid, outp = self.decoder(dec_inp, hid, enc_att, enc_out)\n",
    "        dec_inp = select_nucleus(outp[0], p=0.3)\n",
    "#         dec_inp = select_topk(outp[0], k=2)\n",
    "        res.append(dec_inp)\n",
    "        if (dec_inp==self.pad_idx).all(): break\n",
    "    return torch.cat(res)"
   ]
  },
  {
   "cell_type": "code",
   "execution_count": null,
   "metadata": {},
   "outputs": [],
   "source": [
    "def predict_with_decode(learn, x, y):\n",
    "    learn.model.eval()\n",
    "    ds = learn.data.train_ds\n",
    "    with torch.no_grad():\n",
    "        out = decode(learn.model, x)\n",
    "        rx = ds.x.reconstruct(x)\n",
    "        ry = ds.y.reconstruct(y)\n",
    "        rz = ds.y.reconstruct(out)\n",
    "    return rx,ry,rz"
   ]
  },
  {
   "cell_type": "code",
   "execution_count": null,
   "metadata": {},
   "outputs": [],
   "source": [
    " def predict(self, text, n_words=1, no_unk=True, temperature=1., min_p=None, no_bar=False,\n",
    "                decoder=decode_spec_tokens, only_last_word=False):\n",
    "        \"Return `text` and the `n_words` that come after\"\n",
    "        self.model.reset()\n",
    "        idxs = idxs_all = self.dls.test_dl([text]).items[0].to(self.dls.device)\n",
    "        if no_unk: unk_idx = self.dls.vocab.index(UNK)\n",
    "        for _ in (range(n_words) if no_bar else progress_bar(range(n_words), leave=False)):\n",
    "            with self.no_bar(): preds,_ = self.get_preds(dl=[(idxs[None],)])\n",
    "            res = preds[0][-1]\n",
    "            if no_unk: res[unk_idx] = 0.\n",
    "            if min_p is not None:\n",
    "                if (res >= min_p).float().sum() == 0:\n",
    "                    warn(f\"There is no item with probability >= {min_p}, try a lower value.\")\n",
    "                else: res[res < min_p] = 0.\n",
    "            if temperature != 1.: res.pow_(1 / temperature)\n",
    "            idx = torch.multinomial(res, 1).item()\n",
    "            idxs = idxs_all = torch.cat([idxs_all, idxs.new([idx])])\n",
    "            if only_last_word: idxs = idxs[-1][None]\n",
    "\n",
    "        num = self.dls.train_ds.numericalize\n",
    "        tokens = [num.vocab[i] for i in idxs_all if num.vocab[i] not in [BOS, PAD]]\n",
    "        sep = self.dls.train_ds.tokenizer.sep\n",
    "        return sep.join(decoder(tokens))"
   ]
  },
  {
   "cell_type": "code",
   "execution_count": null,
   "metadata": {},
   "outputs": [],
   "source": [
    "def beam_search(self, text:str, n_words:int, no_unk:bool=True, top_k:int=10, beam_sz:int=1000, temperature:float=1.,\n",
    "                    sep:str=' ', decoder=decode_spec_tokens):\n",
    "        \"Return the `n_words` that come after `text` using beam search.\"\n",
    "        self.model.reset()\n",
    "        self.model.eval()\n",
    "        xb, yb = self.data.one_item(text)\n",
    "        nodes = None\n",
    "        nodes = xb.clone()\n",
    "        scores = xb.new_zeros(1).float()\n",
    "        with torch.no_grad():\n",
    "            for k in progress_bar(range(n_words), leave=False):\n",
    "                out = F.log_softmax(self.model(xb)[0][:,-1], dim=-1)\n",
    "                if no_unk: out[:,self.data.vocab.stoi[UNK]] = -float('Inf')\n",
    "                values, indices = out.topk(top_k, dim=-1)\n",
    "                scores = (-values + scores[:,None]).view(-1)\n",
    "                indices_idx = torch.arange(0,nodes.size(0))[:,None].expand(nodes.size(0), top_k).contiguous().view(-1)\n",
    "                sort_idx = scores.argsort()[:beam_sz]\n",
    "                scores = scores[sort_idx]\n",
    "                nodes = torch.cat([nodes[:,None].expand(nodes.size(0),top_k,nodes.size(1)),\n",
    "                                indices[:,:,None].expand(nodes.size(0),top_k,1),], dim=2)\n",
    "                nodes = nodes.view(-1, nodes.size(2))[sort_idx]\n",
    "                self.model[0].select_hidden(indices_idx[sort_idx])\n",
    "                xb = nodes[:,-1][:,None]\n",
    "        if temperature != 1.: scores.div_(temperature)\n",
    "        node_idx = torch.multinomial(torch.exp(-scores), 1).item()\n",
    "        return text + sep + sep.join(decoder(self.data.vocab.textify([i.item() for i in nodes[node_idx][1:] ], sep=None)))"
   ]
  },
  {
   "cell_type": "code",
   "execution_count": 18,
   "metadata": {},
   "outputs": [],
   "source": [
    "text = \"Hello I am\""
   ]
  },
  {
   "cell_type": "code",
   "execution_count": 19,
   "metadata": {},
   "outputs": [],
   "source": [
    "n_words = 10\n",
    "no_unk=True\n",
    "top_k = 10\n",
    "beam_sz = 1000\n",
    "temperature=1.\n",
    "sep:str=' '\n",
    "decoder=decode_spec_tokens"
   ]
  },
  {
   "cell_type": "code",
   "execution_count": null,
   "metadata": {},
   "outputs": [],
   "source": [
    "learn.model.reset()\n",
    "learn.model.eval()\n",
    "idx = learn.dls.test_dl([text]).items[0][None]\n",
    "nodes = None\n",
    "nodes = idx.clone()\n",
    "scores = idx.new_zeros(1).float()\n",
    "\n",
    "# if no_unk: unk_idx = learn.dls.vocab.index(UNK)\n",
    "with torch.no_grad():\n",
    "    for k in progress_bar(range(n_words), leave=False):\n",
    "        out = F.log_softmax(learn.model(idx)[0][:,-1], dim=-1)\n",
    "#         if no_unk: out[unk_idx] = 0.\n",
    "        values, indices = out.topk(top_k, dim=-1)\n",
    "        scores = (-values + scores[:,None]).view(-1)\n",
    "        indices_idx = torch.arange(0,nodes.size(0))[:,None].expand(nodes.size(0), top_k).contiguous().view(-1)\n",
    "        sort_idx = scores.argsort()[:beam_sz]\n",
    "        scores = scores[sort_idx]\n",
    "        nodes = torch.cat([nodes[:,None].expand(nodes.size(0),top_k,nodes.size(1)),\n",
    "                                indices[:,:,None].expand(nodes.size(0),top_k,1),], dim=2)\n",
    "        nodes = nodes.view(-1, nodes.size(2))[sort_idx]\n",
    "        learn.hidden = [(h[0][:,indices_idx[sort_idx],:],h[1][:,indices_idx[sort_idx],:]) for h in learn.model[0].hidden]\n",
    "        idx = nodes[:,-1][:,None]\n",
    "    if temperature != 1.: scores.div_(0.6)\n",
    "    node_idx = torch.multinomial(torch.exp(-scores), 1).item()\n",
    "    num = learn.dls.train_ds.numericalize\n",
    "    tokens = [num.vocab[i] for i in nodes[node_idx][1:] if num.vocab[i] not in [BOS, PAD]]\n",
    "    sep = learn.dls.train_ds.tokenizer.sep\n",
    "    print(sep.join(decoder(tokens)))"
   ]
  },
  {
   "cell_type": "code",
   "execution_count": null,
   "metadata": {},
   "outputs": [],
   "source": []
  }
 ],
 "metadata": {
  "kernelspec": {
   "display_name": "fastai2",
   "language": "python",
   "name": "fastai2"
  },
  "language_info": {
   "codemirror_mode": {
    "name": "ipython",
    "version": 3
   },
   "file_extension": ".py",
   "mimetype": "text/x-python",
   "name": "python",
   "nbconvert_exporter": "python",
   "pygments_lexer": "ipython3",
   "version": "3.8.2"
  }
 },
 "nbformat": 4,
 "nbformat_minor": 4
}
