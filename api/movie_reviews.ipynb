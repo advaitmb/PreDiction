{
 "cells": [
  {
   "cell_type": "code",
   "execution_count": 1,
   "metadata": {},
   "outputs": [],
   "source": [
    "from fastai.text.all import *\n",
    "from pathlib import Path\n",
    "import pandas as pd\n",
    "from random import choice\n",
    "import re\n",
    "import random"
   ]
  },
  {
   "cell_type": "code",
   "execution_count": 2,
   "metadata": {},
   "outputs": [
    {
     "data": {
      "text/plain": [
       "'2.0.19'"
      ]
     },
     "execution_count": 2,
     "metadata": {},
     "output_type": "execute_result"
    }
   ],
   "source": [
    "import fastai\n",
    "fastai.__version__"
   ]
  },
  {
   "cell_type": "code",
   "execution_count": 3,
   "metadata": {},
   "outputs": [],
   "source": [
    "path = Path('/home/advaitmb/notebooks/projects/PreDiction/data/pos')"
   ]
  },
  {
   "cell_type": "code",
   "execution_count": 4,
   "metadata": {},
   "outputs": [],
   "source": [
    "dls = TextDataLoaders.from_folder(path, valid_pct=0.2, bs=16, is_lm=True)"
   ]
  },
  {
   "cell_type": "code",
   "execution_count": 5,
   "metadata": {},
   "outputs": [
    {
     "data": {
      "text/html": [
       "<table border=\"1\" class=\"dataframe\">\n",
       "  <thead>\n",
       "    <tr style=\"text-align: right;\">\n",
       "      <th></th>\n",
       "      <th>text</th>\n",
       "      <th>text_</th>\n",
       "    </tr>\n",
       "  </thead>\n",
       "  <tbody>\n",
       "    <tr>\n",
       "      <th>0</th>\n",
       "      <td>xxbos xxbos xxmaj if you can not enjoy a chick flick , stop right now . xxmaj if , however , you enjoy films that illustrate complex characters and provide extraordinary acting , read on . \\n\\n▁ xxmaj ann xxmaj grant xxmaj lord is dying . xxmaj her two daughters arrive to be at her bedside . xxmaj ann begins talking about people from her past of whom the daughters are unaware</td>\n",
       "      <td>xxbos xxmaj if you can not enjoy a chick flick , stop right now . xxmaj if , however , you enjoy films that illustrate complex characters and provide extraordinary acting , read on . \\n\\n▁ xxmaj ann xxmaj grant xxmaj lord is dying . xxmaj her two daughters arrive to be at her bedside . xxmaj ann begins talking about people from her past of whom the daughters are unaware ,</td>\n",
       "    </tr>\n",
       "    <tr>\n",
       "      <th>1</th>\n",
       "      <td>of the enjoyment . xxbos xxbos i just bought this movie on xxup dvd and watched it for the first time the other night . xxmaj i ' ve been a fan of xxmaj tolkien 's work for about 4 years now , ever since i got out of high school . i did n't grow up on this movie … perhaps my mother kept me away from it . xxmaj it</td>\n",
       "      <td>the enjoyment . xxbos xxbos i just bought this movie on xxup dvd and watched it for the first time the other night . xxmaj i ' ve been a fan of xxmaj tolkien 's work for about 4 years now , ever since i got out of high school . i did n't grow up on this movie … perhaps my mother kept me away from it . xxmaj it 's</td>\n",
       "    </tr>\n",
       "    <tr>\n",
       "      <th>2</th>\n",
       "      <td>wonderland . ' \\n\\n▁ xxmaj vote : 6 xxbos xxbos i ran across this several years ago while channel surfing on a xxmaj sunday afternoon . xxmaj though it was obviously a cheesy xxup tv movie from the 70s , the direction and score were well done enough that it grabbed my attention , and indeed i was hooked and had to watch it through to the end . i recently got</td>\n",
       "      <td>. ' \\n\\n▁ xxmaj vote : 6 xxbos xxbos i ran across this several years ago while channel surfing on a xxmaj sunday afternoon . xxmaj though it was obviously a cheesy xxup tv movie from the 70s , the direction and score were well done enough that it grabbed my attention , and indeed i was hooked and had to watch it through to the end . i recently got the</td>\n",
       "    </tr>\n",
       "    <tr>\n",
       "      <th>3</th>\n",
       "      <td>xxmaj my xxmaj father is a sincere effort yes , but also a film that could have done with a much tighter screenplay . xxmaj what we learn from the film is that xxmaj gandhi and xxmaj harilal made each other very unhappy . xxmaj and with this film , the director makes us too . xxbos xxbos xxmaj i m not a big xxmaj tim xxmaj matheson fan but i have</td>\n",
       "      <td>my xxmaj father is a sincere effort yes , but also a film that could have done with a much tighter screenplay . xxmaj what we learn from the film is that xxmaj gandhi and xxmaj harilal made each other very unhappy . xxmaj and with this film , the director makes us too . xxbos xxbos xxmaj i m not a big xxmaj tim xxmaj matheson fan but i have to</td>\n",
       "    </tr>\n",
       "    <tr>\n",
       "      <th>4</th>\n",
       "      <td>and xxmaj alan xxmaj curtis . xxmaj and he does it , i might add , without a lot of help from his male actors , i.e. , xxmaj curtis and xxmaj tone . xxmaj it 's xxmaj raines all the way , a pretty , xxunk actress who for one reason or another never reached the status of some of her \" noir \" counterparts . \\n\\n▁ xxmaj siodmak 's use</td>\n",
       "      <td>xxmaj alan xxmaj curtis . xxmaj and he does it , i might add , without a lot of help from his male actors , i.e. , xxmaj curtis and xxmaj tone . xxmaj it 's xxmaj raines all the way , a pretty , xxunk actress who for one reason or another never reached the status of some of her \" noir \" counterparts . \\n\\n▁ xxmaj siodmak 's use of</td>\n",
       "    </tr>\n",
       "    <tr>\n",
       "      <th>5</th>\n",
       "      <td>kids ' movie it is unsophisticated - it is n't , there 's a lot of hidden treasure … a gem ! xxbos xxbos i just ca n't believe some of the comments on this show ! xxmaj the show is just genius ! xxmaj sure it does n't follow the tried and true , but do we as consumers always want the same things thrust at us over and over again</td>\n",
       "      <td>' movie it is unsophisticated - it is n't , there 's a lot of hidden treasure … a gem ! xxbos xxbos i just ca n't believe some of the comments on this show ! xxmaj the show is just genius ! xxmaj sure it does n't follow the tried and true , but do we as consumers always want the same things thrust at us over and over again .</td>\n",
       "    </tr>\n",
       "    <tr>\n",
       "      <th>6</th>\n",
       "      <td>. xxmaj now , xxmaj michael xxmaj douglas takes the xxup xxunk persona and morphs it into a xxmaj secret xxmaj service agent , xxmaj pete xxmaj garrison . xxmaj guess what ? xxmaj it works ! xxmaj this is a solid political thriller that kept me guessing . xxmaj the detail work in showing the security precautions taken by the xxup ss on behalf of the xxmaj president and xxmaj first</td>\n",
       "      <td>xxmaj now , xxmaj michael xxmaj douglas takes the xxup xxunk persona and morphs it into a xxmaj secret xxmaj service agent , xxmaj pete xxmaj garrison . xxmaj guess what ? xxmaj it works ! xxmaj this is a solid political thriller that kept me guessing . xxmaj the detail work in showing the security precautions taken by the xxup ss on behalf of the xxmaj president and xxmaj first xxmaj</td>\n",
       "    </tr>\n",
       "    <tr>\n",
       "      <th>7</th>\n",
       "      <td>be . xxmaj and xxmaj richard xxmaj kiley , who later would become a xxunk time xxmaj tony award winning star on xxmaj broadway , is convincingly slippery and cowardly . xxmaj it 's hard to remember that he was the actor who inflicted on us , i mean introduced to us , \" the xxmaj impossible xxmaj dream \" from xxmaj man of xxmaj la xxmaj xxunk , \\n\\n▁ xxmaj more</td>\n",
       "      <td>. xxmaj and xxmaj richard xxmaj kiley , who later would become a xxunk time xxmaj tony award winning star on xxmaj broadway , is convincingly slippery and cowardly . xxmaj it 's hard to remember that he was the actor who inflicted on us , i mean introduced to us , \" the xxmaj impossible xxmaj dream \" from xxmaj man of xxmaj la xxmaj xxunk , \\n\\n▁ xxmaj more than</td>\n",
       "    </tr>\n",
       "    <tr>\n",
       "      <th>8</th>\n",
       "      <td>combine for the bittersweet , and honest climax . xxmaj it is the first effort of xxmaj juan xxmaj gerard , but it is honest as he is and his passion and heart really come through , in this sincere first effort . i would definitely see it again , and hope that he continues his film career . xxbos xxbos xxmaj the xxmaj sopranos is probably the most widely acclaimed xxup</td>\n",
       "      <td>for the bittersweet , and honest climax . xxmaj it is the first effort of xxmaj juan xxmaj gerard , but it is honest as he is and his passion and heart really come through , in this sincere first effort . i would definitely see it again , and hope that he continues his film career . xxbos xxbos xxmaj the xxmaj sopranos is probably the most widely acclaimed xxup tv</td>\n",
       "    </tr>\n",
       "  </tbody>\n",
       "</table>"
      ],
      "text/plain": [
       "<IPython.core.display.HTML object>"
      ]
     },
     "metadata": {},
     "output_type": "display_data"
    }
   ],
   "source": [
    "dls.show_batch()"
   ]
  },
  {
   "cell_type": "code",
   "execution_count": 6,
   "metadata": {},
   "outputs": [],
   "source": [
    "learn = language_model_learner(dls, AWD_LSTM, metrics=[accuracy, Perplexity()], path=path, wd=0.1).to_fp16()"
   ]
  },
  {
   "cell_type": "code",
   "execution_count": 7,
   "metadata": {},
   "outputs": [
    {
     "data": {
      "text/html": [
       "<table border=\"1\" class=\"dataframe\">\n",
       "  <thead>\n",
       "    <tr style=\"text-align: left;\">\n",
       "      <th>epoch</th>\n",
       "      <th>train_loss</th>\n",
       "      <th>valid_loss</th>\n",
       "      <th>accuracy</th>\n",
       "      <th>perplexity</th>\n",
       "      <th>time</th>\n",
       "    </tr>\n",
       "  </thead>\n",
       "  <tbody>\n",
       "    <tr>\n",
       "      <td>0</td>\n",
       "      <td>4.519285</td>\n",
       "      <td>4.144101</td>\n",
       "      <td>0.286592</td>\n",
       "      <td>63.060883</td>\n",
       "      <td>15:34</td>\n",
       "    </tr>\n",
       "  </tbody>\n",
       "</table>"
      ],
      "text/plain": [
       "<IPython.core.display.HTML object>"
      ]
     },
     "metadata": {},
     "output_type": "display_data"
    }
   ],
   "source": [
    "learn.fit_one_cycle(1, 1e-2)"
   ]
  },
  {
   "cell_type": "code",
   "execution_count": 8,
   "metadata": {},
   "outputs": [
    {
     "data": {
      "text/html": [
       "<table border=\"1\" class=\"dataframe\">\n",
       "  <thead>\n",
       "    <tr style=\"text-align: left;\">\n",
       "      <th>epoch</th>\n",
       "      <th>train_loss</th>\n",
       "      <th>valid_loss</th>\n",
       "      <th>accuracy</th>\n",
       "      <th>perplexity</th>\n",
       "      <th>time</th>\n",
       "    </tr>\n",
       "  </thead>\n",
       "  <tbody>\n",
       "    <tr>\n",
       "      <td>0</td>\n",
       "      <td>4.315786</td>\n",
       "      <td>4.072969</td>\n",
       "      <td>0.294143</td>\n",
       "      <td>58.731075</td>\n",
       "      <td>18:09</td>\n",
       "    </tr>\n",
       "    <tr>\n",
       "      <td>1</td>\n",
       "      <td>4.267145</td>\n",
       "      <td>4.032541</td>\n",
       "      <td>0.298864</td>\n",
       "      <td>56.404068</td>\n",
       "      <td>18:01</td>\n",
       "    </tr>\n",
       "    <tr>\n",
       "      <td>2</td>\n",
       "      <td>4.167310</td>\n",
       "      <td>3.975636</td>\n",
       "      <td>0.306082</td>\n",
       "      <td>53.283997</td>\n",
       "      <td>18:02</td>\n",
       "    </tr>\n",
       "    <tr>\n",
       "      <td>3</td>\n",
       "      <td>4.082956</td>\n",
       "      <td>3.919205</td>\n",
       "      <td>0.312347</td>\n",
       "      <td>50.360378</td>\n",
       "      <td>18:02</td>\n",
       "    </tr>\n",
       "    <tr>\n",
       "      <td>4</td>\n",
       "      <td>3.984837</td>\n",
       "      <td>3.905212</td>\n",
       "      <td>0.313773</td>\n",
       "      <td>49.660625</td>\n",
       "      <td>18:02</td>\n",
       "    </tr>\n",
       "  </tbody>\n",
       "</table>"
      ],
      "text/plain": [
       "<IPython.core.display.HTML object>"
      ]
     },
     "metadata": {},
     "output_type": "display_data"
    }
   ],
   "source": [
    "learn.unfreeze()\n",
    "learn.fit_one_cycle(5, 1e-3)"
   ]
  },
  {
   "cell_type": "code",
   "execution_count": 9,
   "metadata": {},
   "outputs": [],
   "source": [
    "learn.export('/home/advaitmb/notebooks/projects/PreDiction/api/movie_reviews_pos_5epochs.pkl')"
   ]
  },
  {
   "cell_type": "code",
   "execution_count": 25,
   "metadata": {},
   "outputs": [],
   "source": [
    "learn = load_learner('/home/advaitmb/notebooks/projects/PreDiction/api/movie_reviews_pos_5epochs.pkl')"
   ]
  },
  {
   "cell_type": "code",
   "execution_count": 31,
   "metadata": {},
   "outputs": [
    {
     "data": {
      "text/html": [],
      "text/plain": [
       "<IPython.core.display.HTML object>"
      ]
     },
     "metadata": {},
     "output_type": "display_data"
    },
    {
     "data": {
      "text/plain": [
       "\"This is the worst movie i have ever seen . The cast was very good , especially Sally Kellerman . She was beautiful and so found her character very funny , and the only thing that i enjoyed was the fact that she had the ' worst ' of the movie , but that was not quite the best . The movie was n't too good , it was\""
      ]
     },
     "execution_count": 31,
     "metadata": {},
     "output_type": "execute_result"
    }
   ],
   "source": [
    "learn.predict(\"This is the worst\", n_words=70, temperature=0.7)"
   ]
  },
  {
   "cell_type": "code",
   "execution_count": 10,
   "metadata": {},
   "outputs": [],
   "source": [
    "path = Path('/home/advaitmb/notebooks/projects/PreDiction/data/neg')"
   ]
  },
  {
   "cell_type": "code",
   "execution_count": 11,
   "metadata": {},
   "outputs": [],
   "source": [
    "dls = TextDataLoaders.from_folder(path, valid_pct=0.2, bs=16, is_lm=True)"
   ]
  },
  {
   "cell_type": "code",
   "execution_count": 34,
   "metadata": {},
   "outputs": [
    {
     "data": {
      "text/html": [
       "<table border=\"1\" class=\"dataframe\">\n",
       "  <thead>\n",
       "    <tr style=\"text-align: right;\">\n",
       "      <th></th>\n",
       "      <th>text</th>\n",
       "      <th>text_</th>\n",
       "    </tr>\n",
       "  </thead>\n",
       "  <tbody>\n",
       "    <tr>\n",
       "      <th>0</th>\n",
       "      <td>xxbos i was honestly surprised by xxmaj alone in the xxmaj dark . xxmaj it was so bad , i could hardly believe what i was seeing . xxmaj there are no characters , just a few stereotypes wandering around and getting killed . xxmaj the extent of the character development was giving each character a name and an occupation , and that 's about it . xxmaj there was no real</td>\n",
       "      <td>i was honestly surprised by xxmaj alone in the xxmaj dark . xxmaj it was so bad , i could hardly believe what i was seeing . xxmaj there are no characters , just a few stereotypes wandering around and getting killed . xxmaj the extent of the character development was giving each character a name and an occupation , and that 's about it . xxmaj there was no real plot</td>\n",
       "    </tr>\n",
       "    <tr>\n",
       "      <th>1</th>\n",
       "      <td>and makeup job by some talented designer ) ; xxmaj joanna xxmaj lumley is compelling as novelist xxmaj xxunk xxmaj xxunk ; and xxmaj kirsten xxmaj dunst is winning as xxmaj marion xxmaj davies ( though why movies never use her real - life stutter is difficult to explain ) . xxmaj but these elements do n't add up to a successful whole . xxmaj the screenwriter seems to have worked very</td>\n",
       "      <td>makeup job by some talented designer ) ; xxmaj joanna xxmaj lumley is compelling as novelist xxmaj xxunk xxmaj xxunk ; and xxmaj kirsten xxmaj dunst is winning as xxmaj marion xxmaj davies ( though why movies never use her real - life stutter is difficult to explain ) . xxmaj but these elements do n't add up to a successful whole . xxmaj the screenwriter seems to have worked very hard</td>\n",
       "    </tr>\n",
       "    <tr>\n",
       "      <th>2</th>\n",
       "      <td>the \" message \" of the show , that the good are good and the bad are bad and that at the end of the day the good shall prevail and that we should all love each other , be better man and better citizens , all done in the most xxunk manner . xxmaj the actors , as the vehicles of this message and nothing more than that , will use</td>\n",
       "      <td>\" message \" of the show , that the good are good and the bad are bad and that at the end of the day the good shall prevail and that we should all love each other , be better man and better citizens , all done in the most xxunk manner . xxmaj the actors , as the vehicles of this message and nothing more than that , will use a</td>\n",
       "    </tr>\n",
       "    <tr>\n",
       "      <th>3</th>\n",
       "      <td>. \\n\\n the acting was bad . the directing was bad . the writing was bad . the plot was bad . the music was bad . the editing was bad . … .well , at least the filmmakers were consistent . xxbos xxmaj is it a coincidence that xxmaj orca was made two years after xxmaj jaws ? xxmaj orca is n't exactly a \" jaws rip off \" but it</td>\n",
       "      <td>\\n\\n the acting was bad . the directing was bad . the writing was bad . the plot was bad . the music was bad . the editing was bad . … .well , at least the filmmakers were consistent . xxbos xxmaj is it a coincidence that xxmaj orca was made two years after xxmaj jaws ? xxmaj orca is n't exactly a \" jaws rip off \" but it is</td>\n",
       "    </tr>\n",
       "    <tr>\n",
       "      <th>4</th>\n",
       "      <td>z horror flicks from yesteryear . xxmaj what xxmaj robert xxmaj wagner , xxmaj tom xxmaj bosley and xxmaj geoffrey xxmaj lewis were doing in this movies is beyond me and they should look at xxunk against their agents for misrepresentation for getting them involved with such a dreck of a movie . xxmaj my warning to one and all is watch this movie at your peril as this movie may cause</td>\n",
       "      <td>horror flicks from yesteryear . xxmaj what xxmaj robert xxmaj wagner , xxmaj tom xxmaj bosley and xxmaj geoffrey xxmaj lewis were doing in this movies is beyond me and they should look at xxunk against their agents for misrepresentation for getting them involved with such a dreck of a movie . xxmaj my warning to one and all is watch this movie at your peril as this movie may cause your</td>\n",
       "    </tr>\n",
       "    <tr>\n",
       "      <th>5</th>\n",
       "      <td>never experience anything as bad as this again . xxmaj acting - 0 , script - 0 , fight scenes - 0 , male lead - 0 ( xxunk bob from eight mile as a suave war hero who gets the girl ) , xxmaj nadia xxmaj bjorlin - 10 ( she is gorgeous and not a terrible actress ) . xxmaj this is the criteria i used to average it out</td>\n",
       "      <td>experience anything as bad as this again . xxmaj acting - 0 , script - 0 , fight scenes - 0 , male lead - 0 ( xxunk bob from eight mile as a suave war hero who gets the girl ) , xxmaj nadia xxmaj bjorlin - 10 ( she is gorgeous and not a terrible actress ) . xxmaj this is the criteria i used to average it out to</td>\n",
       "    </tr>\n",
       "    <tr>\n",
       "      <th>6</th>\n",
       "      <td>sure to down tequila , like the laughable opening song details \" ai n't no mercy in xxmaj angel xxmaj town \" \\n\\n * out of 4-(bad ) xxbos i am a xxmaj christian … and i feel this movie is awful . \\n\\n xxmaj nobody but hard - core , xxmaj bible - belt xxmaj christians are going to like this movie . xxmaj the message is just too in your</td>\n",
       "      <td>to down tequila , like the laughable opening song details \" ai n't no mercy in xxmaj angel xxmaj town \" \\n\\n * out of 4-(bad ) xxbos i am a xxmaj christian … and i feel this movie is awful . \\n\\n xxmaj nobody but hard - core , xxmaj bible - belt xxmaj christians are going to like this movie . xxmaj the message is just too in your face</td>\n",
       "    </tr>\n",
       "    <tr>\n",
       "      <th>7</th>\n",
       "      <td>\" john xxmaj hughes ' son wrote a high school drama ! xxmaj wow ! \" i thought as i checked the flick 's info here on imdb , late on a xxmaj saturday night , having found myself watching the opening credits on xxup bbc2 . \\n\\n xxmaj i 've just finished watching it , and sadly it was downhill from there on . xxmaj arguably you ca n't spoil a</td>\n",
       "      <td>john xxmaj hughes ' son wrote a high school drama ! xxmaj wow ! \" i thought as i checked the flick 's info here on imdb , late on a xxmaj saturday night , having found myself watching the opening credits on xxup bbc2 . \\n\\n xxmaj i 've just finished watching it , and sadly it was downhill from there on . xxmaj arguably you ca n't spoil a film</td>\n",
       "    </tr>\n",
       "    <tr>\n",
       "      <th>8</th>\n",
       "      <td>musical for crying out loud ! xxmaj who decided to do all of that ? ! \\n\\n i really am a very huge fan of xxmaj gene xxmaj kelly , but this movie is probably the worst of a musical that he ever did ! xxmaj the movie looked more like a xxmaj hollywood set than the beautiful xxmaj highlands of xxmaj scotland . xxmaj and who the heck decided to cut</td>\n",
       "      <td>for crying out loud ! xxmaj who decided to do all of that ? ! \\n\\n i really am a very huge fan of xxmaj gene xxmaj kelly , but this movie is probably the worst of a musical that he ever did ! xxmaj the movie looked more like a xxmaj hollywood set than the beautiful xxmaj highlands of xxmaj scotland . xxmaj and who the heck decided to cut all</td>\n",
       "    </tr>\n",
       "  </tbody>\n",
       "</table>"
      ],
      "text/plain": [
       "<IPython.core.display.HTML object>"
      ]
     },
     "metadata": {},
     "output_type": "display_data"
    }
   ],
   "source": [
    "dls.show_batch()"
   ]
  },
  {
   "cell_type": "code",
   "execution_count": 12,
   "metadata": {},
   "outputs": [],
   "source": [
    "learn = language_model_learner(dls, AWD_LSTM, metrics=[accuracy, Perplexity()], path=path, wd=0.1).to_fp16()"
   ]
  },
  {
   "cell_type": "code",
   "execution_count": 13,
   "metadata": {},
   "outputs": [
    {
     "data": {
      "text/html": [
       "<table border=\"1\" class=\"dataframe\">\n",
       "  <thead>\n",
       "    <tr style=\"text-align: left;\">\n",
       "      <th>epoch</th>\n",
       "      <th>train_loss</th>\n",
       "      <th>valid_loss</th>\n",
       "      <th>accuracy</th>\n",
       "      <th>perplexity</th>\n",
       "      <th>time</th>\n",
       "    </tr>\n",
       "  </thead>\n",
       "  <tbody>\n",
       "    <tr>\n",
       "      <td>0</td>\n",
       "      <td>4.633214</td>\n",
       "      <td>4.243040</td>\n",
       "      <td>0.271220</td>\n",
       "      <td>69.619148</td>\n",
       "      <td>14:49</td>\n",
       "    </tr>\n",
       "  </tbody>\n",
       "</table>"
      ],
      "text/plain": [
       "<IPython.core.display.HTML object>"
      ]
     },
     "metadata": {},
     "output_type": "display_data"
    }
   ],
   "source": [
    "learn.fit_one_cycle(1, 1e-2)"
   ]
  },
  {
   "cell_type": "code",
   "execution_count": 14,
   "metadata": {},
   "outputs": [
    {
     "data": {
      "text/html": [
       "<table border=\"1\" class=\"dataframe\">\n",
       "  <thead>\n",
       "    <tr style=\"text-align: left;\">\n",
       "      <th>epoch</th>\n",
       "      <th>train_loss</th>\n",
       "      <th>valid_loss</th>\n",
       "      <th>accuracy</th>\n",
       "      <th>perplexity</th>\n",
       "      <th>time</th>\n",
       "    </tr>\n",
       "  </thead>\n",
       "  <tbody>\n",
       "    <tr>\n",
       "      <td>0</td>\n",
       "      <td>4.374521</td>\n",
       "      <td>4.165117</td>\n",
       "      <td>0.279557</td>\n",
       "      <td>64.400200</td>\n",
       "      <td>17:16</td>\n",
       "    </tr>\n",
       "    <tr>\n",
       "      <td>1</td>\n",
       "      <td>4.297310</td>\n",
       "      <td>4.108261</td>\n",
       "      <td>0.288241</td>\n",
       "      <td>60.840801</td>\n",
       "      <td>17:13</td>\n",
       "    </tr>\n",
       "    <tr>\n",
       "      <td>2</td>\n",
       "      <td>4.229843</td>\n",
       "      <td>4.049145</td>\n",
       "      <td>0.294391</td>\n",
       "      <td>57.348389</td>\n",
       "      <td>17:13</td>\n",
       "    </tr>\n",
       "    <tr>\n",
       "      <td>3</td>\n",
       "      <td>4.095900</td>\n",
       "      <td>4.001687</td>\n",
       "      <td>0.300243</td>\n",
       "      <td>54.690311</td>\n",
       "      <td>17:16</td>\n",
       "    </tr>\n",
       "    <tr>\n",
       "      <td>4</td>\n",
       "      <td>4.044089</td>\n",
       "      <td>3.986514</td>\n",
       "      <td>0.301932</td>\n",
       "      <td>53.866776</td>\n",
       "      <td>17:13</td>\n",
       "    </tr>\n",
       "  </tbody>\n",
       "</table>"
      ],
      "text/plain": [
       "<IPython.core.display.HTML object>"
      ]
     },
     "metadata": {},
     "output_type": "display_data"
    }
   ],
   "source": [
    "learn.unfreeze()\n",
    "learn.fit_one_cycle(5, 1e-3)"
   ]
  },
  {
   "cell_type": "code",
   "execution_count": 15,
   "metadata": {},
   "outputs": [],
   "source": [
    "learn.export('/home/advaitmb/notebooks/projects/PreDiction/api/movie_reviews_neg_5epochs.pkl')"
   ]
  },
  {
   "cell_type": "code",
   "execution_count": null,
   "metadata": {},
   "outputs": [],
   "source": []
  }
 ],
 "metadata": {
  "kernelspec": {
   "display_name": "fastai2",
   "language": "python",
   "name": "fastai2"
  },
  "language_info": {
   "codemirror_mode": {
    "name": "ipython",
    "version": 3
   },
   "file_extension": ".py",
   "mimetype": "text/x-python",
   "name": "python",
   "nbconvert_exporter": "python",
   "pygments_lexer": "ipython3",
   "version": "3.8.2"
  }
 },
 "nbformat": 4,
 "nbformat_minor": 4
}
